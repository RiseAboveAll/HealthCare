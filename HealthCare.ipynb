{
  "nbformat": 4,
  "nbformat_minor": 0,
  "metadata": {
    "colab": {
      "name": "HealthCare.ipynb",
      "provenance": [],
      "collapsed_sections": [
        "j5ZdGIvytyyR",
        "9d5zHpFcxEMk",
        "q-4iMWKSGpEC",
        "Gnjb6bVdMoXh",
        "cGtenz2vTtrv",
        "vvTTIEKuTwDK",
        "tm6HAhgEUg7v",
        "Iwf06QTwU3Tf",
        "82eT5x3UAf0x",
        "jsdA5KOiBIej"
      ],
      "mount_file_id": "1WrlFL_9Hi7Z62Vz3pOjjAFCeFTtjG4gX",
      "authorship_tag": "ABX9TyN+ktDgxkU+EdDAa527KzcV",
      "include_colab_link": true
    },
    "kernelspec": {
      "name": "python3",
      "display_name": "Python 3"
    },
    "accelerator": "GPU"
  },
  "cells": [
    {
      "cell_type": "markdown",
      "metadata": {
        "id": "view-in-github",
        "colab_type": "text"
      },
      "source": [
        "<a href=\"https://colab.research.google.com/github/RiseAboveAll/HealthCare/blob/master/HealthCare.ipynb\" target=\"_parent\"><img src=\"https://colab.research.google.com/assets/colab-badge.svg\" alt=\"Open In Colab\"/></a>"
      ]
    },
    {
      "cell_type": "markdown",
      "metadata": {
        "id": "cUZsi0CxDLFu",
        "colab_type": "text"
      },
      "source": [
        "Prerequisites :\n",
        "\n",
        "- Use Google Colab\n",
        "\n",
        "- Basic understanding of Machine Learning and specially Trees\n",
        "\n",
        "- Understanding of Python"
      ]
    },
    {
      "cell_type": "markdown",
      "metadata": {
        "id": "6D-W80vrjEZ_",
        "colab_type": "text"
      },
      "source": [
        "### Problem Statement"
      ]
    },
    {
      "cell_type": "markdown",
      "metadata": {
        "id": "qnCD_kPpjIyF",
        "colab_type": "text"
      },
      "source": [
        "Congratulations – you have been hired as Chief Data Scientist of MedCamp – a not for profit organization dedicated in making health conditions for working professionals better. MedCamp was started because the founders saw their family suffer due to bad work life balance and neglected health.\n",
        "\n",
        "\n",
        "\n",
        "MedCamp organizes health camps in several cities with low work life balance. They reach out to working people and ask them to register for these health camps. For those who attend, MedCamp provides them facility to undergo health checks or increase awareness by visiting various stalls (depending on the format of camp). \n",
        "\n",
        "\n",
        "MedCamp has conducted 65 such events over a period of 4 years and they see a high drop off between “Registration” and Number of people taking tests at the Camps. In last 4 years, they have stored data of ~110,000 registrations they have done.\n",
        "\n",
        "\n",
        "One of the huge costs in arranging these camps is the amount of inventory you need to carry. If you carry more than required inventory, you incur unnecessarily high costs. On the other hand, if you carry less than required inventory for conducting these medical checks, people end up having bad experience.\n",
        "\n",
        "\n",
        "**The Process:**\n",
        "\n",
        "  1. MedCamp employees / volunteers reach out to people and drive registrations.\n",
        "\n",
        "  2. During the camp, People who “ShowUp” either undergo the medical tests or visit stalls depending on the format of health camp.\n",
        "\n",
        "**Other things to note:**\n",
        "  \n",
        "  1. Since this is a completely voluntary activity for the working professionals, MedCamp usually has little profile information about these people.\n",
        "\n",
        "  2. For a few camps, there was hardware failure, so some information about date and time of registration is lost.\n",
        "\n",
        "  3. MedCamp runs 3 formats of these camps. The first and second format provides people with an instantaneous health score. The third format provides information about several health issues through various awareness stalls.\n",
        "\n",
        "**Target Variable**\n",
        "\n",
        "**Favorable outcome:**\n",
        "\n",
        "  1. For the first 2 formats, a favourable outcome is defined as getting a health_score, while in the third format it is defined as visiting at least a stall.\n",
        "\n",
        "  2. You need to predict the chances (probability) of having a favourable outcome.\n"
      ]
    },
    {
      "cell_type": "markdown",
      "metadata": {
        "id": "PXyI3IXQku7J",
        "colab_type": "text"
      },
      "source": [
        "#### Data Description"
      ]
    },
    {
      "cell_type": "markdown",
      "metadata": {
        "id": "7Hk7K8g7kzZe",
        "colab_type": "text"
      },
      "source": [
        "- Health_Camp_Detail.csv – File containing Health_Camp_Id, Camp_Start_Date, Camp_End_Date and Category details of each camp. https://raw.githubusercontent.com/RiseAboveAll/HealthCare/master/Health_Camp_Detail.csv\n",
        "\n",
        "- Train.csv – File containing registration details for all the test camps. This includes Patient_ID, Health_Camp_ID, Registration_Date and a few anonymized variables as on registration date. https://raw.githubusercontent.com/RiseAboveAll/HealthCare/master/Train.csv\n",
        "\n",
        "- Patient_Profile.csv – This file contains Patient profile details like Patient_ID, Online_Follower, Social media details, Income, Education, Age, First_Interaction_Date, City_Type and Employer_Category https://raw.githubusercontent.com/RiseAboveAll/HealthCare/master/Patient_Profile.csv\n",
        "\n",
        "- First_Health_Camp_Attended.csv – This file contains details about people who attended health camp of first format. This includes Donation (amount) & Health_Score of the person. https://raw.githubusercontent.com/RiseAboveAll/HealthCare/master/First_Health_Camp_Attended.csv\n",
        "\n",
        "- Second_Health_Camp_Attended.csv - This file contains details about people who attended health camp of second format. This includes Health_Score of the person. https://raw.githubusercontent.com/RiseAboveAll/HealthCare/master/Second_Health_Camp_Attended.csv\n",
        "\n",
        "- Third_Health_Camp_Attended.csv - This file contains details about people who attended health camp of third format. This includes Number_of_stall_visited & Last_Stall_Visited_Number. https://raw.githubusercontent.com/RiseAboveAll/HealthCare/master/Third_Health_Camp_Attended.csv "
      ]
    },
    {
      "cell_type": "markdown",
      "metadata": {
        "id": "SuinqHRnkRh8",
        "colab_type": "text"
      },
      "source": [
        "### Information on XGBOOST installation"
      ]
    },
    {
      "cell_type": "markdown",
      "metadata": {
        "id": "8sMJQOsWqNVj",
        "colab_type": "text"
      },
      "source": [
        "An alternate way to install XGBoost if you cannot use pip or you want to run the latest code from GitHub requires that you make a clone of the XGBoost project and perform a manual build and installation.\n",
        "\n",
        "For example to build XGBoost without multithreading on Mac OS X (with GCC already installed via macports or homebrew), you can type:\n",
        "\n",
        "```\n",
        "\n",
        "git clone --recursive https://github.com/dmlc/xgboost\n",
        "cd xgboost\n",
        "cp make/minimum.mk ./config.mk\n",
        "make -j4\n",
        "cd python-package\n",
        "sudo python setup.py install\n",
        "\n",
        "```"
      ]
    },
    {
      "cell_type": "markdown",
      "metadata": {
        "id": "-Qaye6kRkXib",
        "colab_type": "text"
      },
      "source": [
        "### Installing and Importing Libraries"
      ]
    },
    {
      "cell_type": "code",
      "metadata": {
        "id": "-0xeFXfLpa-c",
        "colab_type": "code",
        "colab": {
          "base_uri": "https://localhost:8080/",
          "height": 66
        },
        "outputId": "a0937bfb-b47e-434b-ab64-8d387c96c9c4"
      },
      "source": [
        "!pip install xgboost"
      ],
      "execution_count": null,
      "outputs": [
        {
          "output_type": "stream",
          "text": [
            "Requirement already satisfied: xgboost in /usr/local/lib/python3.6/dist-packages (1.1.1)\n",
            "Requirement already satisfied: scipy in /usr/local/lib/python3.6/dist-packages (from xgboost) (1.4.1)\n",
            "Requirement already satisfied: numpy in /usr/local/lib/python3.6/dist-packages (from xgboost) (1.18.5)\n"
          ],
          "name": "stdout"
        }
      ]
    },
    {
      "cell_type": "code",
      "metadata": {
        "id": "FjHaYvdapdqo",
        "colab_type": "code",
        "colab": {
          "base_uri": "https://localhost:8080/",
          "height": 66
        },
        "outputId": "142617d4-5734-435f-e55d-241d5620a961"
      },
      "source": [
        "!pip install --upgrade xgboost"
      ],
      "execution_count": null,
      "outputs": [
        {
          "output_type": "stream",
          "text": [
            "Requirement already up-to-date: xgboost in /usr/local/lib/python3.6/dist-packages (1.1.1)\n",
            "Requirement already satisfied, skipping upgrade: scipy in /usr/local/lib/python3.6/dist-packages (from xgboost) (1.4.1)\n",
            "Requirement already satisfied, skipping upgrade: numpy in /usr/local/lib/python3.6/dist-packages (from xgboost) (1.18.5)\n"
          ],
          "name": "stdout"
        }
      ]
    },
    {
      "cell_type": "code",
      "metadata": {
        "id": "Nc4SBE5Xss9U",
        "colab_type": "code",
        "colab": {
          "base_uri": "https://localhost:8080/",
          "height": 50
        },
        "outputId": "78e5f53d-0154-4767-a882-2d4d712c55fb"
      },
      "source": [
        "import pandas as pd\n",
        "import numpy as np \n",
        "import re\n",
        "import seaborn as sns\n",
        "from sklearn import preprocessing, metrics\n",
        "from sklearn.model_selection import train_test_split as tts\n",
        "from sklearn.tree import DecisionTreeClassifier as DTC\n",
        "from sklearn.feature_selection import RFE\n",
        "from sklearn.metrics import classification_report, confusion_matrix\n",
        "from xgboost import XGBClassifier"
      ],
      "execution_count": 1,
      "outputs": [
        {
          "output_type": "stream",
          "text": [
            "/usr/local/lib/python3.6/dist-packages/statsmodels/tools/_testing.py:19: FutureWarning: pandas.util.testing is deprecated. Use the functions in the public API at pandas.testing instead.\n",
            "  import pandas.util.testing as tm\n"
          ],
          "name": "stderr"
        }
      ]
    },
    {
      "cell_type": "code",
      "metadata": {
        "id": "iDklBG5OzYRr",
        "colab_type": "code",
        "colab": {}
      },
      "source": [
        ""
      ],
      "execution_count": null,
      "outputs": []
    },
    {
      "cell_type": "markdown",
      "metadata": {
        "id": "su6xw5U_NAbw",
        "colab_type": "text"
      },
      "source": [
        "**Above warning is coming because seaborn packages are not updated by the seaborn library maintainer**"
      ]
    },
    {
      "cell_type": "markdown",
      "metadata": {
        "id": "j5ZdGIvytyyR",
        "colab_type": "text"
      },
      "source": [
        "### Importing Files For Merging and Creating Final Training Dataset"
      ]
    },
    {
      "cell_type": "code",
      "metadata": {
        "id": "_LWy6txRtNaJ",
        "colab_type": "code",
        "colab": {
          "base_uri": "https://localhost:8080/",
          "height": 33
        },
        "outputId": "c290ae3b-c379-4e15-e572-da19b7643972"
      },
      "source": [
        "data_path = \"/content/drive/My Drive/HealthCare Analytics/Train/\"\n",
        "fhc = pd.read_csv( data_path + \"First_Health_Camp_Attended.csv\" )\n",
        "shc = pd.read_csv( data_path + \"Second_Health_Camp_Attended.csv\" )\n",
        "thc = pd.read_csv( data_path + \"Third_Health_Camp_Attended.csv\" )\n",
        "print(fhc.shape, shc.shape, thc.shape)"
      ],
      "execution_count": 2,
      "outputs": [
        {
          "output_type": "stream",
          "text": [
            "(6218, 5) (7819, 3) (6515, 4)\n"
          ],
          "name": "stdout"
        }
      ]
    },
    {
      "cell_type": "code",
      "metadata": {
        "id": "JGRuFys5t7uR",
        "colab_type": "code",
        "colab": {
          "base_uri": "https://localhost:8080/"
        },
        "outputId": "7cc8ee2a-4172-452d-ac3b-78e57c688f85"
      },
      "source": [
        "fhc.head()"
      ],
      "execution_count": null,
      "outputs": [
        {
          "output_type": "execute_result",
          "data": {
            "text/html": [
              "<div>\n",
              "<style scoped>\n",
              "    .dataframe tbody tr th:only-of-type {\n",
              "        vertical-align: middle;\n",
              "    }\n",
              "\n",
              "    .dataframe tbody tr th {\n",
              "        vertical-align: top;\n",
              "    }\n",
              "\n",
              "    .dataframe thead th {\n",
              "        text-align: right;\n",
              "    }\n",
              "</style>\n",
              "<table border=\"1\" class=\"dataframe\">\n",
              "  <thead>\n",
              "    <tr style=\"text-align: right;\">\n",
              "      <th></th>\n",
              "      <th>Patient_ID</th>\n",
              "      <th>Health_Camp_ID</th>\n",
              "      <th>Donation</th>\n",
              "      <th>Health_Score</th>\n",
              "      <th>Unnamed: 4</th>\n",
              "    </tr>\n",
              "  </thead>\n",
              "  <tbody>\n",
              "    <tr>\n",
              "      <th>0</th>\n",
              "      <td>506181</td>\n",
              "      <td>6560</td>\n",
              "      <td>40</td>\n",
              "      <td>0.439024</td>\n",
              "      <td>NaN</td>\n",
              "    </tr>\n",
              "    <tr>\n",
              "      <th>1</th>\n",
              "      <td>494977</td>\n",
              "      <td>6560</td>\n",
              "      <td>20</td>\n",
              "      <td>0.097561</td>\n",
              "      <td>NaN</td>\n",
              "    </tr>\n",
              "    <tr>\n",
              "      <th>2</th>\n",
              "      <td>518680</td>\n",
              "      <td>6560</td>\n",
              "      <td>10</td>\n",
              "      <td>0.048780</td>\n",
              "      <td>NaN</td>\n",
              "    </tr>\n",
              "    <tr>\n",
              "      <th>3</th>\n",
              "      <td>509916</td>\n",
              "      <td>6560</td>\n",
              "      <td>30</td>\n",
              "      <td>0.634146</td>\n",
              "      <td>NaN</td>\n",
              "    </tr>\n",
              "    <tr>\n",
              "      <th>4</th>\n",
              "      <td>488006</td>\n",
              "      <td>6560</td>\n",
              "      <td>20</td>\n",
              "      <td>0.024390</td>\n",
              "      <td>NaN</td>\n",
              "    </tr>\n",
              "  </tbody>\n",
              "</table>\n",
              "</div>"
            ],
            "text/plain": [
              "   Patient_ID  Health_Camp_ID  Donation  Health_Score  Unnamed: 4\n",
              "0      506181            6560        40      0.439024         NaN\n",
              "1      494977            6560        20      0.097561         NaN\n",
              "2      518680            6560        10      0.048780         NaN\n",
              "3      509916            6560        30      0.634146         NaN\n",
              "4      488006            6560        20      0.024390         NaN"
            ]
          },
          "metadata": {
            "tags": []
          },
          "execution_count": 338
        }
      ]
    },
    {
      "cell_type": "code",
      "metadata": {
        "id": "cjIzqMrstlEb",
        "colab_type": "code",
        "colab": {}
      },
      "source": [
        "fhc = fhc[['Patient_ID','Health_Camp_ID','Health_Score']]\n",
        "fhc = fhc.rename(columns={'Health_Score': 'Outcome'})"
      ],
      "execution_count": 3,
      "outputs": []
    },
    {
      "cell_type": "code",
      "metadata": {
        "id": "pRyJIAlduNP8",
        "colab_type": "code",
        "colab": {
          "base_uri": "https://localhost:8080/"
        },
        "outputId": "e45ef060-25ea-47f7-f88e-a3d33ee5e320"
      },
      "source": [
        "fhc.head()"
      ],
      "execution_count": null,
      "outputs": [
        {
          "output_type": "execute_result",
          "data": {
            "text/html": [
              "<div>\n",
              "<style scoped>\n",
              "    .dataframe tbody tr th:only-of-type {\n",
              "        vertical-align: middle;\n",
              "    }\n",
              "\n",
              "    .dataframe tbody tr th {\n",
              "        vertical-align: top;\n",
              "    }\n",
              "\n",
              "    .dataframe thead th {\n",
              "        text-align: right;\n",
              "    }\n",
              "</style>\n",
              "<table border=\"1\" class=\"dataframe\">\n",
              "  <thead>\n",
              "    <tr style=\"text-align: right;\">\n",
              "      <th></th>\n",
              "      <th>Patient_ID</th>\n",
              "      <th>Health_Camp_ID</th>\n",
              "      <th>Outcome</th>\n",
              "    </tr>\n",
              "  </thead>\n",
              "  <tbody>\n",
              "    <tr>\n",
              "      <th>0</th>\n",
              "      <td>506181</td>\n",
              "      <td>6560</td>\n",
              "      <td>0.439024</td>\n",
              "    </tr>\n",
              "    <tr>\n",
              "      <th>1</th>\n",
              "      <td>494977</td>\n",
              "      <td>6560</td>\n",
              "      <td>0.097561</td>\n",
              "    </tr>\n",
              "    <tr>\n",
              "      <th>2</th>\n",
              "      <td>518680</td>\n",
              "      <td>6560</td>\n",
              "      <td>0.048780</td>\n",
              "    </tr>\n",
              "    <tr>\n",
              "      <th>3</th>\n",
              "      <td>509916</td>\n",
              "      <td>6560</td>\n",
              "      <td>0.634146</td>\n",
              "    </tr>\n",
              "    <tr>\n",
              "      <th>4</th>\n",
              "      <td>488006</td>\n",
              "      <td>6560</td>\n",
              "      <td>0.024390</td>\n",
              "    </tr>\n",
              "  </tbody>\n",
              "</table>\n",
              "</div>"
            ],
            "text/plain": [
              "   Patient_ID  Health_Camp_ID   Outcome\n",
              "0      506181            6560  0.439024\n",
              "1      494977            6560  0.097561\n",
              "2      518680            6560  0.048780\n",
              "3      509916            6560  0.634146\n",
              "4      488006            6560  0.024390"
            ]
          },
          "metadata": {
            "tags": []
          },
          "execution_count": 340
        }
      ]
    },
    {
      "cell_type": "code",
      "metadata": {
        "id": "YZ5iuhSPuKif",
        "colab_type": "code",
        "colab": {}
      },
      "source": [
        "shc = shc[['Patient_ID','Health_Camp_ID','Health Score']]\n",
        "shc = shc.rename(columns={'Health Score': 'Outcome'})"
      ],
      "execution_count": 4,
      "outputs": []
    },
    {
      "cell_type": "code",
      "metadata": {
        "id": "taNSbXzMvBKy",
        "colab_type": "code",
        "colab": {
          "base_uri": "https://localhost:8080/"
        },
        "outputId": "7df49483-4c1f-4098-b9bc-2802579639ab"
      },
      "source": [
        "shc.head()"
      ],
      "execution_count": null,
      "outputs": [
        {
          "output_type": "execute_result",
          "data": {
            "text/html": [
              "<div>\n",
              "<style scoped>\n",
              "    .dataframe tbody tr th:only-of-type {\n",
              "        vertical-align: middle;\n",
              "    }\n",
              "\n",
              "    .dataframe tbody tr th {\n",
              "        vertical-align: top;\n",
              "    }\n",
              "\n",
              "    .dataframe thead th {\n",
              "        text-align: right;\n",
              "    }\n",
              "</style>\n",
              "<table border=\"1\" class=\"dataframe\">\n",
              "  <thead>\n",
              "    <tr style=\"text-align: right;\">\n",
              "      <th></th>\n",
              "      <th>Patient_ID</th>\n",
              "      <th>Health_Camp_ID</th>\n",
              "      <th>Outcome</th>\n",
              "    </tr>\n",
              "  </thead>\n",
              "  <tbody>\n",
              "    <tr>\n",
              "      <th>0</th>\n",
              "      <td>526631</td>\n",
              "      <td>6536</td>\n",
              "      <td>0.875136</td>\n",
              "    </tr>\n",
              "    <tr>\n",
              "      <th>1</th>\n",
              "      <td>509122</td>\n",
              "      <td>6536</td>\n",
              "      <td>0.755700</td>\n",
              "    </tr>\n",
              "    <tr>\n",
              "      <th>2</th>\n",
              "      <td>498864</td>\n",
              "      <td>6536</td>\n",
              "      <td>0.673181</td>\n",
              "    </tr>\n",
              "    <tr>\n",
              "      <th>3</th>\n",
              "      <td>515398</td>\n",
              "      <td>6536</td>\n",
              "      <td>0.722041</td>\n",
              "    </tr>\n",
              "    <tr>\n",
              "      <th>4</th>\n",
              "      <td>504624</td>\n",
              "      <td>6536</td>\n",
              "      <td>0.464712</td>\n",
              "    </tr>\n",
              "  </tbody>\n",
              "</table>\n",
              "</div>"
            ],
            "text/plain": [
              "   Patient_ID  Health_Camp_ID   Outcome\n",
              "0      526631            6536  0.875136\n",
              "1      509122            6536  0.755700\n",
              "2      498864            6536  0.673181\n",
              "3      515398            6536  0.722041\n",
              "4      504624            6536  0.464712"
            ]
          },
          "metadata": {
            "tags": []
          },
          "execution_count": 343
        }
      ]
    },
    {
      "cell_type": "markdown",
      "metadata": {
        "id": "m-7o1QHOwReD",
        "colab_type": "text"
      },
      "source": [
        "**Since we want to convert our outcome variable in terms of binary variable , i.e in terms of 0 and 1 hence we rename 'Number_of_stall_visited' Column as Outcome**"
      ]
    },
    {
      "cell_type": "code",
      "metadata": {
        "id": "2U7E03qwuwcc",
        "colab_type": "code",
        "colab": {
          "base_uri": "https://localhost:8080/",
          "height": 33
        },
        "outputId": "f1694bea-2ef8-44f9-a0a1-94ccbb3ae172"
      },
      "source": [
        "thc = thc[['Patient_ID','Health_Camp_ID','Number_of_stall_visited']]\n",
        "thc = thc[thc['Number_of_stall_visited']>0]\n",
        "thc = thc.rename(columns={'Number_of_stall_visited': 'Outcome'})\n",
        "print(fhc.shape, shc.shape, thc.shape)"
      ],
      "execution_count": 5,
      "outputs": [
        {
          "output_type": "stream",
          "text": [
            "(6218, 3) (7819, 3) (6497, 3)\n"
          ],
          "name": "stdout"
        }
      ]
    },
    {
      "cell_type": "code",
      "metadata": {
        "id": "r-NLwoKRu1iy",
        "colab_type": "code",
        "colab": {
          "base_uri": "https://localhost:8080/"
        },
        "outputId": "4d2b134a-0b86-4fa1-954d-1a708d8732b4"
      },
      "source": [
        "thc.head()"
      ],
      "execution_count": null,
      "outputs": [
        {
          "output_type": "execute_result",
          "data": {
            "text/html": [
              "<div>\n",
              "<style scoped>\n",
              "    .dataframe tbody tr th:only-of-type {\n",
              "        vertical-align: middle;\n",
              "    }\n",
              "\n",
              "    .dataframe tbody tr th {\n",
              "        vertical-align: top;\n",
              "    }\n",
              "\n",
              "    .dataframe thead th {\n",
              "        text-align: right;\n",
              "    }\n",
              "</style>\n",
              "<table border=\"1\" class=\"dataframe\">\n",
              "  <thead>\n",
              "    <tr style=\"text-align: right;\">\n",
              "      <th></th>\n",
              "      <th>Patient_ID</th>\n",
              "      <th>Health_Camp_ID</th>\n",
              "      <th>Outcome</th>\n",
              "    </tr>\n",
              "  </thead>\n",
              "  <tbody>\n",
              "    <tr>\n",
              "      <th>0</th>\n",
              "      <td>517875</td>\n",
              "      <td>6527</td>\n",
              "      <td>3</td>\n",
              "    </tr>\n",
              "    <tr>\n",
              "      <th>1</th>\n",
              "      <td>504692</td>\n",
              "      <td>6578</td>\n",
              "      <td>1</td>\n",
              "    </tr>\n",
              "    <tr>\n",
              "      <th>2</th>\n",
              "      <td>504692</td>\n",
              "      <td>6527</td>\n",
              "      <td>3</td>\n",
              "    </tr>\n",
              "    <tr>\n",
              "      <th>3</th>\n",
              "      <td>493167</td>\n",
              "      <td>6527</td>\n",
              "      <td>4</td>\n",
              "    </tr>\n",
              "    <tr>\n",
              "      <th>4</th>\n",
              "      <td>510954</td>\n",
              "      <td>6528</td>\n",
              "      <td>2</td>\n",
              "    </tr>\n",
              "  </tbody>\n",
              "</table>\n",
              "</div>"
            ],
            "text/plain": [
              "   Patient_ID  Health_Camp_ID  Outcome\n",
              "0      517875            6527        3\n",
              "1      504692            6578        1\n",
              "2      504692            6527        3\n",
              "3      493167            6527        4\n",
              "4      510954            6528        2"
            ]
          },
          "metadata": {
            "tags": []
          },
          "execution_count": 345
        }
      ]
    },
    {
      "cell_type": "code",
      "metadata": {
        "id": "9tA_8ztFwuE0",
        "colab_type": "code",
        "colab": {}
      },
      "source": [
        "all_camps = pd.concat([fhc, shc, thc])"
      ],
      "execution_count": 6,
      "outputs": []
    },
    {
      "cell_type": "markdown",
      "metadata": {
        "id": "mX-9VE6dwwAY",
        "colab_type": "text"
      },
      "source": [
        "**Since all the patients in all_camps dataframe are those who have visited the counter to know their health score , hence we are marking them as 1 in the Outcome variable**"
      ]
    },
    {
      "cell_type": "code",
      "metadata": {
        "id": "9SOhv0CIvLXt",
        "colab_type": "code",
        "colab": {
          "base_uri": "https://localhost:8080/",
          "height": 33
        },
        "outputId": "a9979fdb-3ae0-439c-c486-3f1279ebd100"
      },
      "source": [
        "all_camps['Outcome'] = 1\n",
        "print(all_camps.shape)"
      ],
      "execution_count": 7,
      "outputs": [
        {
          "output_type": "stream",
          "text": [
            "(20534, 3)\n"
          ],
          "name": "stdout"
        }
      ]
    },
    {
      "cell_type": "code",
      "metadata": {
        "id": "3DF9qdKBviyr",
        "colab_type": "code",
        "colab": {
          "base_uri": "https://localhost:8080/"
        },
        "outputId": "567af7df-efe1-495b-de39-fb6c3eec1490"
      },
      "source": [
        "all_camps.head()"
      ],
      "execution_count": null,
      "outputs": [
        {
          "output_type": "execute_result",
          "data": {
            "text/html": [
              "<div>\n",
              "<style scoped>\n",
              "    .dataframe tbody tr th:only-of-type {\n",
              "        vertical-align: middle;\n",
              "    }\n",
              "\n",
              "    .dataframe tbody tr th {\n",
              "        vertical-align: top;\n",
              "    }\n",
              "\n",
              "    .dataframe thead th {\n",
              "        text-align: right;\n",
              "    }\n",
              "</style>\n",
              "<table border=\"1\" class=\"dataframe\">\n",
              "  <thead>\n",
              "    <tr style=\"text-align: right;\">\n",
              "      <th></th>\n",
              "      <th>Patient_ID</th>\n",
              "      <th>Health_Camp_ID</th>\n",
              "      <th>Outcome</th>\n",
              "    </tr>\n",
              "  </thead>\n",
              "  <tbody>\n",
              "    <tr>\n",
              "      <th>0</th>\n",
              "      <td>506181</td>\n",
              "      <td>6560</td>\n",
              "      <td>1</td>\n",
              "    </tr>\n",
              "    <tr>\n",
              "      <th>1</th>\n",
              "      <td>494977</td>\n",
              "      <td>6560</td>\n",
              "      <td>1</td>\n",
              "    </tr>\n",
              "    <tr>\n",
              "      <th>2</th>\n",
              "      <td>518680</td>\n",
              "      <td>6560</td>\n",
              "      <td>1</td>\n",
              "    </tr>\n",
              "    <tr>\n",
              "      <th>3</th>\n",
              "      <td>509916</td>\n",
              "      <td>6560</td>\n",
              "      <td>1</td>\n",
              "    </tr>\n",
              "    <tr>\n",
              "      <th>4</th>\n",
              "      <td>488006</td>\n",
              "      <td>6560</td>\n",
              "      <td>1</td>\n",
              "    </tr>\n",
              "  </tbody>\n",
              "</table>\n",
              "</div>"
            ],
            "text/plain": [
              "   Patient_ID  Health_Camp_ID  Outcome\n",
              "0      506181            6560        1\n",
              "1      494977            6560        1\n",
              "2      518680            6560        1\n",
              "3      509916            6560        1\n",
              "4      488006            6560        1"
            ]
          },
          "metadata": {
            "tags": []
          },
          "execution_count": 348
        }
      ]
    },
    {
      "cell_type": "code",
      "metadata": {
        "id": "dMFAZZYr23QL",
        "colab_type": "code",
        "colab": {
          "base_uri": "https://localhost:8080/",
          "height": 82
        },
        "outputId": "749586c6-f054-478c-a759-ac6ab0d8e7df"
      },
      "source": [
        "all_camps.isna().sum()"
      ],
      "execution_count": 8,
      "outputs": [
        {
          "output_type": "execute_result",
          "data": {
            "text/plain": [
              "Patient_ID        0\n",
              "Health_Camp_ID    0\n",
              "Outcome           0\n",
              "dtype: int64"
            ]
          },
          "metadata": {
            "tags": []
          },
          "execution_count": 8
        }
      ]
    },
    {
      "cell_type": "code",
      "metadata": {
        "id": "UX_dsi3s25E-",
        "colab_type": "code",
        "colab": {}
      },
      "source": [
        ""
      ],
      "execution_count": null,
      "outputs": []
    },
    {
      "cell_type": "code",
      "metadata": {
        "id": "M17-q63ivnFg",
        "colab_type": "code",
        "colab": {
          "base_uri": "https://localhost:8080/",
          "height": 33
        },
        "outputId": "77297079-e645-4844-e2a8-ea7f3db51d1c"
      },
      "source": [
        "train = pd.read_csv(data_path + \"Train.csv\")\n",
        "print(train.shape)"
      ],
      "execution_count": 9,
      "outputs": [
        {
          "output_type": "stream",
          "text": [
            "(75278, 8)\n"
          ],
          "name": "stdout"
        }
      ]
    },
    {
      "cell_type": "markdown",
      "metadata": {
        "id": "9d5zHpFcxEMk",
        "colab_type": "text"
      },
      "source": [
        "### Merge Train data with all_camps data"
      ]
    },
    {
      "cell_type": "code",
      "metadata": {
        "id": "x9JdxJw1v120",
        "colab_type": "code",
        "colab": {}
      },
      "source": [
        "train = train.merge(all_camps, on=['Patient_ID','Health_Camp_ID'], how='left')\n",
        "train['Outcome'] = train['Outcome'].fillna(0).astype('int')"
      ],
      "execution_count": 10,
      "outputs": []
    },
    {
      "cell_type": "code",
      "metadata": {
        "id": "rtFjGbKLv-e4",
        "colab_type": "code",
        "colab": {
          "base_uri": "https://localhost:8080/"
        },
        "outputId": "e10311d9-705c-4660-eae2-a1c361bdbd51"
      },
      "source": [
        "train.Outcome.value_counts()"
      ],
      "execution_count": null,
      "outputs": [
        {
          "output_type": "execute_result",
          "data": {
            "text/plain": [
              "0    54744\n",
              "1    20534\n",
              "Name: Outcome, dtype: int64"
            ]
          },
          "metadata": {
            "tags": []
          },
          "execution_count": 352
        }
      ]
    },
    {
      "cell_type": "code",
      "metadata": {
        "id": "F6IpbwCNwByY",
        "colab_type": "code",
        "colab": {}
      },
      "source": [
        "train.to_csv(data_path+'train_with_outcome.csv', index=False)"
      ],
      "execution_count": null,
      "outputs": []
    },
    {
      "cell_type": "markdown",
      "metadata": {
        "id": "nEHr5r-jxf0p",
        "colab_type": "text"
      },
      "source": [
        "**Our  Training Data is prepared now , we will use train_with_outcome.csv for training the model**"
      ]
    },
    {
      "cell_type": "code",
      "metadata": {
        "id": "uXJ6zqAgxUHu",
        "colab_type": "code",
        "colab": {}
      },
      "source": [
        "Final_Train=pd.read_csv(data_path+'train_with_outcome.csv')"
      ],
      "execution_count": 11,
      "outputs": []
    },
    {
      "cell_type": "markdown",
      "metadata": {
        "id": "q-4iMWKSGpEC",
        "colab_type": "text"
      },
      "source": [
        "### Finding Anomaly\n",
        "\n",
        "-  **Reason to replace NaN's to 0 is , the NaNs are present because these registrants have not attended or went to any stalls for awareness or getting health checkup. If you check the number of frequency for Outcome = 0 , it is same as the number of missing values**"
      ]
    },
    {
      "cell_type": "code",
      "metadata": {
        "id": "Y7soot09Gitv",
        "colab_type": "code",
        "colab": {
          "base_uri": "https://localhost:8080/",
          "height": 180
        },
        "outputId": "38974319-bf03-4807-fdba-cbf6cb1d2c9c"
      },
      "source": [
        "Final_Train.isna().sum()"
      ],
      "execution_count": 12,
      "outputs": [
        {
          "output_type": "execute_result",
          "data": {
            "text/plain": [
              "Patient_ID             0\n",
              "Health_Camp_ID         0\n",
              "Registration_Date    334\n",
              "Var1                   0\n",
              "Var2                   0\n",
              "Var3                   0\n",
              "Var4                   0\n",
              "Var5                   0\n",
              "Outcome                0\n",
              "dtype: int64"
            ]
          },
          "metadata": {
            "tags": []
          },
          "execution_count": 12
        }
      ]
    },
    {
      "cell_type": "markdown",
      "metadata": {
        "id": "Gnjb6bVdMoXh",
        "colab_type": "text"
      },
      "source": [
        "### Data Prepration"
      ]
    },
    {
      "cell_type": "code",
      "metadata": {
        "id": "NO8yaJUM3RbV",
        "colab_type": "code",
        "colab": {
          "base_uri": "https://localhost:8080/"
        },
        "outputId": "586fbc8f-ea4e-484d-9084-a3867d5d9502"
      },
      "source": [
        "Final_Train.dtypes"
      ],
      "execution_count": null,
      "outputs": [
        {
          "output_type": "execute_result",
          "data": {
            "text/plain": [
              "Patient_ID            int64\n",
              "Health_Camp_ID        int64\n",
              "Registration_Date    object\n",
              "Var1                  int64\n",
              "Var2                  int64\n",
              "Var3                  int64\n",
              "Var4                  int64\n",
              "Var5                  int64\n",
              "Outcome               int64\n",
              "dtype: object"
            ]
          },
          "metadata": {
            "tags": []
          },
          "execution_count": 356
        }
      ]
    },
    {
      "cell_type": "code",
      "metadata": {
        "id": "oNJ7Kis9OJkA",
        "colab_type": "code",
        "colab": {}
      },
      "source": [
        "idx=Final_Train[Final_Train['Registration_Date'].isna()==True].index"
      ],
      "execution_count": 13,
      "outputs": []
    },
    {
      "cell_type": "code",
      "metadata": {
        "id": "kLbLKUOkQ3mi",
        "colab_type": "code",
        "colab": {
          "base_uri": "https://localhost:8080/"
        },
        "outputId": "49ca64c2-3ef7-4d4c-9374-c99c25ae84c4"
      },
      "source": [
        "idx"
      ],
      "execution_count": null,
      "outputs": [
        {
          "output_type": "execute_result",
          "data": {
            "text/plain": [
              "Int64Index([  328,   784,  1104,  1238,  1339,  1399,  1400,  1401,  1436,\n",
              "             1819,\n",
              "            ...\n",
              "            74601, 74661, 74840, 74900, 74904, 74916, 74978, 75107, 75159,\n",
              "            75218],\n",
              "           dtype='int64', length=334)"
            ]
          },
          "metadata": {
            "tags": []
          },
          "execution_count": 358
        }
      ]
    },
    {
      "cell_type": "code",
      "metadata": {
        "id": "00gbBVuvPVPe",
        "colab_type": "code",
        "colab": {}
      },
      "source": [
        "Final_Train.drop(idx,axis=0,inplace=True)"
      ],
      "execution_count": 14,
      "outputs": []
    },
    {
      "cell_type": "markdown",
      "metadata": {
        "id": "rieD1KkKs83e",
        "colab_type": "text"
      },
      "source": [
        "Convert Registration_Date column to date & time object"
      ]
    },
    {
      "cell_type": "code",
      "metadata": {
        "id": "bEU_jfrjPR4e",
        "colab_type": "code",
        "colab": {}
      },
      "source": [
        "Final_Train['Registration_Date']=pd.to_datetime(Final_Train['Registration_Date'], format=\"%d-%b-%y\")"
      ],
      "execution_count": 15,
      "outputs": []
    },
    {
      "cell_type": "code",
      "metadata": {
        "id": "DW11OtatRXUV",
        "colab_type": "code",
        "colab": {
          "base_uri": "https://localhost:8080/"
        },
        "outputId": "2bc38cc8-0f4f-42d7-e5be-2a7a1b556005"
      },
      "source": [
        "Final_Train.dtypes"
      ],
      "execution_count": null,
      "outputs": [
        {
          "output_type": "execute_result",
          "data": {
            "text/plain": [
              "Patient_ID                    int64\n",
              "Health_Camp_ID                int64\n",
              "Registration_Date    datetime64[ns]\n",
              "Var1                          int64\n",
              "Var2                          int64\n",
              "Var3                          int64\n",
              "Var4                          int64\n",
              "Var5                          int64\n",
              "Outcome                       int64\n",
              "dtype: object"
            ]
          },
          "metadata": {
            "tags": []
          },
          "execution_count": 361
        }
      ]
    },
    {
      "cell_type": "code",
      "metadata": {
        "id": "jYIqkRwY3ZMc",
        "colab_type": "code",
        "colab": {
          "base_uri": "https://localhost:8080/"
        },
        "outputId": "2692298c-03eb-4956-edc4-ad8794a2936b"
      },
      "source": [
        "Final_Train.Patient_ID.value_counts()[:10].plot(kind='bar')\n"
      ],
      "execution_count": null,
      "outputs": [
        {
          "output_type": "execute_result",
          "data": {
            "text/plain": [
              "<matplotlib.axes._subplots.AxesSubplot at 0x7f60cd15ddd8>"
            ]
          },
          "metadata": {
            "tags": []
          },
          "execution_count": 362
        },
        {
          "output_type": "display_data",
          "data": {
            "image/png": "[encoded data removed]",
            "text/plain": [
              "<Figure size 432x288 with 1 Axes>"
            ]
          },
          "metadata": {
            "tags": [],
            "needs_background": "light"
          }
        }
      ]
    },
    {
      "cell_type": "markdown",
      "metadata": {
        "id": "CcoDGigkKhjk",
        "colab_type": "text"
      },
      "source": [
        "**We see that there are repetition of Patients , which means there are already existing patients who have attended our camp before, they have come to this camp.**\n",
        "\n"
      ]
    },
    {
      "cell_type": "code",
      "metadata": {
        "id": "p3o8HDSnIlt2",
        "colab_type": "code",
        "colab": {
          "base_uri": "https://localhost:8080/"
        },
        "outputId": "f1f973e5-b750-46bc-cc45-3208c6f9b3ab"
      },
      "source": [
        "\n",
        "Final_Train.Patient_ID.value_counts().value_counts()[:10].plot(kind='bar')\n",
        "Final_Train.Patient_ID[Final_Train.Outcome==0].value_counts().value_counts()[:10].plot(kind='bar',color='r')\n",
        "Final_Train.Patient_ID[Final_Train.Outcome==1].value_counts().value_counts()[:10].plot(kind='bar',color='g')"
      ],
      "execution_count": null,
      "outputs": [
        {
          "output_type": "execute_result",
          "data": {
            "text/plain": [
              "<matplotlib.axes._subplots.AxesSubplot at 0x7f60ccc93240>"
            ]
          },
          "metadata": {
            "tags": []
          },
          "execution_count": 363
        },
        {
          "output_type": "display_data",
          "data": {
            "image/png": "[encoded data removed]",
            "text/plain": [
              "<Figure size 432x288 with 1 Axes>"
            ]
          },
          "metadata": {
            "tags": [],
            "needs_background": "light"
          }
        }
      ]
    },
    {
      "cell_type": "markdown",
      "metadata": {
        "id": "ryqmSXulLZlq",
        "colab_type": "text"
      },
      "source": [
        "**We can see that frequency of new attendees to the camp is much more than the repetitive attendees**"
      ]
    },
    {
      "cell_type": "code",
      "metadata": {
        "id": "9cpYig-QPiIs",
        "colab_type": "code",
        "colab": {
          "base_uri": "https://localhost:8080/"
        },
        "outputId": "1feaf3df-73eb-42d2-ff7f-8905de7804ed"
      },
      "source": [
        "Final_Train.dtypes"
      ],
      "execution_count": null,
      "outputs": [
        {
          "output_type": "execute_result",
          "data": {
            "text/plain": [
              "Patient_ID                    int64\n",
              "Health_Camp_ID                int64\n",
              "Registration_Date    datetime64[ns]\n",
              "Var1                          int64\n",
              "Var2                          int64\n",
              "Var3                          int64\n",
              "Var4                          int64\n",
              "Var5                          int64\n",
              "Outcome                       int64\n",
              "dtype: object"
            ]
          },
          "metadata": {
            "tags": []
          },
          "execution_count": 364
        }
      ]
    },
    {
      "cell_type": "markdown",
      "metadata": {
        "id": "cGtenz2vTtrv",
        "colab_type": "text"
      },
      "source": [
        "### Getting patient details and merging with train"
      ]
    },
    {
      "cell_type": "code",
      "metadata": {
        "id": "EYFZFr4qSqeH",
        "colab_type": "code",
        "colab": {}
      },
      "source": [
        "patient = pd.read_csv(data_path + \"Patient_Profile.csv\", na_values=['None',''])\n",
        "#Convert First_Interactoion column to date & time object\n",
        "patient['First_Interaction'] = pd.to_datetime(patient['First_Interaction'], format=\"%d-%b-%y\")"
      ],
      "execution_count": 16,
      "outputs": []
    },
    {
      "cell_type": "code",
      "metadata": {
        "id": "QweORgKZTgHV",
        "colab_type": "code",
        "colab": {}
      },
      "source": [
        "Final_Train = Final_Train.merge(patient, on=['Patient_ID'], how='left')"
      ],
      "execution_count": 17,
      "outputs": []
    },
    {
      "cell_type": "code",
      "metadata": {
        "id": "IJUZ7X7STkSw",
        "colab_type": "code",
        "colab": {
          "base_uri": "https://localhost:8080/"
        },
        "outputId": "a976c85c-c11d-464f-c1ba-7a196334b528"
      },
      "source": [
        "Final_Train.shape"
      ],
      "execution_count": null,
      "outputs": [
        {
          "output_type": "execute_result",
          "data": {
            "text/plain": [
              "(74944, 19)"
            ]
          },
          "metadata": {
            "tags": []
          },
          "execution_count": 367
        }
      ]
    },
    {
      "cell_type": "markdown",
      "metadata": {
        "id": "vvTTIEKuTwDK",
        "colab_type": "text"
      },
      "source": [
        "### Getting health camp details and merging with train"
      ]
    },
    {
      "cell_type": "code",
      "metadata": {
        "id": "sKstAsqhTnP8",
        "colab_type": "code",
        "colab": {}
      },
      "source": [
        "hc = pd.read_csv(data_path + \"Health_Camp_Detail.csv\")\n",
        "hc_ids = list(hc.Health_Camp_ID.values)"
      ],
      "execution_count": 18,
      "outputs": []
    },
    {
      "cell_type": "code",
      "metadata": {
        "id": "xkaBq0hyT4U4",
        "colab_type": "code",
        "colab": {}
      },
      "source": [
        "hc['Camp_Start_Date'] = pd.to_datetime(hc['Camp_Start_Date'], format=\"%d-%b-%y\")\n",
        "hc['Camp_End_Date'] = pd.to_datetime(hc['Camp_End_Date'], format=\"%d-%b-%y\")"
      ],
      "execution_count": 19,
      "outputs": []
    },
    {
      "cell_type": "code",
      "metadata": {
        "id": "KlaRCnsFT9mC",
        "colab_type": "code",
        "colab": {}
      },
      "source": [
        "hc['Camp_Duration_Days'] = hc['Camp_End_Date'] - hc['Camp_Start_Date']"
      ],
      "execution_count": 20,
      "outputs": []
    },
    {
      "cell_type": "code",
      "metadata": {
        "id": "0OhTRrksUC5e",
        "colab_type": "code",
        "colab": {}
      },
      "source": [
        "hc['Camp_Duration_Days']=hc['Camp_Duration_Days'].dt.days"
      ],
      "execution_count": 21,
      "outputs": []
    },
    {
      "cell_type": "code",
      "metadata": {
        "id": "5E6tQ-qUUIaF",
        "colab_type": "code",
        "colab": {}
      },
      "source": [
        "Final_Train = Final_Train.merge(hc, on=['Health_Camp_ID'], how='left')"
      ],
      "execution_count": 22,
      "outputs": []
    },
    {
      "cell_type": "markdown",
      "metadata": {
        "id": "tm6HAhgEUg7v",
        "colab_type": "text"
      },
      "source": [
        "### Filling NA with -99 ##"
      ]
    },
    {
      "cell_type": "code",
      "metadata": {
        "id": "Q8Mjdt9ZUXxR",
        "colab_type": "code",
        "colab": {
          "base_uri": "https://localhost:8080/"
        },
        "outputId": "439fc50e-91a0-42a1-8fff-e25b52fc2e48"
      },
      "source": [
        "Final_Train.isna().sum()"
      ],
      "execution_count": null,
      "outputs": [
        {
          "output_type": "execute_result",
          "data": {
            "text/plain": [
              "Patient_ID                0\n",
              "Health_Camp_ID            0\n",
              "Registration_Date         0\n",
              "Var1                      0\n",
              "Var2                      0\n",
              "Var3                      0\n",
              "Var4                      0\n",
              "Var5                      0\n",
              "Outcome                   0\n",
              "Online_Follower           0\n",
              "LinkedIn_Shared           0\n",
              "Twitter_Shared            0\n",
              "Facebook_Shared           0\n",
              "Income                53372\n",
              "Education_Score       65066\n",
              "Age                   51452\n",
              "First_Interaction         0\n",
              "City_Type             33068\n",
              "Employer_Category     59878\n",
              "Camp_Start_Date           0\n",
              "Camp_End_Date             0\n",
              "Category1                 0\n",
              "Category2                 0\n",
              "Category3                 0\n",
              "Camp_Duration_Days        0\n",
              "dtype: int64"
            ]
          },
          "metadata": {
            "tags": []
          },
          "execution_count": 373
        }
      ]
    },
    {
      "cell_type": "code",
      "metadata": {
        "id": "wmSgfZHiUEHP",
        "colab_type": "code",
        "colab": {}
      },
      "source": [
        "Final_Train.fillna(-99, inplace=True)"
      ],
      "execution_count": 23,
      "outputs": []
    },
    {
      "cell_type": "markdown",
      "metadata": {
        "id": "Iwf06QTwU3Tf",
        "colab_type": "text"
      },
      "source": [
        "###  Create additional features "
      ]
    },
    {
      "cell_type": "code",
      "metadata": {
        "id": "mTfC5QQVUvtX",
        "colab_type": "code",
        "colab": {}
      },
      "source": [
        "# When did the attendee registered before the camp started or post camp started\n",
        "Final_Train[\"Diff_CampStart_Registration\"] = Final_Train[\"Camp_Start_Date\"] - Final_Train[\"Registration_Date\"]"
      ],
      "execution_count": 24,
      "outputs": []
    },
    {
      "cell_type": "code",
      "metadata": {
        "id": "F8r9BUsdYVE1",
        "colab_type": "code",
        "colab": {}
      },
      "source": [
        "Final_Train[\"Diff_CampStart_Registration\"]=Final_Train[\"Diff_CampStart_Registration\"].dt.days"
      ],
      "execution_count": 25,
      "outputs": []
    },
    {
      "cell_type": "code",
      "metadata": {
        "id": "uqDH3PCLVFMg",
        "colab_type": "code",
        "colab": {}
      },
      "source": [
        "# Did Attendee booked in advance for the camp or how many days earlier did he or she booked for it\n",
        "Final_Train[\"Diff_CampEnd_Registration\"] = Final_Train[\"Camp_End_Date\"] - Final_Train[\"Registration_Date\"]"
      ],
      "execution_count": 26,
      "outputs": []
    },
    {
      "cell_type": "code",
      "metadata": {
        "id": "HJn3dtyuYZo-",
        "colab_type": "code",
        "colab": {}
      },
      "source": [
        "Final_Train[\"Diff_CampEnd_Registration\"]=Final_Train[\"Diff_CampEnd_Registration\"].dt.days"
      ],
      "execution_count": 27,
      "outputs": []
    },
    {
      "cell_type": "code",
      "metadata": {
        "id": "IHW53cEIVOR1",
        "colab_type": "code",
        "colab": {}
      },
      "source": [
        "# When was the first interaction post registration \n",
        "Final_Train[\"Diff_Registration_FirstInteraction\"] = Final_Train[\"Registration_Date\"] - Final_Train[\"First_Interaction\"]"
      ],
      "execution_count": 28,
      "outputs": []
    },
    {
      "cell_type": "code",
      "metadata": {
        "id": "frSM6WlPYczT",
        "colab_type": "code",
        "colab": {}
      },
      "source": [
        "Final_Train[\"Diff_Registration_FirstInteraction\"] = Final_Train[\"Diff_Registration_FirstInteraction\"].dt.days"
      ],
      "execution_count": 29,
      "outputs": []
    },
    {
      "cell_type": "code",
      "metadata": {
        "id": "SPP5lV7NVfQe",
        "colab_type": "code",
        "colab": {}
      },
      "source": [
        "# How many days it had been for first interaction post camp start\n",
        "Final_Train[\"Diff_CampStart_FirstInteraction\"] = Final_Train[\"Camp_Start_Date\"] - Final_Train[\"First_Interaction\"]"
      ],
      "execution_count": 30,
      "outputs": []
    },
    {
      "cell_type": "code",
      "metadata": {
        "id": "KP3nTPQHYgRM",
        "colab_type": "code",
        "colab": {}
      },
      "source": [
        "Final_Train[\"Diff_CampStart_FirstInteraction\"]=Final_Train[\"Diff_CampStart_FirstInteraction\"].dt.days"
      ],
      "execution_count": 31,
      "outputs": []
    },
    {
      "cell_type": "markdown",
      "metadata": {
        "id": "5GkJJg8ZV4mx",
        "colab_type": "text"
      },
      "source": [
        "#### Getitng the category columns and label encode them "
      ]
    },
    {
      "cell_type": "code",
      "metadata": {
        "id": "_0Nvx2j3VnwI",
        "colab_type": "code",
        "colab": {
          "base_uri": "https://localhost:8080/",
          "height": 82
        },
        "outputId": "12102868-3b52-41d2-9854-590c6a48bfba"
      },
      "source": [
        "## Getitng the cat columns and label encode them ##\n",
        "cat_columns = []\n",
        "for col in Final_Train.columns:\n",
        "\tif Final_Train[col].dtype == 'object':\n",
        "\t\tprint(col)\n",
        "\t\tcat_columns.append(col)\n",
        "\t\tenc = preprocessing.LabelEncoder()\n",
        "\t\tfull_list = list(Final_Train[col].values) \n",
        "\t\tenc.fit(full_list)\n",
        "\t\tFinal_Train[col] = enc.transform(list(Final_Train[col].values))\n",
        "\t\t"
      ],
      "execution_count": 33,
      "outputs": [
        {
          "output_type": "stream",
          "text": [
            "City_Type\n",
            "Employer_Category\n",
            "Category1\n",
            "Category2\n"
          ],
          "name": "stdout"
        }
      ]
    },
    {
      "cell_type": "code",
      "metadata": {
        "id": "CaeryMa7XGAy",
        "colab_type": "code",
        "colab": {}
      },
      "source": [
        "grouped_df=Final_Train.groupby(\"Patient_ID\",as_index=False).agg('size').reset_index()\n",
        "grouped_df.columns=[\"Patient_ID\",\"var_count\"]\n",
        "merged_df=pd.merge(Final_Train,grouped_df,how=\"left\",on=\"Patient_ID\")\n",
        "merged_df.fillna(-1,inplace=True)"
      ],
      "execution_count": 34,
      "outputs": []
    },
    {
      "cell_type": "code",
      "metadata": {
        "id": "cFrSYVLLX4HI",
        "colab_type": "code",
        "colab": {
          "base_uri": "https://localhost:8080/"
        },
        "outputId": "8d142642-7e5c-41d9-bdf9-263f59c4df7e"
      },
      "source": [
        "merged_df.head()"
      ],
      "execution_count": null,
      "outputs": [
        {
          "output_type": "execute_result",
          "data": {
            "text/html": [
              "<div>\n",
              "<style scoped>\n",
              "    .dataframe tbody tr th:only-of-type {\n",
              "        vertical-align: middle;\n",
              "    }\n",
              "\n",
              "    .dataframe tbody tr th {\n",
              "        vertical-align: top;\n",
              "    }\n",
              "\n",
              "    .dataframe thead th {\n",
              "        text-align: right;\n",
              "    }\n",
              "</style>\n",
              "<table border=\"1\" class=\"dataframe\">\n",
              "  <thead>\n",
              "    <tr style=\"text-align: right;\">\n",
              "      <th></th>\n",
              "      <th>Patient_ID</th>\n",
              "      <th>Health_Camp_ID</th>\n",
              "      <th>Registration_Date</th>\n",
              "      <th>Var1</th>\n",
              "      <th>Var2</th>\n",
              "      <th>Var3</th>\n",
              "      <th>Var4</th>\n",
              "      <th>Var5</th>\n",
              "      <th>Outcome</th>\n",
              "      <th>Online_Follower</th>\n",
              "      <th>LinkedIn_Shared</th>\n",
              "      <th>Twitter_Shared</th>\n",
              "      <th>Facebook_Shared</th>\n",
              "      <th>Income</th>\n",
              "      <th>Education_Score</th>\n",
              "      <th>Age</th>\n",
              "      <th>First_Interaction</th>\n",
              "      <th>City_Type</th>\n",
              "      <th>Employer_Category</th>\n",
              "      <th>Camp_Start_Date</th>\n",
              "      <th>Camp_End_Date</th>\n",
              "      <th>Category1</th>\n",
              "      <th>Category2</th>\n",
              "      <th>Category3</th>\n",
              "      <th>Camp_Duration_Days</th>\n",
              "      <th>Diff_CampStart_Registration</th>\n",
              "      <th>Diff_CampEnd_Registration</th>\n",
              "      <th>Diff_Registration_FirstInteraction</th>\n",
              "      <th>Diff_CampStart_FirstInteraction</th>\n",
              "      <th>var_count</th>\n",
              "    </tr>\n",
              "  </thead>\n",
              "  <tbody>\n",
              "    <tr>\n",
              "      <th>0</th>\n",
              "      <td>489652</td>\n",
              "      <td>6578</td>\n",
              "      <td>2005-09-10</td>\n",
              "      <td>4</td>\n",
              "      <td>0</td>\n",
              "      <td>0</td>\n",
              "      <td>0</td>\n",
              "      <td>2</td>\n",
              "      <td>1</td>\n",
              "      <td>0</td>\n",
              "      <td>0</td>\n",
              "      <td>0</td>\n",
              "      <td>0</td>\n",
              "      <td>-99.0</td>\n",
              "      <td>-99.0</td>\n",
              "      <td>-99.0</td>\n",
              "      <td>2004-12-06</td>\n",
              "      <td>0</td>\n",
              "      <td>0</td>\n",
              "      <td>2005-08-16</td>\n",
              "      <td>2005-10-14</td>\n",
              "      <td>2</td>\n",
              "      <td>6</td>\n",
              "      <td>2</td>\n",
              "      <td>59</td>\n",
              "      <td>-25</td>\n",
              "      <td>34</td>\n",
              "      <td>278</td>\n",
              "      <td>253</td>\n",
              "      <td>10</td>\n",
              "    </tr>\n",
              "    <tr>\n",
              "      <th>1</th>\n",
              "      <td>507246</td>\n",
              "      <td>6578</td>\n",
              "      <td>2005-08-18</td>\n",
              "      <td>45</td>\n",
              "      <td>5</td>\n",
              "      <td>0</td>\n",
              "      <td>0</td>\n",
              "      <td>7</td>\n",
              "      <td>0</td>\n",
              "      <td>0</td>\n",
              "      <td>0</td>\n",
              "      <td>0</td>\n",
              "      <td>0</td>\n",
              "      <td>1.0</td>\n",
              "      <td>75.0</td>\n",
              "      <td>40.0</td>\n",
              "      <td>2004-09-08</td>\n",
              "      <td>3</td>\n",
              "      <td>8</td>\n",
              "      <td>2005-08-16</td>\n",
              "      <td>2005-10-14</td>\n",
              "      <td>2</td>\n",
              "      <td>6</td>\n",
              "      <td>2</td>\n",
              "      <td>59</td>\n",
              "      <td>-2</td>\n",
              "      <td>57</td>\n",
              "      <td>344</td>\n",
              "      <td>342</td>\n",
              "      <td>18</td>\n",
              "    </tr>\n",
              "    <tr>\n",
              "      <th>2</th>\n",
              "      <td>523729</td>\n",
              "      <td>6534</td>\n",
              "      <td>2006-04-29</td>\n",
              "      <td>0</td>\n",
              "      <td>0</td>\n",
              "      <td>0</td>\n",
              "      <td>0</td>\n",
              "      <td>0</td>\n",
              "      <td>1</td>\n",
              "      <td>0</td>\n",
              "      <td>0</td>\n",
              "      <td>0</td>\n",
              "      <td>0</td>\n",
              "      <td>-99.0</td>\n",
              "      <td>-99.0</td>\n",
              "      <td>-99.0</td>\n",
              "      <td>2004-06-22</td>\n",
              "      <td>0</td>\n",
              "      <td>0</td>\n",
              "      <td>2005-10-17</td>\n",
              "      <td>2007-11-07</td>\n",
              "      <td>1</td>\n",
              "      <td>0</td>\n",
              "      <td>2</td>\n",
              "      <td>751</td>\n",
              "      <td>-194</td>\n",
              "      <td>557</td>\n",
              "      <td>676</td>\n",
              "      <td>482</td>\n",
              "      <td>5</td>\n",
              "    </tr>\n",
              "    <tr>\n",
              "      <th>3</th>\n",
              "      <td>524931</td>\n",
              "      <td>6535</td>\n",
              "      <td>2004-02-07</td>\n",
              "      <td>0</td>\n",
              "      <td>0</td>\n",
              "      <td>0</td>\n",
              "      <td>0</td>\n",
              "      <td>0</td>\n",
              "      <td>0</td>\n",
              "      <td>0</td>\n",
              "      <td>0</td>\n",
              "      <td>0</td>\n",
              "      <td>0</td>\n",
              "      <td>-99.0</td>\n",
              "      <td>-99.0</td>\n",
              "      <td>-99.0</td>\n",
              "      <td>2004-02-07</td>\n",
              "      <td>9</td>\n",
              "      <td>0</td>\n",
              "      <td>2004-02-01</td>\n",
              "      <td>2004-02-18</td>\n",
              "      <td>0</td>\n",
              "      <td>4</td>\n",
              "      <td>2</td>\n",
              "      <td>17</td>\n",
              "      <td>-6</td>\n",
              "      <td>11</td>\n",
              "      <td>0</td>\n",
              "      <td>-6</td>\n",
              "      <td>5</td>\n",
              "    </tr>\n",
              "    <tr>\n",
              "      <th>4</th>\n",
              "      <td>521364</td>\n",
              "      <td>6529</td>\n",
              "      <td>2006-02-28</td>\n",
              "      <td>15</td>\n",
              "      <td>1</td>\n",
              "      <td>0</td>\n",
              "      <td>0</td>\n",
              "      <td>7</td>\n",
              "      <td>1</td>\n",
              "      <td>0</td>\n",
              "      <td>0</td>\n",
              "      <td>0</td>\n",
              "      <td>1</td>\n",
              "      <td>1.0</td>\n",
              "      <td>70.0</td>\n",
              "      <td>40.0</td>\n",
              "      <td>2003-07-04</td>\n",
              "      <td>9</td>\n",
              "      <td>12</td>\n",
              "      <td>2006-03-30</td>\n",
              "      <td>2006-04-03</td>\n",
              "      <td>1</td>\n",
              "      <td>0</td>\n",
              "      <td>2</td>\n",
              "      <td>4</td>\n",
              "      <td>30</td>\n",
              "      <td>34</td>\n",
              "      <td>970</td>\n",
              "      <td>1000</td>\n",
              "      <td>17</td>\n",
              "    </tr>\n",
              "  </tbody>\n",
              "</table>\n",
              "</div>"
            ],
            "text/plain": [
              "   Patient_ID  Health_Camp_ID  ... Diff_CampStart_FirstInteraction  var_count\n",
              "0      489652            6578  ...                             253         10\n",
              "1      507246            6578  ...                             342         18\n",
              "2      523729            6534  ...                             482          5\n",
              "3      524931            6535  ...                              -6          5\n",
              "4      521364            6529  ...                            1000         17\n",
              "\n",
              "[5 rows x 30 columns]"
            ]
          },
          "metadata": {
            "tags": []
          },
          "execution_count": 385
        }
      ]
    },
    {
      "cell_type": "code",
      "metadata": {
        "id": "hGpBkQz4ZlKj",
        "colab_type": "code",
        "colab": {
          "base_uri": "https://localhost:8080/"
        },
        "outputId": "0b8b0ee0-bac9-48b3-d977-3532fdf146a6"
      },
      "source": [
        "merged_df.shape"
      ],
      "execution_count": null,
      "outputs": [
        {
          "output_type": "execute_result",
          "data": {
            "text/plain": [
              "(74944, 30)"
            ]
          },
          "metadata": {
            "tags": []
          },
          "execution_count": 386
        }
      ]
    },
    {
      "cell_type": "code",
      "metadata": {
        "id": "Oegy2N6QYzxt",
        "colab_type": "code",
        "colab": {}
      },
      "source": [
        "Final_Train = Final_Train.sort_values(['Camp_Start_Date', 'Camp_End_Date', 'Patient_ID']).reset_index(drop=True)"
      ],
      "execution_count": 35,
      "outputs": []
    },
    {
      "cell_type": "code",
      "metadata": {
        "id": "ORS6mpKuZZSB",
        "colab_type": "code",
        "colab": {
          "base_uri": "https://localhost:8080/"
        },
        "outputId": "644abf83-02fd-4263-ea18-a2c3ea2d3b9f"
      },
      "source": [
        "Final_Train.shape"
      ],
      "execution_count": null,
      "outputs": [
        {
          "output_type": "execute_result",
          "data": {
            "text/plain": [
              "(74944, 29)"
            ]
          },
          "metadata": {
            "tags": []
          },
          "execution_count": 388
        }
      ]
    },
    {
      "cell_type": "markdown",
      "metadata": {
        "id": "0b0-tCk79T8U",
        "colab_type": "text"
      },
      "source": [
        "### Data Prepration Part 2"
      ]
    },
    {
      "cell_type": "code",
      "metadata": {
        "id": "HGuUQHsNZxYB",
        "colab_type": "code",
        "colab": {}
      },
      "source": [
        "Ftrain=Final_Train.merge(merged_df[['Patient_ID','Health_Camp_ID','var_count']],on=['Patient_ID','Health_Camp_ID'],how='right')"
      ],
      "execution_count": 40,
      "outputs": []
    },
    {
      "cell_type": "code",
      "metadata": {
        "id": "CUgaHmkaaWWp",
        "colab_type": "code",
        "colab": {
          "base_uri": "https://localhost:8080/",
          "height": 33
        },
        "outputId": "522dec03-3a82-424e-c4ec-76d81b96b683"
      },
      "source": [
        "Ftrain.shape"
      ],
      "execution_count": 41,
      "outputs": [
        {
          "output_type": "execute_result",
          "data": {
            "text/plain": [
              "(74944, 30)"
            ]
          },
          "metadata": {
            "tags": []
          },
          "execution_count": 41
        }
      ]
    },
    {
      "cell_type": "code",
      "metadata": {
        "id": "Wjl5U4-6a1bN",
        "colab_type": "code",
        "colab": {
          "base_uri": "https://localhost:8080/"
        },
        "outputId": "4883717f-48e8-4e51-d962-6670357d0544"
      },
      "source": [
        "Ftrain.var_count.value_counts()[:15].plot(kind='bar')"
      ],
      "execution_count": null,
      "outputs": [
        {
          "output_type": "execute_result",
          "data": {
            "text/plain": [
              "<matplotlib.axes._subplots.AxesSubplot at 0x7f60ccbcc048>"
            ]
          },
          "metadata": {
            "tags": []
          },
          "execution_count": 391
        },
        {
          "output_type": "display_data",
          "data": {
            "image/png": "[encoded data removed]",
            "text/plain": [
              "<Figure size 432x288 with 1 Axes>"
            ]
          },
          "metadata": {
            "tags": [],
            "needs_background": "light"
          }
        }
      ]
    },
    {
      "cell_type": "code",
      "metadata": {
        "id": "hcGWTOGdb1HD",
        "colab_type": "code",
        "colab": {
          "base_uri": "https://localhost:8080/"
        },
        "outputId": "7caaf0a0-b3bf-40ea-e2dd-82149454ccb2"
      },
      "source": [
        "sns.distplot([Ftrain.var_count])"
      ],
      "execution_count": null,
      "outputs": [
        {
          "output_type": "execute_result",
          "data": {
            "text/plain": [
              "<matplotlib.axes._subplots.AxesSubplot at 0x7f60ccc73be0>"
            ]
          },
          "metadata": {
            "tags": []
          },
          "execution_count": 392
        },
        {
          "output_type": "display_data",
          "data": {
            "image/png": "[encoded data removed]",
            "text/plain": [
              "<Figure size 432x288 with 1 Axes>"
            ]
          },
          "metadata": {
            "tags": [],
            "needs_background": "light"
          }
        }
      ]
    },
    {
      "cell_type": "code",
      "metadata": {
        "id": "_xKIr9r4cmZc",
        "colab_type": "code",
        "colab": {
          "base_uri": "https://localhost:8080/"
        },
        "outputId": "bfea892c-ff38-42ef-9b3b-0d895ca32bb4"
      },
      "source": [
        "Ftrain.var_count.mean()"
      ],
      "execution_count": null,
      "outputs": [
        {
          "output_type": "execute_result",
          "data": {
            "text/plain": [
              "5.637302519214347"
            ]
          },
          "metadata": {
            "tags": []
          },
          "execution_count": 393
        }
      ]
    },
    {
      "cell_type": "code",
      "metadata": {
        "id": "I9ZrpKaSblx0",
        "colab_type": "code",
        "colab": {}
      },
      "source": [
        "# 1 -> Repeating Patient ; 0-> New Patientt\n",
        "Ftrain['customer_type']=np.NaN\n",
        "Ftrain.loc[Ftrain.var_count==1,'customer_type']=0\n",
        "Ftrain.loc[Ftrain.var_count>1,'customer_type']=1"
      ],
      "execution_count": 42,
      "outputs": []
    },
    {
      "cell_type": "code",
      "metadata": {
        "id": "XnLBaG1Ze-q3",
        "colab_type": "code",
        "colab": {
          "base_uri": "https://localhost:8080/",
          "height": 66
        },
        "outputId": "89764925-9724-473e-a451-5bba96f7fdb9"
      },
      "source": [
        "Ftrain['customer_type'].value_counts()"
      ],
      "execution_count": 43,
      "outputs": [
        {
          "output_type": "execute_result",
          "data": {
            "text/plain": [
              "1.0    59263\n",
              "0.0    15681\n",
              "Name: customer_type, dtype: int64"
            ]
          },
          "metadata": {
            "tags": []
          },
          "execution_count": 43
        }
      ]
    },
    {
      "cell_type": "code",
      "metadata": {
        "id": "kTmIZhU8fGRF",
        "colab_type": "code",
        "colab": {}
      },
      "source": [
        "Ftrain.drop('var_count',axis=1,inplace=True)"
      ],
      "execution_count": 44,
      "outputs": []
    },
    {
      "cell_type": "code",
      "metadata": {
        "id": "ttRdR-vogMTz",
        "colab_type": "code",
        "colab": {
          "base_uri": "https://localhost:8080/"
        },
        "outputId": "0d935d16-3155-4f69-e4e8-0d89264170e7"
      },
      "source": [
        "Ftrain.dtypes"
      ],
      "execution_count": null,
      "outputs": [
        {
          "output_type": "execute_result",
          "data": {
            "text/plain": [
              "Patient_ID                                     int64\n",
              "Health_Camp_ID                                 int64\n",
              "Registration_Date                     datetime64[ns]\n",
              "Var1                                           int64\n",
              "Var2                                           int64\n",
              "Var3                                           int64\n",
              "Var4                                           int64\n",
              "Var5                                           int64\n",
              "Outcome                                        int64\n",
              "Online_Follower                                int64\n",
              "LinkedIn_Shared                                int64\n",
              "Twitter_Shared                                 int64\n",
              "Facebook_Shared                                int64\n",
              "Income                                       float64\n",
              "Education_Score                              float64\n",
              "Age                                          float64\n",
              "First_Interaction                     datetime64[ns]\n",
              "City_Type                                      int64\n",
              "Employer_Category                              int64\n",
              "Camp_Start_Date                       datetime64[ns]\n",
              "Camp_End_Date                         datetime64[ns]\n",
              "Category1                                      int64\n",
              "Category2                                      int64\n",
              "Category3                                      int64\n",
              "Camp_Duration_Days                             int64\n",
              "Diff_CampStart_Registration                    int64\n",
              "Diff_CampEnd_Registration                      int64\n",
              "Diff_Registration_FirstInteraction             int64\n",
              "Diff_CampStart_FirstInteraction                int64\n",
              "customer_type                                float64\n",
              "dtype: object"
            ]
          },
          "metadata": {
            "tags": []
          },
          "execution_count": 397
        }
      ]
    },
    {
      "cell_type": "code",
      "metadata": {
        "id": "JC3n2ATfgfKp",
        "colab_type": "code",
        "colab": {
          "base_uri": "https://localhost:8080/"
        },
        "outputId": "4ad13761-ecdf-4b50-ecc2-6eaf43fc310d"
      },
      "source": [
        "Ftrain['Diff_CampStart_Registration'].value_counts()[:10].plot(kind='bar')"
      ],
      "execution_count": null,
      "outputs": [
        {
          "output_type": "execute_result",
          "data": {
            "text/plain": [
              "<matplotlib.axes._subplots.AxesSubplot at 0x7f60cc9ecac8>"
            ]
          },
          "metadata": {
            "tags": []
          },
          "execution_count": 398
        },
        {
          "output_type": "display_data",
          "data": {
            "image/png": "[encoded data removed]",
            "text/plain": [
              "<Figure size 432x288 with 1 Axes>"
            ]
          },
          "metadata": {
            "tags": [],
            "needs_background": "light"
          }
        }
      ]
    },
    {
      "cell_type": "markdown",
      "metadata": {
        "id": "-xbf85H5uHxj",
        "colab_type": "text"
      },
      "source": [
        "We can see that people have registered post start of the camp also "
      ]
    },
    {
      "cell_type": "code",
      "metadata": {
        "id": "6OXoWphvgtY9",
        "colab_type": "code",
        "colab": {
          "base_uri": "https://localhost:8080/"
        },
        "outputId": "5c98a26c-b6c7-44d3-87e5-e15f6e35fcf0"
      },
      "source": [
        "Final_Train[\"Diff_CampEnd_Registration\"].value_counts()[:15].plot(kind='pie',explode=[0,0,0,0,.5,.5,.5,.5,.5,.5,.5,.5,.5,.5,.5])"
      ],
      "execution_count": null,
      "outputs": [
        {
          "output_type": "execute_result",
          "data": {
            "text/plain": [
              "<matplotlib.axes._subplots.AxesSubplot at 0x7f60cc969358>"
            ]
          },
          "metadata": {
            "tags": []
          },
          "execution_count": 399
        },
        {
          "output_type": "display_data",
          "data": {
            "image/png": "[encoded data removed]",
            "text/plain": [
              "<Figure size 432x288 with 1 Axes>"
            ]
          },
          "metadata": {
            "tags": []
          }
        }
      ]
    },
    {
      "cell_type": "markdown",
      "metadata": {
        "id": "cqggLwxMzxEl",
        "colab_type": "text"
      },
      "source": [
        "We can see there are people who have registered even 1 day before the camp ending day "
      ]
    },
    {
      "cell_type": "code",
      "metadata": {
        "id": "7Ltd631CmAAD",
        "colab_type": "code",
        "colab": {}
      },
      "source": [
        "# Registration 1- post start of camp ; 0- pre starting of camp\n",
        "Ftrain['Registration_Type']=np.NaN\n",
        "Ftrain.loc[Ftrain['Diff_CampStart_Registration']<=0,'Registration_Type']=1\n",
        "Ftrain.loc[Ftrain['Diff_CampStart_Registration']>0,'Registration_Type']=0"
      ],
      "execution_count": 45,
      "outputs": []
    },
    {
      "cell_type": "code",
      "metadata": {
        "id": "Pv_VhbSj1BO3",
        "colab_type": "code",
        "colab": {
          "base_uri": "https://localhost:8080/",
          "height": 290
        },
        "outputId": "1d9aed14-f474-417c-8d43-9e937cc2fecf"
      },
      "source": [
        "Ftrain['Registration_Type'].value_counts().plot(kind='bar')"
      ],
      "execution_count": 46,
      "outputs": [
        {
          "output_type": "execute_result",
          "data": {
            "text/plain": [
              "<matplotlib.axes._subplots.AxesSubplot at 0x7f1d44bd9b38>"
            ]
          },
          "metadata": {
            "tags": []
          },
          "execution_count": 46
        },
        {
          "output_type": "display_data",
          "data": {
            "image/png": "[encoded data removed]",
            "text/plain": [
              "<Figure size 432x288 with 1 Axes>"
            ]
          },
          "metadata": {
            "tags": [],
            "needs_background": "light"
          }
        }
      ]
    },
    {
      "cell_type": "markdown",
      "metadata": {
        "id": "Cqi0BY7Q1QHn",
        "colab_type": "text"
      },
      "source": [
        "We can see there are atleast twice the attendees who have registered after the camp has started"
      ]
    },
    {
      "cell_type": "code",
      "metadata": {
        "id": "pXO8U-L31Iaw",
        "colab_type": "code",
        "colab": {
          "base_uri": "https://localhost:8080/"
        },
        "outputId": "8b8cb717-9c2a-477a-8fbc-f7822009fc6c"
      },
      "source": [
        "Final_Train[\"Diff_Registration_FirstInteraction\"].value_counts()[:15].plot(kind='bar')"
      ],
      "execution_count": null,
      "outputs": [
        {
          "output_type": "execute_result",
          "data": {
            "text/plain": [
              "<matplotlib.axes._subplots.AxesSubplot at 0x7f60d4b46b38>"
            ]
          },
          "metadata": {
            "tags": []
          },
          "execution_count": 402
        },
        {
          "output_type": "display_data",
          "data": {
            "image/png": "[encoded data removed]",
            "text/plain": [
              "<Figure size 432x288 with 1 Axes>"
            ]
          },
          "metadata": {
            "tags": [],
            "needs_background": "light"
          }
        }
      ]
    },
    {
      "cell_type": "markdown",
      "metadata": {
        "id": "9AmOGahk41Ii",
        "colab_type": "text"
      },
      "source": [
        "We see most of them had same day first interaction when they registered"
      ]
    },
    {
      "cell_type": "code",
      "metadata": {
        "id": "p1Hp_vPn4l0T",
        "colab_type": "code",
        "colab": {
          "base_uri": "https://localhost:8080/"
        },
        "outputId": "44a0e751-b3f5-4348-d992-92b3a3bbbc3a"
      },
      "source": [
        "Final_Train[\"Diff_CampStart_FirstInteraction\"].value_counts()[:15].plot(kind='bar')\n"
      ],
      "execution_count": null,
      "outputs": [
        {
          "output_type": "execute_result",
          "data": {
            "text/plain": [
              "<matplotlib.axes._subplots.AxesSubplot at 0x7f60cc870518>"
            ]
          },
          "metadata": {
            "tags": []
          },
          "execution_count": 403
        },
        {
          "output_type": "display_data",
          "data": {
            "image/png": "[encoded data removed]",
            "text/plain": [
              "<Figure size 432x288 with 1 Axes>"
            ]
          },
          "metadata": {
            "tags": [],
            "needs_background": "light"
          }
        }
      ]
    },
    {
      "cell_type": "markdown",
      "metadata": {
        "id": "LeiCuPPH5dYp",
        "colab_type": "text"
      },
      "source": [
        "We see there are rigstrants who have had first interaction post the camp started , it can be because they have registered post camp has started"
      ]
    },
    {
      "cell_type": "code",
      "metadata": {
        "id": "9Q1hKfxF5BUe",
        "colab_type": "code",
        "colab": {
          "base_uri": "https://localhost:8080/"
        },
        "outputId": "308e4b28-9d49-41d8-967f-4a3567138876"
      },
      "source": [
        "Final_Train[\"Diff_CampStart_FirstInteraction\"][Ftrain['Registration_Type']==1][:15].value_counts().plot(kind='bar',color='r')"
      ],
      "execution_count": null,
      "outputs": [
        {
          "output_type": "execute_result",
          "data": {
            "text/plain": [
              "<matplotlib.axes._subplots.AxesSubplot at 0x7f60cc806a20>"
            ]
          },
          "metadata": {
            "tags": []
          },
          "execution_count": 404
        },
        {
          "output_type": "display_data",
          "data": {
            "image/png": "[encoded data removed]",
            "text/plain": [
              "<Figure size 432x288 with 1 Axes>"
            ]
          },
          "metadata": {
            "tags": [],
            "needs_background": "light"
          }
        }
      ]
    },
    {
      "cell_type": "markdown",
      "metadata": {
        "id": "PFPiLzNO6SRr",
        "colab_type": "text"
      },
      "source": [
        "We see though people have registered for the camp post it started but many of them had first interaction before they even started , probably can be an enquiry interaction"
      ]
    },
    {
      "cell_type": "code",
      "metadata": {
        "id": "Zn194Vhz6JtZ",
        "colab_type": "code",
        "colab": {}
      },
      "source": [
        "# Interaction Type 1-> Post Camp Started ; 0 -> Pre camp started\n",
        "Ftrain['Interaction_Type']=np.NaN\n",
        "Ftrain.loc[Final_Train[\"Diff_CampStart_FirstInteraction\"]<=0,'Interaction_Type']=1\n",
        "Ftrain.loc[Final_Train[\"Diff_CampStart_FirstInteraction\"]>0,'Interaction_Type']=0"
      ],
      "execution_count": 47,
      "outputs": []
    },
    {
      "cell_type": "code",
      "metadata": {
        "id": "UVpcawvi7PX8",
        "colab_type": "code",
        "colab": {
          "base_uri": "https://localhost:8080/",
          "height": 287
        },
        "outputId": "f9e2ae67-c428-44ba-9ffb-a405a1f7504f"
      },
      "source": [
        "Ftrain['Interaction_Type'].value_counts().plot(kind='bar')"
      ],
      "execution_count": 48,
      "outputs": [
        {
          "output_type": "execute_result",
          "data": {
            "text/plain": [
              "<matplotlib.axes._subplots.AxesSubplot at 0x7f1d44b17048>"
            ]
          },
          "metadata": {
            "tags": []
          },
          "execution_count": 48
        },
        {
          "output_type": "display_data",
          "data": {
            "image/png": "[encoded data removed]",
            "text/plain": [
              "<Figure size 432x288 with 1 Axes>"
            ]
          },
          "metadata": {
            "tags": [],
            "needs_background": "light"
          }
        }
      ]
    },
    {
      "cell_type": "markdown",
      "metadata": {
        "id": "zR7X172N7pkR",
        "colab_type": "text"
      },
      "source": [
        "We can see most of the people approximately twice the attendees had their first interaction befor camp start day"
      ]
    },
    {
      "cell_type": "code",
      "metadata": {
        "id": "LbrJmioq7Z2C",
        "colab_type": "code",
        "colab": {}
      },
      "source": [
        "Ftrain.drop(['Diff_CampStart_FirstInteraction','Diff_Registration_FirstInteraction','Diff_CampEnd_Registration','Diff_CampStart_Registration'],axis=1,inplace=True)"
      ],
      "execution_count": 49,
      "outputs": []
    },
    {
      "cell_type": "code",
      "metadata": {
        "id": "oeyCqFUG8zI-",
        "colab_type": "code",
        "colab": {}
      },
      "source": [
        "Ftrain.drop(['Registration_Date','Camp_Start_Date','Camp_End_Date','First_Interaction'],axis=1,inplace=True)"
      ],
      "execution_count": 50,
      "outputs": []
    },
    {
      "cell_type": "markdown",
      "metadata": {
        "id": "huDfOjr89oEL",
        "colab_type": "text"
      },
      "source": [
        "### Normalize Data"
      ]
    },
    {
      "cell_type": "code",
      "metadata": {
        "id": "K4OnodBY81Wv",
        "colab_type": "code",
        "colab": {
          "base_uri": "https://localhost:8080/"
        },
        "outputId": "342a2f2a-1ca1-45da-f822-2240a1dddf84"
      },
      "source": [
        "Ftrain.head()"
      ],
      "execution_count": null,
      "outputs": [
        {
          "output_type": "execute_result",
          "data": {
            "text/html": [
              "<div>\n",
              "<style scoped>\n",
              "    .dataframe tbody tr th:only-of-type {\n",
              "        vertical-align: middle;\n",
              "    }\n",
              "\n",
              "    .dataframe tbody tr th {\n",
              "        vertical-align: top;\n",
              "    }\n",
              "\n",
              "    .dataframe thead th {\n",
              "        text-align: right;\n",
              "    }\n",
              "</style>\n",
              "<table border=\"1\" class=\"dataframe\">\n",
              "  <thead>\n",
              "    <tr style=\"text-align: right;\">\n",
              "      <th></th>\n",
              "      <th>Patient_ID</th>\n",
              "      <th>Health_Camp_ID</th>\n",
              "      <th>Var1</th>\n",
              "      <th>Var2</th>\n",
              "      <th>Var3</th>\n",
              "      <th>Var4</th>\n",
              "      <th>Var5</th>\n",
              "      <th>Outcome</th>\n",
              "      <th>Online_Follower</th>\n",
              "      <th>LinkedIn_Shared</th>\n",
              "      <th>Twitter_Shared</th>\n",
              "      <th>Facebook_Shared</th>\n",
              "      <th>Income</th>\n",
              "      <th>Education_Score</th>\n",
              "      <th>Age</th>\n",
              "      <th>City_Type</th>\n",
              "      <th>Employer_Category</th>\n",
              "      <th>Category1</th>\n",
              "      <th>Category2</th>\n",
              "      <th>Category3</th>\n",
              "      <th>Camp_Duration_Days</th>\n",
              "      <th>customer_type</th>\n",
              "      <th>Registration_Type</th>\n",
              "      <th>Interaction_Type</th>\n",
              "    </tr>\n",
              "  </thead>\n",
              "  <tbody>\n",
              "    <tr>\n",
              "      <th>0</th>\n",
              "      <td>485751</td>\n",
              "      <td>6530</td>\n",
              "      <td>0</td>\n",
              "      <td>0</td>\n",
              "      <td>0</td>\n",
              "      <td>0</td>\n",
              "      <td>0</td>\n",
              "      <td>0</td>\n",
              "      <td>0</td>\n",
              "      <td>0</td>\n",
              "      <td>0</td>\n",
              "      <td>0</td>\n",
              "      <td>1.0</td>\n",
              "      <td>-99.000000</td>\n",
              "      <td>40.0</td>\n",
              "      <td>2</td>\n",
              "      <td>4</td>\n",
              "      <td>0</td>\n",
              "      <td>2</td>\n",
              "      <td>2</td>\n",
              "      <td>73</td>\n",
              "      <td>1.0</td>\n",
              "      <td>1.0</td>\n",
              "      <td>1.0</td>\n",
              "    </tr>\n",
              "    <tr>\n",
              "      <th>1</th>\n",
              "      <td>485826</td>\n",
              "      <td>6530</td>\n",
              "      <td>21</td>\n",
              "      <td>4</td>\n",
              "      <td>0</td>\n",
              "      <td>2</td>\n",
              "      <td>10</td>\n",
              "      <td>0</td>\n",
              "      <td>1</td>\n",
              "      <td>1</td>\n",
              "      <td>0</td>\n",
              "      <td>1</td>\n",
              "      <td>2.0</td>\n",
              "      <td>-99.000000</td>\n",
              "      <td>45.0</td>\n",
              "      <td>6</td>\n",
              "      <td>11</td>\n",
              "      <td>0</td>\n",
              "      <td>2</td>\n",
              "      <td>2</td>\n",
              "      <td>73</td>\n",
              "      <td>1.0</td>\n",
              "      <td>1.0</td>\n",
              "      <td>0.0</td>\n",
              "    </tr>\n",
              "    <tr>\n",
              "      <th>2</th>\n",
              "      <td>486115</td>\n",
              "      <td>6530</td>\n",
              "      <td>0</td>\n",
              "      <td>0</td>\n",
              "      <td>0</td>\n",
              "      <td>0</td>\n",
              "      <td>0</td>\n",
              "      <td>0</td>\n",
              "      <td>0</td>\n",
              "      <td>0</td>\n",
              "      <td>0</td>\n",
              "      <td>0</td>\n",
              "      <td>-99.0</td>\n",
              "      <td>-99.000000</td>\n",
              "      <td>-99.0</td>\n",
              "      <td>0</td>\n",
              "      <td>0</td>\n",
              "      <td>0</td>\n",
              "      <td>2</td>\n",
              "      <td>2</td>\n",
              "      <td>73</td>\n",
              "      <td>0.0</td>\n",
              "      <td>1.0</td>\n",
              "      <td>1.0</td>\n",
              "    </tr>\n",
              "    <tr>\n",
              "      <th>3</th>\n",
              "      <td>486131</td>\n",
              "      <td>6530</td>\n",
              "      <td>2</td>\n",
              "      <td>0</td>\n",
              "      <td>0</td>\n",
              "      <td>0</td>\n",
              "      <td>1</td>\n",
              "      <td>0</td>\n",
              "      <td>0</td>\n",
              "      <td>0</td>\n",
              "      <td>0</td>\n",
              "      <td>0</td>\n",
              "      <td>-99.0</td>\n",
              "      <td>-99.000000</td>\n",
              "      <td>-99.0</td>\n",
              "      <td>6</td>\n",
              "      <td>0</td>\n",
              "      <td>0</td>\n",
              "      <td>2</td>\n",
              "      <td>2</td>\n",
              "      <td>73</td>\n",
              "      <td>1.0</td>\n",
              "      <td>1.0</td>\n",
              "      <td>0.0</td>\n",
              "    </tr>\n",
              "    <tr>\n",
              "      <th>4</th>\n",
              "      <td>486358</td>\n",
              "      <td>6530</td>\n",
              "      <td>5</td>\n",
              "      <td>2</td>\n",
              "      <td>0</td>\n",
              "      <td>0</td>\n",
              "      <td>2</td>\n",
              "      <td>1</td>\n",
              "      <td>0</td>\n",
              "      <td>0</td>\n",
              "      <td>1</td>\n",
              "      <td>0</td>\n",
              "      <td>2.0</td>\n",
              "      <td>83.756667</td>\n",
              "      <td>41.0</td>\n",
              "      <td>3</td>\n",
              "      <td>1</td>\n",
              "      <td>0</td>\n",
              "      <td>2</td>\n",
              "      <td>2</td>\n",
              "      <td>73</td>\n",
              "      <td>1.0</td>\n",
              "      <td>1.0</td>\n",
              "      <td>0.0</td>\n",
              "    </tr>\n",
              "  </tbody>\n",
              "</table>\n",
              "</div>"
            ],
            "text/plain": [
              "   Patient_ID  Health_Camp_ID  ...  Registration_Type  Interaction_Type\n",
              "0      485751            6530  ...                1.0               1.0\n",
              "1      485826            6530  ...                1.0               0.0\n",
              "2      486115            6530  ...                1.0               1.0\n",
              "3      486131            6530  ...                1.0               0.0\n",
              "4      486358            6530  ...                1.0               0.0\n",
              "\n",
              "[5 rows x 24 columns]"
            ]
          },
          "metadata": {
            "tags": []
          },
          "execution_count": 409
        }
      ]
    },
    {
      "cell_type": "code",
      "metadata": {
        "id": "-wob7NmfAVdK",
        "colab_type": "code",
        "colab": {}
      },
      "source": [
        "# This Function Removes the Outlier\n",
        "def outlier(Ftrain,col):\n",
        "    IQR=Ftrain[col].quantile(.75)-Ftrain[col].quantile(.25)\n",
        "    upper_bound=Ftrain[col].quantile(.75) + ( 1.5 * IQR)\n",
        "    lower_bound=Ftrain[col].quantile(.25) - ( 1.5 * IQR)\n",
        "    Ftrain[col].clip(lower=lower_bound,upper=upper_bound,inplace=True)"
      ],
      "execution_count": 51,
      "outputs": []
    },
    {
      "cell_type": "code",
      "metadata": {
        "id": "bffPIsL4AEYV",
        "colab_type": "code",
        "colab": {
          "base_uri": "https://localhost:8080/",
          "height": 296
        },
        "outputId": "6c4c0f73-6d50-422c-8469-b681359f0263"
      },
      "source": [
        "sns.boxplot(Ftrain.Camp_Duration_Days)"
      ],
      "execution_count": 52,
      "outputs": [
        {
          "output_type": "execute_result",
          "data": {
            "text/plain": [
              "<matplotlib.axes._subplots.AxesSubplot at 0x7f1d4463d278>"
            ]
          },
          "metadata": {
            "tags": []
          },
          "execution_count": 52
        },
        {
          "output_type": "display_data",
          "data": {
            "image/png": "[encoded data removed]",
            "text/plain": [
              "<Figure size 432x288 with 1 Axes>"
            ]
          },
          "metadata": {
            "tags": [],
            "needs_background": "light"
          }
        }
      ]
    },
    {
      "cell_type": "code",
      "metadata": {
        "id": "zU4iz00nAInZ",
        "colab_type": "code",
        "colab": {}
      },
      "source": [
        "outlier(Ftrain,'Camp_Duration_Days')"
      ],
      "execution_count": 53,
      "outputs": []
    },
    {
      "cell_type": "code",
      "metadata": {
        "id": "PPzvmSB2AuEg",
        "colab_type": "code",
        "colab": {
          "base_uri": "https://localhost:8080/",
          "height": 296
        },
        "outputId": "7f076d39-38a3-4fd4-8f11-120e8ace3ac9"
      },
      "source": [
        "sns.boxplot(Ftrain.Camp_Duration_Days)"
      ],
      "execution_count": 54,
      "outputs": [
        {
          "output_type": "execute_result",
          "data": {
            "text/plain": [
              "<matplotlib.axes._subplots.AxesSubplot at 0x7f1d445c27f0>"
            ]
          },
          "metadata": {
            "tags": []
          },
          "execution_count": 54
        },
        {
          "output_type": "display_data",
          "data": {
            "image/png": "[encoded data removed]",
            "text/plain": [
              "<Figure size 432x288 with 1 Axes>"
            ]
          },
          "metadata": {
            "tags": [],
            "needs_background": "light"
          }
        }
      ]
    },
    {
      "cell_type": "code",
      "metadata": {
        "id": "ShWRy2oS_CSK",
        "colab_type": "code",
        "colab": {}
      },
      "source": [
        "num_col=['Var1','Var2','Var3','Var4','Var5','Education_Score','Age','Camp_Duration_Days']"
      ],
      "execution_count": 55,
      "outputs": []
    },
    {
      "cell_type": "code",
      "metadata": {
        "id": "3tfiUxVkBcEn",
        "colab_type": "code",
        "colab": {}
      },
      "source": [
        "norm=preprocessing.Normalizer().fit_transform(Ftrain[num_col])"
      ],
      "execution_count": 56,
      "outputs": []
    },
    {
      "cell_type": "code",
      "metadata": {
        "id": "J4pvxXV_ETeo",
        "colab_type": "code",
        "colab": {}
      },
      "source": [
        "norm=pd.DataFrame(norm,columns=num_col)"
      ],
      "execution_count": 57,
      "outputs": []
    },
    {
      "cell_type": "code",
      "metadata": {
        "id": "_pvh0qAbEhJJ",
        "colab_type": "code",
        "colab": {}
      },
      "source": [
        "Ftrain.drop(num_col,axis=1,inplace=True)\n",
        "Ftrain=pd.concat([Ftrain,norm],axis=1)"
      ],
      "execution_count": 58,
      "outputs": []
    },
    {
      "cell_type": "code",
      "metadata": {
        "id": "AIaw9BqyGdnB",
        "colab_type": "code",
        "colab": {
          "base_uri": "https://localhost:8080/"
        },
        "outputId": "9678f924-be54-4eec-842e-a3ecb5e291fd"
      },
      "source": [
        "Ftrain.head()"
      ],
      "execution_count": null,
      "outputs": [
        {
          "output_type": "execute_result",
          "data": {
            "text/html": [
              "<div>\n",
              "<style scoped>\n",
              "    .dataframe tbody tr th:only-of-type {\n",
              "        vertical-align: middle;\n",
              "    }\n",
              "\n",
              "    .dataframe tbody tr th {\n",
              "        vertical-align: top;\n",
              "    }\n",
              "\n",
              "    .dataframe thead th {\n",
              "        text-align: right;\n",
              "    }\n",
              "</style>\n",
              "<table border=\"1\" class=\"dataframe\">\n",
              "  <thead>\n",
              "    <tr style=\"text-align: right;\">\n",
              "      <th></th>\n",
              "      <th>Patient_ID</th>\n",
              "      <th>Health_Camp_ID</th>\n",
              "      <th>Outcome</th>\n",
              "      <th>Online_Follower</th>\n",
              "      <th>LinkedIn_Shared</th>\n",
              "      <th>Twitter_Shared</th>\n",
              "      <th>Facebook_Shared</th>\n",
              "      <th>Income</th>\n",
              "      <th>City_Type</th>\n",
              "      <th>Employer_Category</th>\n",
              "      <th>Category1</th>\n",
              "      <th>Category2</th>\n",
              "      <th>Category3</th>\n",
              "      <th>customer_type</th>\n",
              "      <th>Registration_Type</th>\n",
              "      <th>Interaction_Type</th>\n",
              "      <th>Var1</th>\n",
              "      <th>Var2</th>\n",
              "      <th>Var3</th>\n",
              "      <th>Var4</th>\n",
              "      <th>Var5</th>\n",
              "      <th>Education_Score</th>\n",
              "      <th>Age</th>\n",
              "      <th>Camp_Duration_Days</th>\n",
              "    </tr>\n",
              "  </thead>\n",
              "  <tbody>\n",
              "    <tr>\n",
              "      <th>0</th>\n",
              "      <td>485751</td>\n",
              "      <td>6530</td>\n",
              "      <td>0</td>\n",
              "      <td>0</td>\n",
              "      <td>0</td>\n",
              "      <td>0</td>\n",
              "      <td>0</td>\n",
              "      <td>1.0</td>\n",
              "      <td>2</td>\n",
              "      <td>4</td>\n",
              "      <td>0</td>\n",
              "      <td>2</td>\n",
              "      <td>2</td>\n",
              "      <td>1.0</td>\n",
              "      <td>1.0</td>\n",
              "      <td>1.0</td>\n",
              "      <td>0.000000</td>\n",
              "      <td>0.000000</td>\n",
              "      <td>0.0</td>\n",
              "      <td>0.000000</td>\n",
              "      <td>0.000000</td>\n",
              "      <td>-0.765398</td>\n",
              "      <td>0.309252</td>\n",
              "      <td>0.564384</td>\n",
              "    </tr>\n",
              "    <tr>\n",
              "      <th>1</th>\n",
              "      <td>485826</td>\n",
              "      <td>6530</td>\n",
              "      <td>0</td>\n",
              "      <td>1</td>\n",
              "      <td>1</td>\n",
              "      <td>0</td>\n",
              "      <td>1</td>\n",
              "      <td>2.0</td>\n",
              "      <td>6</td>\n",
              "      <td>11</td>\n",
              "      <td>0</td>\n",
              "      <td>2</td>\n",
              "      <td>2</td>\n",
              "      <td>1.0</td>\n",
              "      <td>1.0</td>\n",
              "      <td>0.0</td>\n",
              "      <td>0.157774</td>\n",
              "      <td>0.030052</td>\n",
              "      <td>0.0</td>\n",
              "      <td>0.015026</td>\n",
              "      <td>0.075131</td>\n",
              "      <td>-0.743793</td>\n",
              "      <td>0.338088</td>\n",
              "      <td>0.548454</td>\n",
              "    </tr>\n",
              "    <tr>\n",
              "      <th>2</th>\n",
              "      <td>486115</td>\n",
              "      <td>6530</td>\n",
              "      <td>0</td>\n",
              "      <td>0</td>\n",
              "      <td>0</td>\n",
              "      <td>0</td>\n",
              "      <td>0</td>\n",
              "      <td>-99.0</td>\n",
              "      <td>0</td>\n",
              "      <td>0</td>\n",
              "      <td>0</td>\n",
              "      <td>2</td>\n",
              "      <td>2</td>\n",
              "      <td>0.0</td>\n",
              "      <td>1.0</td>\n",
              "      <td>1.0</td>\n",
              "      <td>0.000000</td>\n",
              "      <td>0.000000</td>\n",
              "      <td>0.0</td>\n",
              "      <td>0.000000</td>\n",
              "      <td>0.000000</td>\n",
              "      <td>-0.626997</td>\n",
              "      <td>-0.626997</td>\n",
              "      <td>0.462331</td>\n",
              "    </tr>\n",
              "    <tr>\n",
              "      <th>3</th>\n",
              "      <td>486131</td>\n",
              "      <td>6530</td>\n",
              "      <td>0</td>\n",
              "      <td>0</td>\n",
              "      <td>0</td>\n",
              "      <td>0</td>\n",
              "      <td>0</td>\n",
              "      <td>-99.0</td>\n",
              "      <td>6</td>\n",
              "      <td>0</td>\n",
              "      <td>0</td>\n",
              "      <td>2</td>\n",
              "      <td>2</td>\n",
              "      <td>1.0</td>\n",
              "      <td>1.0</td>\n",
              "      <td>0.0</td>\n",
              "      <td>0.012665</td>\n",
              "      <td>0.000000</td>\n",
              "      <td>0.0</td>\n",
              "      <td>0.000000</td>\n",
              "      <td>0.006333</td>\n",
              "      <td>-0.626934</td>\n",
              "      <td>-0.626934</td>\n",
              "      <td>0.462285</td>\n",
              "    </tr>\n",
              "    <tr>\n",
              "      <th>4</th>\n",
              "      <td>486358</td>\n",
              "      <td>6530</td>\n",
              "      <td>1</td>\n",
              "      <td>0</td>\n",
              "      <td>0</td>\n",
              "      <td>1</td>\n",
              "      <td>0</td>\n",
              "      <td>2.0</td>\n",
              "      <td>3</td>\n",
              "      <td>1</td>\n",
              "      <td>0</td>\n",
              "      <td>2</td>\n",
              "      <td>2</td>\n",
              "      <td>1.0</td>\n",
              "      <td>1.0</td>\n",
              "      <td>0.0</td>\n",
              "      <td>0.042170</td>\n",
              "      <td>0.016868</td>\n",
              "      <td>0.0</td>\n",
              "      <td>0.000000</td>\n",
              "      <td>0.016868</td>\n",
              "      <td>0.706407</td>\n",
              "      <td>0.345795</td>\n",
              "      <td>0.615685</td>\n",
              "    </tr>\n",
              "  </tbody>\n",
              "</table>\n",
              "</div>"
            ],
            "text/plain": [
              "   Patient_ID  Health_Camp_ID  ...       Age  Camp_Duration_Days\n",
              "0      485751            6530  ...  0.309252            0.564384\n",
              "1      485826            6530  ...  0.338088            0.548454\n",
              "2      486115            6530  ... -0.626997            0.462331\n",
              "3      486131            6530  ... -0.626934            0.462285\n",
              "4      486358            6530  ...  0.345795            0.615685\n",
              "\n",
              "[5 rows x 24 columns]"
            ]
          },
          "metadata": {
            "tags": []
          },
          "execution_count": 418
        }
      ]
    },
    {
      "cell_type": "code",
      "metadata": {
        "id": "KoFqZY1eBtpW",
        "colab_type": "code",
        "colab": {}
      },
      "source": [
        "Ftrain.drop(['Patient_ID','Health_Camp_ID'],axis=1,inplace=True)"
      ],
      "execution_count": 59,
      "outputs": []
    },
    {
      "cell_type": "markdown",
      "metadata": {
        "id": "HY3HcwF6Hkci",
        "colab_type": "text"
      },
      "source": [
        "### Splitting the Data Set"
      ]
    },
    {
      "cell_type": "code",
      "metadata": {
        "id": "qHLNmtQzHe8K",
        "colab_type": "code",
        "colab": {}
      },
      "source": [
        "X_Data=Ftrain.drop('Outcome',axis=1)\n",
        "y_data=Ftrain[['Outcome']]"
      ],
      "execution_count": 60,
      "outputs": []
    },
    {
      "cell_type": "code",
      "metadata": {
        "id": "7skT2BT5Kfh0",
        "colab_type": "code",
        "colab": {
          "base_uri": "https://localhost:8080/",
          "height": 33
        },
        "outputId": "ca411df4-0dd4-40b1-edeb-45a3574222e4"
      },
      "source": [
        "X_Data.shape"
      ],
      "execution_count": null,
      "outputs": [
        {
          "output_type": "execute_result",
          "data": {
            "text/plain": [
              "(74944, 21)"
            ]
          },
          "metadata": {
            "tags": []
          },
          "execution_count": 421
        }
      ]
    },
    {
      "cell_type": "code",
      "metadata": {
        "id": "0K_TbygibP_Z",
        "colab_type": "code",
        "colab": {}
      },
      "source": [
        "X_train,X_test,y_train,y_test=tts(X_Data,y_data,test_size=.20,random_state=2)"
      ],
      "execution_count": 69,
      "outputs": []
    },
    {
      "cell_type": "markdown",
      "metadata": {
        "id": "0-j2KPRFb_FY",
        "colab_type": "text"
      },
      "source": [
        "### Important Feature Selection"
      ]
    },
    {
      "cell_type": "code",
      "metadata": {
        "id": "ulk5fZFNb7UZ",
        "colab_type": "code",
        "colab": {}
      },
      "source": [
        "FS_clf=DTC(criterion='gini').fit(X_train,y_train)"
      ],
      "execution_count": 67,
      "outputs": []
    },
    {
      "cell_type": "code",
      "metadata": {
        "id": "2tgesC8Accsj",
        "colab_type": "code",
        "colab": {
          "base_uri": "https://localhost:8080/",
          "height": 33
        },
        "outputId": "0694ce8f-2a03-4aec-a4a5-907976a93911"
      },
      "source": [
        "len(FS_clf.feature_importances_)"
      ],
      "execution_count": null,
      "outputs": [
        {
          "output_type": "execute_result",
          "data": {
            "text/plain": [
              "21"
            ]
          },
          "metadata": {
            "tags": []
          },
          "execution_count": 424
        }
      ]
    },
    {
      "cell_type": "code",
      "metadata": {
        "id": "t6Bbd_eLcgQM",
        "colab_type": "code",
        "colab": {}
      },
      "source": [
        "cols=X_train.columns\n",
        "impo=FS_clf.feature_importances_\n",
        "FI=pd.DataFrame(cols,columns=['Columns'])\n",
        "FI['Importance']=impo"
      ],
      "execution_count": 70,
      "outputs": []
    },
    {
      "cell_type": "code",
      "metadata": {
        "id": "zH6CyUqDdAdA",
        "colab_type": "code",
        "colab": {
          "base_uri": "https://localhost:8080/",
          "height": 651
        },
        "outputId": "397c0844-01d2-4abb-8e34-84c9a2c3956b"
      },
      "source": [
        "FI"
      ],
      "execution_count": null,
      "outputs": [
        {
          "output_type": "execute_result",
          "data": {
            "text/html": [
              "<div>\n",
              "<style scoped>\n",
              "    .dataframe tbody tr th:only-of-type {\n",
              "        vertical-align: middle;\n",
              "    }\n",
              "\n",
              "    .dataframe tbody tr th {\n",
              "        vertical-align: top;\n",
              "    }\n",
              "\n",
              "    .dataframe thead th {\n",
              "        text-align: right;\n",
              "    }\n",
              "</style>\n",
              "<table border=\"1\" class=\"dataframe\">\n",
              "  <thead>\n",
              "    <tr style=\"text-align: right;\">\n",
              "      <th></th>\n",
              "      <th>Columns</th>\n",
              "      <th>Importance</th>\n",
              "    </tr>\n",
              "  </thead>\n",
              "  <tbody>\n",
              "    <tr>\n",
              "      <th>0</th>\n",
              "      <td>Online_Follower</td>\n",
              "      <td>0.007150</td>\n",
              "    </tr>\n",
              "    <tr>\n",
              "      <th>1</th>\n",
              "      <td>LinkedIn_Shared</td>\n",
              "      <td>0.010600</td>\n",
              "    </tr>\n",
              "    <tr>\n",
              "      <th>2</th>\n",
              "      <td>Twitter_Shared</td>\n",
              "      <td>0.010536</td>\n",
              "    </tr>\n",
              "    <tr>\n",
              "      <th>3</th>\n",
              "      <td>Facebook_Shared</td>\n",
              "      <td>0.007623</td>\n",
              "    </tr>\n",
              "    <tr>\n",
              "      <th>4</th>\n",
              "      <td>Income</td>\n",
              "      <td>0.035356</td>\n",
              "    </tr>\n",
              "    <tr>\n",
              "      <th>5</th>\n",
              "      <td>City_Type</td>\n",
              "      <td>0.072385</td>\n",
              "    </tr>\n",
              "    <tr>\n",
              "      <th>6</th>\n",
              "      <td>Employer_Category</td>\n",
              "      <td>0.039492</td>\n",
              "    </tr>\n",
              "    <tr>\n",
              "      <th>7</th>\n",
              "      <td>Category1</td>\n",
              "      <td>0.348454</td>\n",
              "    </tr>\n",
              "    <tr>\n",
              "      <th>8</th>\n",
              "      <td>Category2</td>\n",
              "      <td>0.013406</td>\n",
              "    </tr>\n",
              "    <tr>\n",
              "      <th>9</th>\n",
              "      <td>Category3</td>\n",
              "      <td>0.001885</td>\n",
              "    </tr>\n",
              "    <tr>\n",
              "      <th>10</th>\n",
              "      <td>customer_type</td>\n",
              "      <td>0.011734</td>\n",
              "    </tr>\n",
              "    <tr>\n",
              "      <th>11</th>\n",
              "      <td>Registration_Type</td>\n",
              "      <td>0.095899</td>\n",
              "    </tr>\n",
              "    <tr>\n",
              "      <th>12</th>\n",
              "      <td>Interaction_Type</td>\n",
              "      <td>0.011814</td>\n",
              "    </tr>\n",
              "    <tr>\n",
              "      <th>13</th>\n",
              "      <td>Var1</td>\n",
              "      <td>0.029428</td>\n",
              "    </tr>\n",
              "    <tr>\n",
              "      <th>14</th>\n",
              "      <td>Var2</td>\n",
              "      <td>0.008399</td>\n",
              "    </tr>\n",
              "    <tr>\n",
              "      <th>15</th>\n",
              "      <td>Var3</td>\n",
              "      <td>0.000059</td>\n",
              "    </tr>\n",
              "    <tr>\n",
              "      <th>16</th>\n",
              "      <td>Var4</td>\n",
              "      <td>0.004152</td>\n",
              "    </tr>\n",
              "    <tr>\n",
              "      <th>17</th>\n",
              "      <td>Var5</td>\n",
              "      <td>0.017787</td>\n",
              "    </tr>\n",
              "    <tr>\n",
              "      <th>18</th>\n",
              "      <td>Education_Score</td>\n",
              "      <td>0.075921</td>\n",
              "    </tr>\n",
              "    <tr>\n",
              "      <th>19</th>\n",
              "      <td>Age</td>\n",
              "      <td>0.101198</td>\n",
              "    </tr>\n",
              "    <tr>\n",
              "      <th>20</th>\n",
              "      <td>Camp_Duration_Days</td>\n",
              "      <td>0.096724</td>\n",
              "    </tr>\n",
              "  </tbody>\n",
              "</table>\n",
              "</div>"
            ],
            "text/plain": [
              "               Columns  Importance\n",
              "0      Online_Follower    0.007150\n",
              "1      LinkedIn_Shared    0.010600\n",
              "2       Twitter_Shared    0.010536\n",
              "3      Facebook_Shared    0.007623\n",
              "4               Income    0.035356\n",
              "5            City_Type    0.072385\n",
              "6    Employer_Category    0.039492\n",
              "7            Category1    0.348454\n",
              "8            Category2    0.013406\n",
              "9            Category3    0.001885\n",
              "10       customer_type    0.011734\n",
              "11   Registration_Type    0.095899\n",
              "12    Interaction_Type    0.011814\n",
              "13                Var1    0.029428\n",
              "14                Var2    0.008399\n",
              "15                Var3    0.000059\n",
              "16                Var4    0.004152\n",
              "17                Var5    0.017787\n",
              "18     Education_Score    0.075921\n",
              "19                 Age    0.101198\n",
              "20  Camp_Duration_Days    0.096724"
            ]
          },
          "metadata": {
            "tags": []
          },
          "execution_count": 427
        }
      ]
    },
    {
      "cell_type": "code",
      "metadata": {
        "id": "fSCsttmCd6_o",
        "colab_type": "code",
        "colab": {
          "base_uri": "https://localhost:8080/",
          "height": 131
        },
        "outputId": "46ea676d-1a81-490e-8f7d-57eb75904c1f"
      },
      "source": [
        "FS_clf=DTC(criterion='gini')\n",
        "rfe = RFE(FS_clf, 3)\n",
        "rfe = rfe.fit(X_train, y_train.values.ravel())\n",
        "# print summaries for the selection of attributes\n",
        "print(X_train.columns)\n",
        "print(rfe.ranking_)"
      ],
      "execution_count": 72,
      "outputs": [
        {
          "output_type": "stream",
          "text": [
            "Index(['Online_Follower', 'LinkedIn_Shared', 'Twitter_Shared',\n",
            "       'Facebook_Shared', 'Income', 'City_Type', 'Employer_Category',\n",
            "       'Category1', 'Category2', 'Category3', 'customer_type',\n",
            "       'Registration_Type', 'Interaction_Type', 'Var1', 'Var2', 'Var3', 'Var4',\n",
            "       'Var5', 'Education_Score', 'Age', 'Camp_Duration_Days'],\n",
            "      dtype='object')\n",
            "[16  9 12 14  7  4  5  1 10 18 13  2 11  6 15 19 17  8  3  1  1]\n"
          ],
          "name": "stdout"
        }
      ]
    },
    {
      "cell_type": "code",
      "metadata": {
        "id": "Nn5bkBbTfFa1",
        "colab_type": "code",
        "colab": {
          "base_uri": "https://localhost:8080/",
          "height": 66
        },
        "outputId": "4dafd7cb-a609-4cbb-b514-7cadf917bbd6"
      },
      "source": [
        "rfe.support_"
      ],
      "execution_count": null,
      "outputs": [
        {
          "output_type": "execute_result",
          "data": {
            "text/plain": [
              "array([False, False, False, False, False, False, False,  True, False,\n",
              "       False, False, False, False, False, False, False, False, False,\n",
              "       False,  True,  True])"
            ]
          },
          "metadata": {
            "tags": []
          },
          "execution_count": 429
        }
      ]
    },
    {
      "cell_type": "markdown",
      "metadata": {
        "id": "bAPw0mEn8Qr2",
        "colab_type": "text"
      },
      "source": [
        "### Baseline Model"
      ]
    },
    {
      "cell_type": "code",
      "metadata": {
        "id": "gI4H-Yvcffgq",
        "colab_type": "code",
        "colab": {}
      },
      "source": [
        "selected_data=X_train[['Category1', 'Age', 'Camp_Duration_Days']]"
      ],
      "execution_count": null,
      "outputs": []
    },
    {
      "cell_type": "code",
      "metadata": {
        "id": "MGGjt8YOhgnK",
        "colab_type": "code",
        "colab": {}
      },
      "source": [
        "clf=DTC(criterion='entropy').fit(selected_data,y_train)"
      ],
      "execution_count": null,
      "outputs": []
    },
    {
      "cell_type": "code",
      "metadata": {
        "id": "or-T3z3Wh3Gz",
        "colab_type": "code",
        "colab": {}
      },
      "source": [
        "y_pred=clf.predict(selected_data)"
      ],
      "execution_count": null,
      "outputs": []
    },
    {
      "cell_type": "code",
      "metadata": {
        "id": "x7uT5pTwh8B7",
        "colab_type": "code",
        "colab": {
          "base_uri": "https://localhost:8080/",
          "height": 163
        },
        "outputId": "cc03b3c8-0591-47e4-d942-885cf3e7d7fa"
      },
      "source": [
        "print(classification_report(y_train,y_pred))"
      ],
      "execution_count": null,
      "outputs": [
        {
          "output_type": "stream",
          "text": [
            "              precision    recall  f1-score   support\n",
            "\n",
            "           0       0.88      0.91      0.89     43687\n",
            "           1       0.72      0.66      0.69     16268\n",
            "\n",
            "    accuracy                           0.84     59955\n",
            "   macro avg       0.80      0.78      0.79     59955\n",
            "weighted avg       0.84      0.84      0.84     59955\n",
            "\n"
          ],
          "name": "stdout"
        }
      ]
    },
    {
      "cell_type": "code",
      "metadata": {
        "id": "9eA6C3P-iPUQ",
        "colab_type": "code",
        "colab": {}
      },
      "source": [
        "selected_data_t=X_test[['Category1', 'Age', 'Camp_Duration_Days']]"
      ],
      "execution_count": null,
      "outputs": []
    },
    {
      "cell_type": "code",
      "metadata": {
        "id": "hv1NJ3FdiXMy",
        "colab_type": "code",
        "colab": {}
      },
      "source": [
        "y_pred_t=clf.predict(selected_data_t)"
      ],
      "execution_count": null,
      "outputs": []
    },
    {
      "cell_type": "code",
      "metadata": {
        "id": "SHYv3VJvic8E",
        "colab_type": "code",
        "colab": {
          "base_uri": "https://localhost:8080/",
          "height": 163
        },
        "outputId": "93031be9-01c2-4bbe-d7f1-5974d1c834d5"
      },
      "source": [
        "print(classification_report(y_test,y_pred_t))"
      ],
      "execution_count": null,
      "outputs": [
        {
          "output_type": "stream",
          "text": [
            "              precision    recall  f1-score   support\n",
            "\n",
            "           0       0.84      0.86      0.85     10919\n",
            "           1       0.60      0.55      0.58      4070\n",
            "\n",
            "    accuracy                           0.78     14989\n",
            "   macro avg       0.72      0.71      0.71     14989\n",
            "weighted avg       0.78      0.78      0.78     14989\n",
            "\n"
          ],
          "name": "stdout"
        }
      ]
    },
    {
      "cell_type": "markdown",
      "metadata": {
        "id": "4ru97rTm8XU2",
        "colab_type": "text"
      },
      "source": [
        "** We see there is overfitting in te model**"
      ]
    },
    {
      "cell_type": "code",
      "metadata": {
        "id": "FFeRyiSX5JuH",
        "colab_type": "code",
        "colab": {}
      },
      "source": [
        ""
      ],
      "execution_count": null,
      "outputs": []
    },
    {
      "cell_type": "markdown",
      "metadata": {
        "id": "Wh66sN4j8eFa",
        "colab_type": "text"
      },
      "source": [
        "### XGBOOST"
      ]
    },
    {
      "cell_type": "markdown",
      "metadata": {
        "id": "4lq4mZOC8m7N",
        "colab_type": "text"
      },
      "source": [
        "- XGBoost is an implementation of gradient boosted decision trees designed for speed and performance that is dominative competitive machine learning.\n",
        "\n",
        "**What is XGBOOST?**\n",
        "\n",
        "XGBoost is a decision-tree-based ensemble Machine Learning algorithm that uses a gradient boosting framework. In prediction problems involving unstructured data (images, text, etc.) artificial neural networks tend to outperform all other algorithms or frameworks. However, when it comes to small-to-medium structured/tabular data, decision tree based algorithms are considered best-in-class right now.\n",
        "\n",
        "Evolution of tree-based algorithms over the years :\n",
        "\n",
        "\n",
        "![alt text](https://miro.medium.com/max/700/1*QJZ6W-Pck_W7RlIDwUIN9Q.jpeg)\n",
        "\n",
        "The algorithm differentiates itself in the following ways:\n",
        "\n",
        "- A wide range of applications: Can be used to solve regression, classification, ranking, and user-defined prediction problems.\n",
        "\n",
        "- Portability: Runs smoothly on Windows, Linux, and OS X.\n",
        "\n",
        "- Languages: Supports all major programming languages including C++, Python, R, Java, Scala, and Julia.\n",
        "\n",
        "- Cloud Integration: Supports AWS, Azure, and Yarn clusters and works well with Flink, Spark, and other ecosystems.\n",
        "\n",
        "**How to build an intuition for XGBoost?**\n",
        "\n",
        "Imagine that you are a hiring manager interviewing several candidates with excellent qualifications. Each step of the evolution of tree-based algorithms can be viewed as a version of the interview process.\n",
        "\n",
        "\n",
        "- **Decision Tree**: Every hiring manager has a set of criteria such as education level, number of years of experience, interview performance. A decision tree is analogous to a hiring manager interviewing candidates based on his or her own criteria.\n",
        "\n",
        "- **Bagging**: Now imagine instead of a single interviewer, now there is an interview panel where each interviewer has a vote. Bagging or bootstrap aggregating involves combining inputs from all interviewers for the final decision through a democratic voting process.\n",
        "\n",
        "- **Random Forest**: Every interviewer will only test the interviewee on certain randomly selected qualifications (e.g. a technical interview for testing programming skills and a behavioral interview for evaluating non-technical skills).\n",
        "\n",
        "- **Boosting**: This is an alternative approach where each interviewer alters the evaluation criteria based on feedback from the previous interviewer. This ‘boosts’ the efficiency of the interview process by deploying a more dynamic evaluation process.\n",
        "\n",
        "- **Gradient Boosting**: A special case of boosting where errors are minimized by gradient descent algorithm e.g. the strategy consulting firms leverage by using case interviews to weed out less qualified candidates.\n",
        "\n",
        "- **XGBoost**: Think of XGBoost as gradient boosting on ‘steroids’ (well it is called ‘Extreme Gradient Boosting’ for a reason!). It is a perfect combination of software and hardware optimization techniques to yield superior results using less computing resources in the shortest amount of time.\n",
        "\n",
        "**Why does XGBoost perform so well?**\n",
        "\n",
        "XGBoost and Gradient Boosting Machines (GBMs) are both ensemble tree methods that apply the principle of boosting weak learners (CARTs generally) using the gradient descent architecture. However, XGBoost improves upon the base GBM framework through systems optimization and algorithmic enhancements.\n",
        "\n",
        "![alt text](https://miro.medium.com/max/700/1*FLshv-wVDfu-i54OqvZdHg.png)\n",
        "\n",
        "- **System Optimization:**\n",
        "\n",
        "  1. Parallelization: XGBoost approaches the process of sequential tree building using parallelized implementation. This is possible due to the interchangeable nature of loops used for building base learners; the outer loop that enumerates the leaf nodes of a tree, and the second inner loop that calculates the features. This nesting of loops limits parallelization because without completing the inner loop (more computationally demanding of the two), the outer loop cannot be started. Therefore, to improve run time, the order of loops is interchanged using initialization through a global scan of all instances and sorting using parallel threads. This switch improves algorithmic performance by offsetting any parallelization overheads in computation.\n",
        "\n",
        "  2. Tree Pruning: The stopping criterion for tree splitting within GBM framework is greedy in nature and depends on the negative loss criterion at the point of split. XGBoost uses ‘max_depth’ parameter as specified instead of criterion first, and starts pruning trees backward. This ‘depth-first’ approach improves computational performance significantly.\n",
        "\n",
        "**Algorithmic Enhancements:**\n",
        "\n",
        "  1. Regularization: It penalizes more complex models through both LASSO (L1) and Ridge (L2) regularization to prevent overfitting.\n",
        "\n",
        "  2. Sparsity Awareness: XGBoost naturally admits sparse features for inputs by automatically ‘learning’ best missing value depending on training loss and handles different types of sparsity patterns in the data more efficiently.\n",
        "\n",
        "  3. Weighted Quantile Sketch: XGBoost employs the distributed weighted Quantile Sketch algorithm to effectively find the optimal split points among weighted datasets.\n",
        "\n",
        "  4. Cross-validation: The algorithm comes with built-in cross-validation method at each iteration, taking away the need to explicitly program this search and to specify the exact number of boosting iterations required in a single run."
      ]
    },
    {
      "cell_type": "markdown",
      "metadata": {
        "id": "mi6RSQQgAMLo",
        "colab_type": "text"
      },
      "source": [
        "It is not that we start with XGBOOST.\n",
        "\n",
        "When it comes to Machine Learning, there is no free lunch. We must test all possible algorithms for data at hand to identify the best algorithm. Besides, picking the right algorithm is not enough. We must also choose the right configuration of the algorithm for a dataset by tuning the hyper-parameters. Furthermore, there are several other considerations for choosing the winning algorithm such as computational complexity, explainability, and ease of implementation. This is exactly the point where Machine Learning starts drifting away from science towards art, but honestly, that’s where the magic happens!"
      ]
    },
    {
      "cell_type": "code",
      "metadata": {
        "id": "Y2zdUT4_AKNw",
        "colab_type": "code",
        "colab": {}
      },
      "source": [
        ""
      ],
      "execution_count": null,
      "outputs": []
    },
    {
      "cell_type": "markdown",
      "metadata": {
        "id": "82eT5x3UAf0x",
        "colab_type": "text"
      },
      "source": [
        "#### Important Features"
      ]
    },
    {
      "cell_type": "code",
      "metadata": {
        "id": "9GnB0pcw2SE_",
        "colab_type": "code",
        "colab": {
          "base_uri": "https://localhost:8080/",
          "height": 98
        },
        "outputId": "84eb5b2a-565d-4606-8492-61cf6a9bd86b"
      },
      "source": [
        "\n",
        "# fit model no training data\n",
        "model = XGBClassifier()\n",
        "model.fit(X_train, y_train)\n",
        "model.feature_importances_"
      ],
      "execution_count": null,
      "outputs": [
        {
          "output_type": "execute_result",
          "data": {
            "text/plain": [
              "array([0.00704725, 0.00740983, 0.00710735, 0.00525888, 0.01389796,\n",
              "       0.00702535, 0.00671355, 0.6188404 , 0.01871728, 0.01202048,\n",
              "       0.03814477, 0.17678602, 0.01103632, 0.00737959, 0.00696372,\n",
              "       0.00183983, 0.00488374, 0.00763458, 0.00963189, 0.0175083 ,\n",
              "       0.01415287], dtype=float32)"
            ]
          },
          "metadata": {
            "tags": []
          },
          "execution_count": 441
        }
      ]
    },
    {
      "cell_type": "code",
      "metadata": {
        "id": "EiqdJcl2BYBg",
        "colab_type": "code",
        "colab": {}
      },
      "source": [
        "cols=X_train.columns\n",
        "impo=model.feature_importances_\n",
        "FI=pd.DataFrame(cols,columns=['Columns'])\n",
        "FI['Importance']=impo"
      ],
      "execution_count": null,
      "outputs": []
    },
    {
      "cell_type": "code",
      "metadata": {
        "id": "ycfQZ9zQ2v_L",
        "colab_type": "code",
        "colab": {
          "base_uri": "https://localhost:8080/",
          "height": 651
        },
        "outputId": "a8196772-d4d1-449c-d1d0-a51a3a3f4147"
      },
      "source": [
        "FI"
      ],
      "execution_count": null,
      "outputs": [
        {
          "output_type": "execute_result",
          "data": {
            "text/html": [
              "<div>\n",
              "<style scoped>\n",
              "    .dataframe tbody tr th:only-of-type {\n",
              "        vertical-align: middle;\n",
              "    }\n",
              "\n",
              "    .dataframe tbody tr th {\n",
              "        vertical-align: top;\n",
              "    }\n",
              "\n",
              "    .dataframe thead th {\n",
              "        text-align: right;\n",
              "    }\n",
              "</style>\n",
              "<table border=\"1\" class=\"dataframe\">\n",
              "  <thead>\n",
              "    <tr style=\"text-align: right;\">\n",
              "      <th></th>\n",
              "      <th>Columns</th>\n",
              "      <th>Importance</th>\n",
              "    </tr>\n",
              "  </thead>\n",
              "  <tbody>\n",
              "    <tr>\n",
              "      <th>0</th>\n",
              "      <td>Online_Follower</td>\n",
              "      <td>0.007047</td>\n",
              "    </tr>\n",
              "    <tr>\n",
              "      <th>1</th>\n",
              "      <td>LinkedIn_Shared</td>\n",
              "      <td>0.007410</td>\n",
              "    </tr>\n",
              "    <tr>\n",
              "      <th>2</th>\n",
              "      <td>Twitter_Shared</td>\n",
              "      <td>0.007107</td>\n",
              "    </tr>\n",
              "    <tr>\n",
              "      <th>3</th>\n",
              "      <td>Facebook_Shared</td>\n",
              "      <td>0.005259</td>\n",
              "    </tr>\n",
              "    <tr>\n",
              "      <th>4</th>\n",
              "      <td>Income</td>\n",
              "      <td>0.013898</td>\n",
              "    </tr>\n",
              "    <tr>\n",
              "      <th>5</th>\n",
              "      <td>City_Type</td>\n",
              "      <td>0.007025</td>\n",
              "    </tr>\n",
              "    <tr>\n",
              "      <th>6</th>\n",
              "      <td>Employer_Category</td>\n",
              "      <td>0.006714</td>\n",
              "    </tr>\n",
              "    <tr>\n",
              "      <th>7</th>\n",
              "      <td>Category1</td>\n",
              "      <td>0.618840</td>\n",
              "    </tr>\n",
              "    <tr>\n",
              "      <th>8</th>\n",
              "      <td>Category2</td>\n",
              "      <td>0.018717</td>\n",
              "    </tr>\n",
              "    <tr>\n",
              "      <th>9</th>\n",
              "      <td>Category3</td>\n",
              "      <td>0.012020</td>\n",
              "    </tr>\n",
              "    <tr>\n",
              "      <th>10</th>\n",
              "      <td>customer_type</td>\n",
              "      <td>0.038145</td>\n",
              "    </tr>\n",
              "    <tr>\n",
              "      <th>11</th>\n",
              "      <td>Registration_Type</td>\n",
              "      <td>0.176786</td>\n",
              "    </tr>\n",
              "    <tr>\n",
              "      <th>12</th>\n",
              "      <td>Interaction_Type</td>\n",
              "      <td>0.011036</td>\n",
              "    </tr>\n",
              "    <tr>\n",
              "      <th>13</th>\n",
              "      <td>Var1</td>\n",
              "      <td>0.007380</td>\n",
              "    </tr>\n",
              "    <tr>\n",
              "      <th>14</th>\n",
              "      <td>Var2</td>\n",
              "      <td>0.006964</td>\n",
              "    </tr>\n",
              "    <tr>\n",
              "      <th>15</th>\n",
              "      <td>Var3</td>\n",
              "      <td>0.001840</td>\n",
              "    </tr>\n",
              "    <tr>\n",
              "      <th>16</th>\n",
              "      <td>Var4</td>\n",
              "      <td>0.004884</td>\n",
              "    </tr>\n",
              "    <tr>\n",
              "      <th>17</th>\n",
              "      <td>Var5</td>\n",
              "      <td>0.007635</td>\n",
              "    </tr>\n",
              "    <tr>\n",
              "      <th>18</th>\n",
              "      <td>Education_Score</td>\n",
              "      <td>0.009632</td>\n",
              "    </tr>\n",
              "    <tr>\n",
              "      <th>19</th>\n",
              "      <td>Age</td>\n",
              "      <td>0.017508</td>\n",
              "    </tr>\n",
              "    <tr>\n",
              "      <th>20</th>\n",
              "      <td>Camp_Duration_Days</td>\n",
              "      <td>0.014153</td>\n",
              "    </tr>\n",
              "  </tbody>\n",
              "</table>\n",
              "</div>"
            ],
            "text/plain": [
              "               Columns  Importance\n",
              "0      Online_Follower    0.007047\n",
              "1      LinkedIn_Shared    0.007410\n",
              "2       Twitter_Shared    0.007107\n",
              "3      Facebook_Shared    0.005259\n",
              "4               Income    0.013898\n",
              "5            City_Type    0.007025\n",
              "6    Employer_Category    0.006714\n",
              "7            Category1    0.618840\n",
              "8            Category2    0.018717\n",
              "9            Category3    0.012020\n",
              "10       customer_type    0.038145\n",
              "11   Registration_Type    0.176786\n",
              "12    Interaction_Type    0.011036\n",
              "13                Var1    0.007380\n",
              "14                Var2    0.006964\n",
              "15                Var3    0.001840\n",
              "16                Var4    0.004884\n",
              "17                Var5    0.007635\n",
              "18     Education_Score    0.009632\n",
              "19                 Age    0.017508\n",
              "20  Camp_Duration_Days    0.014153"
            ]
          },
          "metadata": {
            "tags": []
          },
          "execution_count": 443
        }
      ]
    },
    {
      "cell_type": "code",
      "metadata": {
        "id": "slstBfIl2lT7",
        "colab_type": "code",
        "colab": {}
      },
      "source": [
        ""
      ],
      "execution_count": null,
      "outputs": []
    },
    {
      "cell_type": "markdown",
      "metadata": {
        "id": "jsdA5KOiBIej",
        "colab_type": "text"
      },
      "source": [
        "### XGBOOST without Important Features "
      ]
    },
    {
      "cell_type": "code",
      "metadata": {
        "id": "x5O09VPZ0Q2c",
        "colab_type": "code",
        "colab": {
          "base_uri": "https://localhost:8080/",
          "height": 248
        },
        "outputId": "16831617-594a-402b-a59e-1960dc1ee4cc"
      },
      "source": [
        "\n",
        "# fit model no training data\n",
        "model = XGBClassifier()\n",
        "model.fit(X_train, y_train)"
      ],
      "execution_count": null,
      "outputs": [
        {
          "output_type": "stream",
          "text": [
            "/usr/local/lib/python3.6/dist-packages/sklearn/preprocessing/_label.py:235: DataConversionWarning: A column-vector y was passed when a 1d array was expected. Please change the shape of y to (n_samples, ), for example using ravel().\n",
            "  y = column_or_1d(y, warn=True)\n",
            "/usr/local/lib/python3.6/dist-packages/sklearn/preprocessing/_label.py:268: DataConversionWarning: A column-vector y was passed when a 1d array was expected. Please change the shape of y to (n_samples, ), for example using ravel().\n",
            "  y = column_or_1d(y, warn=True)\n"
          ],
          "name": "stderr"
        },
        {
          "output_type": "execute_result",
          "data": {
            "text/plain": [
              "XGBClassifier(base_score=0.5, booster='gbtree', colsample_bylevel=1,\n",
              "              colsample_bynode=1, colsample_bytree=1, gamma=0, gpu_id=-1,\n",
              "              importance_type='gain', interaction_constraints='',\n",
              "              learning_rate=0.300000012, max_delta_step=0, max_depth=6,\n",
              "              min_child_weight=1, missing=nan, monotone_constraints='()',\n",
              "              n_estimators=100, n_jobs=0, num_parallel_tree=1,\n",
              "              objective='binary:logistic', random_state=0, reg_alpha=0,\n",
              "              reg_lambda=1, scale_pos_weight=1, subsample=1,\n",
              "              tree_method='exact', validate_parameters=1, verbosity=None)"
            ]
          },
          "metadata": {
            "tags": []
          },
          "execution_count": 440
        }
      ]
    },
    {
      "cell_type": "markdown",
      "metadata": {
        "id": "lB_Xi6qLBprn",
        "colab_type": "text"
      },
      "source": [
        "Prediction"
      ]
    },
    {
      "cell_type": "code",
      "metadata": {
        "id": "HlaR1KT_2xRa",
        "colab_type": "code",
        "colab": {}
      },
      "source": [
        "y_pred=model.predict(X_train)"
      ],
      "execution_count": null,
      "outputs": []
    },
    {
      "cell_type": "markdown",
      "metadata": {
        "id": "MTthiBHhBwIg",
        "colab_type": "text"
      },
      "source": [
        "Classification Report on In-Sample Evaluation"
      ]
    },
    {
      "cell_type": "code",
      "metadata": {
        "id": "08hP4nln4JOe",
        "colab_type": "code",
        "colab": {
          "base_uri": "https://localhost:8080/",
          "height": 163
        },
        "outputId": "603dc4e1-f311-4c34-b5ff-ff12df006f6d"
      },
      "source": [
        "print(classification_report(y_train,y_pred))"
      ],
      "execution_count": null,
      "outputs": [
        {
          "output_type": "stream",
          "text": [
            "              precision    recall  f1-score   support\n",
            "\n",
            "           0       0.87      0.92      0.90     43687\n",
            "           1       0.75      0.63      0.69     16268\n",
            "\n",
            "    accuracy                           0.84     59955\n",
            "   macro avg       0.81      0.78      0.79     59955\n",
            "weighted avg       0.84      0.84      0.84     59955\n",
            "\n"
          ],
          "name": "stdout"
        }
      ]
    },
    {
      "cell_type": "markdown",
      "metadata": {
        "id": "GdI-T13LB2vI",
        "colab_type": "text"
      },
      "source": [
        "Prediction on Test Data"
      ]
    },
    {
      "cell_type": "code",
      "metadata": {
        "id": "kV-AV5564NfR",
        "colab_type": "code",
        "colab": {}
      },
      "source": [
        "y_pred_t=model.predict(X_test)"
      ],
      "execution_count": null,
      "outputs": []
    },
    {
      "cell_type": "markdown",
      "metadata": {
        "id": "zHfQGcWkB5ww",
        "colab_type": "text"
      },
      "source": [
        "Classification Report on Out-Sample Evalutation"
      ]
    },
    {
      "cell_type": "code",
      "metadata": {
        "id": "rJ3SgMa14g4S",
        "colab_type": "code",
        "colab": {
          "base_uri": "https://localhost:8080/",
          "height": 163
        },
        "outputId": "01159bc8-2cc4-4bf5-d94a-30f2c4061053"
      },
      "source": [
        "print(classification_report(y_test,y_pred_t))"
      ],
      "execution_count": null,
      "outputs": [
        {
          "output_type": "stream",
          "text": [
            "              precision    recall  f1-score   support\n",
            "\n",
            "           0       0.85      0.90      0.88     10919\n",
            "           1       0.70      0.59      0.64      4070\n",
            "\n",
            "    accuracy                           0.82     14989\n",
            "   macro avg       0.78      0.75      0.76     14989\n",
            "weighted avg       0.81      0.82      0.81     14989\n",
            "\n"
          ],
          "name": "stdout"
        }
      ]
    },
    {
      "cell_type": "code",
      "metadata": {
        "id": "6JUeyPGQ4moI",
        "colab_type": "code",
        "colab": {}
      },
      "source": [
        ""
      ],
      "execution_count": null,
      "outputs": []
    },
    {
      "cell_type": "markdown",
      "metadata": {
        "id": "uRffXlWwCFNb",
        "colab_type": "text"
      },
      "source": [
        "### XGBOOST Model with Important Features"
      ]
    },
    {
      "cell_type": "code",
      "metadata": {
        "id": "DhmXMdS30CUH",
        "colab_type": "code",
        "colab": {
          "base_uri": "https://localhost:8080/",
          "height": 163
        },
        "outputId": "5f5d8111-3924-48a8-a55d-142a3cd49d08"
      },
      "source": [
        "# fit model no training data\n",
        "model = XGBClassifier()\n",
        "rfe = RFE(model, 5)\n",
        "rfe = rfe.fit(X_train, y_train.values.ravel())\n",
        "# print summaries for the selection of attributes\n",
        "print(X_train.columns)\n",
        "rfe.support_"
      ],
      "execution_count": 73,
      "outputs": [
        {
          "output_type": "stream",
          "text": [
            "Index(['Online_Follower', 'LinkedIn_Shared', 'Twitter_Shared',\n",
            "       'Facebook_Shared', 'Income', 'City_Type', 'Employer_Category',\n",
            "       'Category1', 'Category2', 'Category3', 'customer_type',\n",
            "       'Registration_Type', 'Interaction_Type', 'Var1', 'Var2', 'Var3', 'Var4',\n",
            "       'Var5', 'Education_Score', 'Age', 'Camp_Duration_Days'],\n",
            "      dtype='object')\n"
          ],
          "name": "stdout"
        },
        {
          "output_type": "execute_result",
          "data": {
            "text/plain": [
              "array([False, False, False, False,  True, False, False,  True,  True,\n",
              "       False,  True,  True, False, False, False, False, False, False,\n",
              "       False, False, False])"
            ]
          },
          "metadata": {
            "tags": []
          },
          "execution_count": 73
        }
      ]
    },
    {
      "cell_type": "code",
      "metadata": {
        "id": "g7zruCZd5eK2",
        "colab_type": "code",
        "colab": {
          "base_uri": "https://localhost:8080/",
          "height": 131
        },
        "outputId": "32d08e41-fd8b-432f-c4e9-46f1146b5db7"
      },
      "source": [
        "#Create Model Object\n",
        "model = XGBClassifier()\n",
        "#Select Important Features for train data\n",
        "selected_data=X_train[['Income','Category1', 'Category2', 'customer_type','Registration_Type']]\n",
        "model.fit(selected_data,y_train.values.ravel())"
      ],
      "execution_count": 74,
      "outputs": [
        {
          "output_type": "execute_result",
          "data": {
            "text/plain": [
              "XGBClassifier(base_score=0.5, booster='gbtree', colsample_bylevel=1,\n",
              "              colsample_bynode=1, colsample_bytree=1, gamma=0,\n",
              "              learning_rate=0.1, max_delta_step=0, max_depth=3,\n",
              "              min_child_weight=1, missing=None, n_estimators=100, n_jobs=1,\n",
              "              nthread=None, objective='binary:logistic', random_state=0,\n",
              "              reg_alpha=0, reg_lambda=1, scale_pos_weight=1, seed=None,\n",
              "              silent=None, subsample=1, verbosity=1)"
            ]
          },
          "metadata": {
            "tags": []
          },
          "execution_count": 74
        }
      ]
    },
    {
      "cell_type": "code",
      "metadata": {
        "id": "UAYnCLklCWVG",
        "colab_type": "code",
        "colab": {}
      },
      "source": [
        "#Prediction on training data\n",
        "y_pred=model.predict(selected_data)"
      ],
      "execution_count": 75,
      "outputs": []
    },
    {
      "cell_type": "code",
      "metadata": {
        "id": "QIb7goxB5LMV",
        "colab_type": "code",
        "colab": {
          "base_uri": "https://localhost:8080/",
          "height": 163
        },
        "outputId": "26e54c45-f450-48ff-ea38-c89392eff6de"
      },
      "source": [
        "# Classification Report for in-sample evaluation\n",
        "print(classification_report(y_train,y_pred))\n"
      ],
      "execution_count": 76,
      "outputs": [
        {
          "output_type": "stream",
          "text": [
            "              precision    recall  f1-score   support\n",
            "\n",
            "           0       0.84      0.92      0.88     43687\n",
            "           1       0.72      0.53      0.61     16268\n",
            "\n",
            "    accuracy                           0.82     59955\n",
            "   macro avg       0.78      0.73      0.75     59955\n",
            "weighted avg       0.81      0.82      0.81     59955\n",
            "\n"
          ],
          "name": "stdout"
        }
      ]
    },
    {
      "cell_type": "code",
      "metadata": {
        "id": "rq86Me_o51M1",
        "colab_type": "code",
        "colab": {}
      },
      "source": [
        "#Select Important Features for test data\n",
        "selected_data_t=X_test[['Income','Category1', 'Category2', 'customer_type','Registration_Type']]"
      ],
      "execution_count": null,
      "outputs": []
    },
    {
      "cell_type": "code",
      "metadata": {
        "id": "sTf9loic5aMl",
        "colab_type": "code",
        "colab": {
          "base_uri": "https://localhost:8080/",
          "height": 163
        },
        "outputId": "ebb351e9-391a-4cf5-b114-5cdda10b111b"
      },
      "source": [
        "#Prediction on Test data\n",
        "y_pred_t=model.predict(selected_data_t)\n",
        "# Classification Report for Out of Sample Evaluation\n",
        "print(classification_report(y_test,y_pred_t))"
      ],
      "execution_count": null,
      "outputs": [
        {
          "output_type": "stream",
          "text": [
            "              precision    recall  f1-score   support\n",
            "\n",
            "           0       0.84      0.92      0.88     10919\n",
            "           1       0.71      0.54      0.62      4070\n",
            "\n",
            "    accuracy                           0.82     14989\n",
            "   macro avg       0.78      0.73      0.75     14989\n",
            "weighted avg       0.81      0.82      0.81     14989\n",
            "\n"
          ],
          "name": "stdout"
        }
      ]
    },
    {
      "cell_type": "code",
      "metadata": {
        "id": "wl_cVJce6s5l",
        "colab_type": "code",
        "colab": {}
      },
      "source": [
        ""
      ],
      "execution_count": null,
      "outputs": []
    }
  ]
}
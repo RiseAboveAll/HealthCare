{
  "nbformat": 4,
  "nbformat_minor": 0,
  "metadata": {
    "colab": {
      "name": "HealthCare-SkillUp.ipynb",
      "provenance": [],
      "collapsed_sections": [
        "SuinqHRnkRh8",
        "q-4iMWKSGpEC",
        "tm6HAhgEUg7v",
        "huDfOjr89oEL",
        "HY3HcwF6Hkci"
      ],
      "toc_visible": true,
      "mount_file_id": "1-kvM6aXkfKLjdSZNS9Ro0v9vflf5xAQq",
      "authorship_tag": "ABX9TyOX0iQeqAAWHpejo1mCF3y9",
      "include_colab_link": true
    },
    "kernelspec": {
      "name": "python3",
      "display_name": "Python 3"
    },
    "accelerator": "GPU"
  },
  "cells": [
    {
      "cell_type": "markdown",
      "metadata": {
        "id": "view-in-github",
        "colab_type": "text"
      },
      "source": [
        "<a href=\"https://colab.research.google.com/github/RiseAboveAll/HealthCare/blob/master/HealthCare_SkillUp.ipynb\" target=\"_parent\"><img src=\"https://colab.research.google.com/assets/colab-badge.svg\" alt=\"Open In Colab\"/></a>"
      ]
    },
    {
      "cell_type": "markdown",
      "metadata": {
        "id": "cUZsi0CxDLFu",
        "colab_type": "text"
      },
      "source": [
        "<h2>Prerequisites :</h2>\n",
        "\n",
        "- Use Google Colab\n",
        "\n",
        "- Basic understanding of Machine Learning Models, Gradient Descent\n",
        "\n",
        "- Understanding of Python\n",
        "\n",
        "<h2>Level & Duration</h2>\n",
        "\n",
        "- Level : Intermediate\n",
        "\n",
        "- Duration : 180 minutes\n"
      ]
    },
    {
      "cell_type": "markdown",
      "metadata": {
        "id": "55xgFQiuF3OR",
        "colab_type": "text"
      },
      "source": [
        "To know how to setup Google Colab please read the article shared : [Google Colab Setup](https://towardsdatascience.com/getting-started-with-google-colab-f2fff97f594c)"
      ]
    },
    {
      "cell_type": "markdown",
      "metadata": {
        "id": "6D-W80vrjEZ_",
        "colab_type": "text"
      },
      "source": [
        "### Problem Statement"
      ]
    },
    {
      "cell_type": "markdown",
      "metadata": {
        "id": "qnCD_kPpjIyF",
        "colab_type": "text"
      },
      "source": [
        "Congratulations – you have been hired as Chief Data Scientist of MedCamp – a not for profit organization dedicated in making health conditions for working professionals better. MedCamp was started because the founders saw their family suffer due to bad work life balance and neglected health.\n",
        "\n",
        "\n",
        "\n",
        "MedCamp organizes health camps in several cities with low work life balance. They reach out to working people and ask them to register for these health camps. For those who attend, MedCamp provides them facility to undergo health checks or increase awareness by visiting various stalls (depending on the format of camp). \n",
        "\n",
        "\n",
        "MedCamp has conducted 65 such events over a period of 4 years and they see a high drop off between “Registration” and Number of people taking tests at the Camps. In last 4 years, they have stored data of ~110,000 registrations they have done.\n",
        "\n",
        "\n",
        "One of the huge costs in arranging these camps is the amount of inventory you need to carry. If you carry more than required inventory, you incur unnecessarily high costs. On the other hand, if you carry less than required inventory for conducting these medical checks, people end up having bad experience.\n",
        "\n",
        "\n",
        "**The Process:**\n",
        "\n",
        "  1. MedCamp employees / volunteers reach out to people and drive registrations.\n",
        "\n",
        "  2. During the camp, People who “ShowUp” either undergo the medical tests or visit stalls depending on the format of health camp.\n",
        "\n",
        "**Other things to note:**\n",
        "  \n",
        "  1. Since this is a completely voluntary activity for the working professionals, MedCamp usually has little profile information about these people.\n",
        "\n",
        "  2. For a few camps, there was hardware failure, so some information about date and time of registration is lost.\n",
        "\n",
        "  3. MedCamp runs 3 formats of these camps. The first and second format provides people with an instantaneous health score. The third format provides information about several health issues through various awareness stalls.\n",
        "\n",
        "**Target Variable**\n",
        "\n",
        "Favorable outcome:\n",
        "\n",
        "  1. For the first 2 formats, a favourable outcome is defined as getting a health_score, while in the third format it is defined as visiting at least a stall.\n",
        "\n",
        "  2. You need to predict the whether person registering for camp will attend the camp or not .\n"
      ]
    },
    {
      "cell_type": "markdown",
      "metadata": {
        "id": "PXyI3IXQku7J",
        "colab_type": "text"
      },
      "source": [
        "#### Data Description"
      ]
    },
    {
      "cell_type": "markdown",
      "metadata": {
        "id": "7Hk7K8g7kzZe",
        "colab_type": "text"
      },
      "source": [
        "- Data Dictionary - File contains description about the columns in each of the csv file. https://github.com/RiseAboveAll/HealthCare/blob/master/Data_Dictionary.xlsx \n",
        "\n",
        "\n",
        "- Health_Camp_Detail.csv – File containing Health_Camp_Id, Camp_Start_Date, Camp_End_Date and Category details of each camp. https://raw.githubusercontent.com/RiseAboveAll/HealthCare/master/Health_Camp_Detail.csv\n",
        "\n",
        "- Train.csv – File containing registration details for all the test camps. This includes Patient_ID, Health_Camp_ID, Registration_Date and a few anonymized variables as on registration date. https://raw.githubusercontent.com/RiseAboveAll/HealthCare/master/Train.csv\n",
        "\n",
        "- Patient_Profile.csv – This file contains Patient profile details like Patient_ID, Online_Follower, Social media details, Income, Education, Age, First_Interaction_Date, City_Type and Employer_Category https://raw.githubusercontent.com/RiseAboveAll/HealthCare/master/Patient_Profile.csv\n",
        "\n",
        "- First_Health_Camp_Attended.csv – This file contains details about people who attended health camp of first format. This includes Donation (amount) & Health_Score of the person. https://raw.githubusercontent.com/RiseAboveAll/HealthCare/master/First_Health_Camp_Attended.csv\n",
        "\n",
        "- Second_Health_Camp_Attended.csv - This file contains details about people who attended health camp of second format. This includes Health_Score of the person. https://raw.githubusercontent.com/RiseAboveAll/HealthCare/master/Second_Health_Camp_Attended.csv\n",
        "\n",
        "- Third_Health_Camp_Attended.csv - This file contains details about people who attended health camp of third format. This includes Number_of_stall_visited & Last_Stall_Visited_Number. https://raw.githubusercontent.com/RiseAboveAll/HealthCare/master/Third_Health_Camp_Attended.csv "
      ]
    },
    {
      "cell_type": "markdown",
      "metadata": {
        "id": "U8wmmJ0oNyFT",
        "colab_type": "text"
      },
      "source": [
        "<h2>Data Description</h2>\n"
      ]
    },
    {
      "cell_type": "markdown",
      "metadata": {
        "id": "SuinqHRnkRh8",
        "colab_type": "text"
      },
      "source": [
        "### Information on XGBOOST installation"
      ]
    },
    {
      "cell_type": "markdown",
      "metadata": {
        "id": "8sMJQOsWqNVj",
        "colab_type": "text"
      },
      "source": [
        "An alternate way to install XGBoost if you cannot use pip or you want to run the latest code from GitHub requires that you make a clone of the XGBoost project and perform a manual build and installation.\n",
        "\n",
        "For example to build XGBoost without multithreading on Mac OS X (with GCC already installed via macports or homebrew), you can type:\n",
        "\n",
        "```\n",
        "\n",
        "git clone --recursive https://github.com/dmlc/xgboost\n",
        "cd xgboost\n",
        "cp make/minimum.mk ./config.mk\n",
        "make -j4\n",
        "cd python-package\n",
        "sudo python setup.py install\n",
        "\n",
        "```"
      ]
    },
    {
      "cell_type": "markdown",
      "metadata": {
        "id": "-Qaye6kRkXib",
        "colab_type": "text"
      },
      "source": [
        "### Installing and Importing Libraries"
      ]
    },
    {
      "cell_type": "markdown",
      "metadata": {
        "id": "XgTiUhgv-Jbz",
        "colab_type": "text"
      },
      "source": [
        "**This project has been developed using packages version as shared below :**\n",
        "\n",
        "- lightgbm==2.2.3\n",
        "\n",
        "- matplotlib==3.2.2\n",
        "\n",
        "- numpy==1.18.5\n",
        "\n",
        "- pandas==1.1.0\n",
        "\n",
        "- scikit-learn==0.22.2.post1\n",
        "\n",
        "- sklearn==0.0\n",
        "\n",
        "- xgboost==0.90"
      ]
    },
    {
      "cell_type": "code",
      "metadata": {
        "id": "-0xeFXfLpa-c",
        "colab_type": "code",
        "colab": {}
      },
      "source": [
        "!pip3 install xgboost"
      ],
      "execution_count": null,
      "outputs": []
    },
    {
      "cell_type": "code",
      "metadata": {
        "id": "Nc4SBE5Xss9U",
        "colab_type": "code",
        "colab": {}
      },
      "source": [
        "import pandas as pd\n",
        "import numpy as np \n",
        "import re\n",
        "import seaborn as sns\n",
        "from sklearn import preprocessing, metrics\n",
        "from sklearn.model_selection import train_test_split as tts\n",
        "from sklearn.tree import DecisionTreeClassifier as DTC\n",
        "from sklearn.feature_selection import RFE\n",
        "from sklearn.metrics import classification_report, confusion_matrix\n",
        "from xgboost import XGBClassifier\n",
        "from pandas.testing import assert_frame_equal\n",
        "from sklearn.model_selection import GridSearchCV"
      ],
      "execution_count": 105,
      "outputs": []
    },
    {
      "cell_type": "code",
      "metadata": {
        "id": "iDklBG5OzYRr",
        "colab_type": "code",
        "colab": {}
      },
      "source": [
        ""
      ],
      "execution_count": null,
      "outputs": []
    },
    {
      "cell_type": "markdown",
      "metadata": {
        "id": "j5ZdGIvytyyR",
        "colab_type": "text"
      },
      "source": [
        "### Importing Files For Merging and Creating Final Training Dataset"
      ]
    },
    {
      "cell_type": "markdown",
      "metadata": {
        "id": "qCiiEcDDAuhq",
        "colab_type": "text"
      },
      "source": [
        "Q1) Import the following .csv files in the dataframe :\n",
        "\n",
        "1. First_Health_Camp_Attended\n",
        "\n",
        "2. Second_Health_Camp_Attended\n",
        "\n",
        "3. Third_Health_Camp_Attended"
      ]
    },
    {
      "cell_type": "code",
      "metadata": {
        "id": "7CZFaHbapSuf",
        "colab_type": "code",
        "colab": {}
      },
      "source": [
        ""
      ],
      "execution_count": null,
      "outputs": []
    },
    {
      "cell_type": "markdown",
      "metadata": {
        "id": "z8hiRnUYBoqq",
        "colab_type": "text"
      },
      "source": [
        "Q2a) In the dataframe having First_Health_Camp_Attended data ,rename column name 'Health_Score' to 'Outcome' . Slice your dataframe with the following columns : 'Patient_ID','Health_Camp_ID','Health_Score'"
      ]
    },
    {
      "cell_type": "code",
      "metadata": {
        "id": "KZB4fdLBpTbH",
        "colab_type": "code",
        "colab": {}
      },
      "source": [
        ""
      ],
      "execution_count": null,
      "outputs": []
    },
    {
      "cell_type": "markdown",
      "metadata": {
        "id": "wPqPnbS4Cd2M",
        "colab_type": "text"
      },
      "source": [
        "Q2b) In the dataframe having Second_Health_Camp_Attended data ,rename column name 'Health_Score' to 'Outcome' "
      ]
    },
    {
      "cell_type": "code",
      "metadata": {
        "id": "Gn3rJhd4pUhi",
        "colab_type": "code",
        "colab": {}
      },
      "source": [
        ""
      ],
      "execution_count": null,
      "outputs": []
    },
    {
      "cell_type": "markdown",
      "metadata": {
        "id": "m-7o1QHOwReD",
        "colab_type": "text"
      },
      "source": [
        "**Since we want to convert our outcome variable in terms of binary variable , i.e in terms of 0 and 1 hence we rename 'Number_of_stall_visited' Column as Outcome**"
      ]
    },
    {
      "cell_type": "markdown",
      "metadata": {
        "id": "CAfdeBnTCvvd",
        "colab_type": "text"
      },
      "source": [
        "Q2c) In the dataframe having Third_Health_Camp_Attended data ,rename column name 'Health_Score' to 'Outcome' "
      ]
    },
    {
      "cell_type": "code",
      "metadata": {
        "id": "2Z1iP1WipXuZ",
        "colab_type": "code",
        "colab": {}
      },
      "source": [
        ""
      ],
      "execution_count": null,
      "outputs": []
    },
    {
      "cell_type": "markdown",
      "metadata": {
        "id": "DSulbOE-C5xC",
        "colab_type": "text"
      },
      "source": [
        "Q3) Concatenate above three dataframes together in new dataframe and name the dataframe as all_camps ?\n",
        "\n"
      ]
    },
    {
      "cell_type": "code",
      "metadata": {
        "id": "ECfAdF1lpbvm",
        "colab_type": "code",
        "colab": {}
      },
      "source": [
        ""
      ],
      "execution_count": null,
      "outputs": []
    },
    {
      "cell_type": "markdown",
      "metadata": {
        "id": "mX-9VE6dwwAY",
        "colab_type": "text"
      },
      "source": [
        "**Since all the patients in all_camps dataframe are those who have visited the counter to know their health score , hence we are marking them as 1 in the Outcome variable**"
      ]
    },
    {
      "cell_type": "markdown",
      "metadata": {
        "id": "vJZ_zlqHD0OK",
        "colab_type": "text"
      },
      "source": [
        "Q4) Assign the Outcome variable of all_camps dataframe with value 1?\n",
        "\n",
        "Hint :\n",
        "\n",
        "```\n",
        "\n",
        "all_camps['Outcome']=1\n",
        "\n",
        "```\n"
      ]
    },
    {
      "cell_type": "code",
      "metadata": {
        "id": "Qr0gUOeEpfmj",
        "colab_type": "code",
        "colab": {}
      },
      "source": [
        ""
      ],
      "execution_count": null,
      "outputs": []
    },
    {
      "cell_type": "markdown",
      "metadata": {
        "id": "E4UQvYQJEVyD",
        "colab_type": "text"
      },
      "source": [
        "Q5) Check is there any NaN values in the all_camps dataframe?\n",
        "\n",
        "Hint: use .isna().sum() method "
      ]
    },
    {
      "cell_type": "code",
      "metadata": {
        "id": "UX_dsi3s25E-",
        "colab_type": "code",
        "colab": {}
      },
      "source": [
        ""
      ],
      "execution_count": null,
      "outputs": []
    },
    {
      "cell_type": "markdown",
      "metadata": {
        "id": "3m4HM_z_EmOR",
        "colab_type": "text"
      },
      "source": [
        "Q6) Import Train.csv in dataframe name train?"
      ]
    },
    {
      "cell_type": "code",
      "metadata": {
        "id": "kXRCyPC5p4Ed",
        "colab_type": "code",
        "colab": {}
      },
      "source": [
        ""
      ],
      "execution_count": null,
      "outputs": []
    },
    {
      "cell_type": "markdown",
      "metadata": {
        "id": "9d5zHpFcxEMk",
        "colab_type": "text"
      },
      "source": [
        "### Merge Train data with all_camps data"
      ]
    },
    {
      "cell_type": "markdown",
      "metadata": {
        "id": "1vRWg3mVE5Al",
        "colab_type": "text"
      },
      "source": [
        "Q7 Join train dataframe with all_camps on basis of 'Patient_ID','Health_Camp_ID'? Also fill NaNs present in the Outcome variable with 0 ?\n",
        "\n",
        "Hint: \n",
        "\n",
        "```\n",
        "train = train.merge(all_camps, on=['Patient_ID','Health_Camp_ID'], how='left')\n",
        "train['Outcome'] = train['Outcome'].fillna(0).astype('int')\n",
        "```"
      ]
    },
    {
      "cell_type": "code",
      "metadata": {
        "id": "AR-WTDxIqTUM",
        "colab_type": "code",
        "colab": {}
      },
      "source": [
        ""
      ],
      "execution_count": null,
      "outputs": []
    },
    {
      "cell_type": "markdown",
      "metadata": {
        "id": "WigHYnJ4GCoY",
        "colab_type": "text"
      },
      "source": [
        "Save your merged dataframe as csv , name the csv file as : train_with_outcome.csv"
      ]
    },
    {
      "cell_type": "code",
      "metadata": {
        "id": "F6IpbwCNwByY",
        "colab_type": "code",
        "colab": {}
      },
      "source": [
        "train.to_csv(data_path+'train_with_outcome.csv', index=False)"
      ],
      "execution_count": 26,
      "outputs": []
    },
    {
      "cell_type": "markdown",
      "metadata": {
        "id": "nEHr5r-jxf0p",
        "colab_type": "text"
      },
      "source": [
        "**Our  Training Data is prepared now , we will use train_with_outcome.csv for training the model**\n",
        "\n",
        "Q7a) Load the train_with_outcome.csv in new dataframe , name it as Final_Train\n",
        "\n",
        "Hint:\n",
        "```\n",
        "Final_Train=pd.read_csv(data_path+'train_with_outcome.csv')\n",
        "```"
      ]
    },
    {
      "cell_type": "code",
      "metadata": {
        "id": "LuN41PA_ricz",
        "colab_type": "code",
        "colab": {}
      },
      "source": [
        ""
      ],
      "execution_count": null,
      "outputs": []
    },
    {
      "cell_type": "markdown",
      "metadata": {
        "id": "q-4iMWKSGpEC",
        "colab_type": "text"
      },
      "source": [
        "### Finding Anomaly\n",
        "\n",
        "-  **Reason to replace NaN's to 0 is , the NaNs are present because these registrants have not attended or went to any stalls for awareness or getting health checkup. If you check the number of frequency for Outcome = 0 , it is same as the number of missing values**"
      ]
    },
    {
      "cell_type": "markdown",
      "metadata": {
        "id": "b5U1zhFMGUBx",
        "colab_type": "text"
      },
      "source": [
        "Q8) Find NaNs in the Final_Train dataframe? Use .isna().sum() method"
      ]
    },
    {
      "cell_type": "markdown",
      "metadata": {
        "id": "zuNacfrTtYvS",
        "colab_type": "text"
      },
      "source": [
        ""
      ]
    },
    {
      "cell_type": "markdown",
      "metadata": {
        "id": "Gnjb6bVdMoXh",
        "colab_type": "text"
      },
      "source": [
        "### Data Prepration"
      ]
    },
    {
      "cell_type": "markdown",
      "metadata": {
        "id": "b9_7fq57Go4K",
        "colab_type": "text"
      },
      "source": [
        "Q9) Drop NaNs present in Registration_Date column?\n",
        "\n",
        "Hint :\n",
        "\n",
        "```\n",
        "\n",
        "idx=Final_Train[Final_Train['Registration_Date'].isna()==True].index\n",
        "\n",
        "Final_Train.drop(idx,axis=0,inplace=True)\n",
        "\n",
        "```"
      ]
    },
    {
      "cell_type": "code",
      "metadata": {
        "id": "OM0un0QjtfUf",
        "colab_type": "code",
        "colab": {}
      },
      "source": [
        ""
      ],
      "execution_count": null,
      "outputs": []
    },
    {
      "cell_type": "markdown",
      "metadata": {
        "id": "rieD1KkKs83e",
        "colab_type": "text"
      },
      "source": [
        "Q10) Convert Registration_Date column to date & time object?\n",
        "\n",
        "Hint : use pd.to_datetime() function"
      ]
    },
    {
      "cell_type": "code",
      "metadata": {
        "id": "3iQIyjsQtgWP",
        "colab_type": "code",
        "colab": {}
      },
      "source": [
        ""
      ],
      "execution_count": null,
      "outputs": []
    },
    {
      "cell_type": "markdown",
      "metadata": {
        "id": "8AitV-yiHy25",
        "colab_type": "text"
      },
      "source": [
        "Q11) To find repetition of patients to the health camp plot the bar plot for First 10 value counts of Patient_ID column of the merged dataframe?"
      ]
    },
    {
      "cell_type": "code",
      "metadata": {
        "id": "pgFjn1LVtjbE",
        "colab_type": "code",
        "colab": {}
      },
      "source": [
        ""
      ],
      "execution_count": null,
      "outputs": []
    },
    {
      "cell_type": "markdown",
      "metadata": {
        "id": "X9fBs_dfI9zD",
        "colab_type": "text"
      },
      "source": [
        "Q11a)To see the ratio of new attendees to repetative attendees, Use the above plot and stack the bar plots as per the Outcome. For Outcome==0 , barplot color should be red & for Outcome==1 , barplot color should be green.\n",
        "\n",
        "Hint : \n",
        "\n",
        "```\n",
        "\n",
        "\n",
        "Final_Train.Patient_ID[Final_Train.Outcome==0].value_counts().value_counts()[:10].plot(kind='bar',color='r')\n",
        "Final_Train.Patient_ID[Final_Train.Outcome==1].value_counts().value_counts()[:10].plot(kind='bar',color='g')\n",
        "\n",
        "```\n",
        "\n"
      ]
    },
    {
      "cell_type": "code",
      "metadata": {
        "id": "LYSSOI7BuXwt",
        "colab_type": "code",
        "colab": {}
      },
      "source": [
        ""
      ],
      "execution_count": null,
      "outputs": []
    },
    {
      "cell_type": "markdown",
      "metadata": {
        "id": "cGtenz2vTtrv",
        "colab_type": "text"
      },
      "source": [
        "### Getting patient details and merging with train"
      ]
    },
    {
      "cell_type": "markdown",
      "metadata": {
        "id": "Ke-C7i0-KsuH",
        "colab_type": "text"
      },
      "source": [
        "Q12) Load Patient_Profile.csv in dataframe and name it as patient. Convert the 'First_Interaction' variable to Date and Time variable.\n",
        "\n",
        "Hint: \n",
        "```\n",
        "patient = pd.read_csv(data_path + \"Patient_Profile.csv\", na_values=['None',''])\n",
        "#Convert First_Interactoion column to date & time object\n",
        "patient['First_Interaction'] = pd.to_datetime(patient['First_Interaction'], format=\"%d-%b-%y\")\n",
        "```"
      ]
    },
    {
      "cell_type": "code",
      "metadata": {
        "id": "EYFZFr4qSqeH",
        "colab_type": "code",
        "colab": {}
      },
      "source": [
        ""
      ],
      "execution_count": 36,
      "outputs": []
    },
    {
      "cell_type": "markdown",
      "metadata": {
        "id": "l2jVj4yXNERm",
        "colab_type": "text"
      },
      "source": [
        "Q12a) Perform a left join for Final_Train dataframe with patient dataframe on Patient ID column?"
      ]
    },
    {
      "cell_type": "code",
      "metadata": {
        "id": "QweORgKZTgHV",
        "colab_type": "code",
        "colab": {}
      },
      "source": [
        ""
      ],
      "execution_count": 37,
      "outputs": []
    },
    {
      "cell_type": "markdown",
      "metadata": {
        "id": "vvTTIEKuTwDK",
        "colab_type": "text"
      },
      "source": [
        "### Getting health camp details and merging with train"
      ]
    },
    {
      "cell_type": "markdown",
      "metadata": {
        "id": "AvBOk4CjNsJT",
        "colab_type": "text"
      },
      "source": [
        "Q13) Load Health_Camp_Detail.csv in a dataframe?"
      ]
    },
    {
      "cell_type": "code",
      "metadata": {
        "id": "sKstAsqhTnP8",
        "colab_type": "code",
        "colab": {}
      },
      "source": [
        ""
      ],
      "execution_count": 38,
      "outputs": []
    },
    {
      "cell_type": "markdown",
      "metadata": {
        "id": "_2_YmVARN_E4",
        "colab_type": "text"
      },
      "source": [
        "Q13a) Convert Camp_Start_Date and Camp_End_Date to datetime object?"
      ]
    },
    {
      "cell_type": "code",
      "metadata": {
        "id": "xkaBq0hyT4U4",
        "colab_type": "code",
        "colab": {}
      },
      "source": [
        ""
      ],
      "execution_count": 39,
      "outputs": []
    },
    {
      "cell_type": "markdown",
      "metadata": {
        "id": "oJOlBeDqOYiv",
        "colab_type": "text"
      },
      "source": [
        "Q13b) Create a new Feature Camp_Duration_Days by subtracting Camp_Start_Date from Camp_End_Date?\n",
        "\n",
        "Hint :\n",
        "\n",
        "```\n",
        "hc['Camp_Duration_Days'] = (hc['Camp_End_Date'] - hc['Camp_Start_Date']).dt.days\n",
        "\n",
        "```\n"
      ]
    },
    {
      "cell_type": "code",
      "metadata": {
        "id": "KlaRCnsFT9mC",
        "colab_type": "code",
        "colab": {}
      },
      "source": [
        ""
      ],
      "execution_count": 40,
      "outputs": []
    },
    {
      "cell_type": "markdown",
      "metadata": {
        "id": "LPL6eu2LPCcB",
        "colab_type": "text"
      },
      "source": [
        "Q13c) Perform a left join on Final_Train with Health_Camp_Detail dataframe on Health_Camp_ID?"
      ]
    },
    {
      "cell_type": "code",
      "metadata": {
        "id": "5E6tQ-qUUIaF",
        "colab_type": "code",
        "colab": {}
      },
      "source": [
        ""
      ],
      "execution_count": 42,
      "outputs": []
    },
    {
      "cell_type": "markdown",
      "metadata": {
        "id": "PNjiv14mPpOo",
        "colab_type": "text"
      },
      "source": [
        "This is your final prepared data , now we are left with anomaly treatement if any, feature creation."
      ]
    },
    {
      "cell_type": "markdown",
      "metadata": {
        "id": "tm6HAhgEUg7v",
        "colab_type": "text"
      },
      "source": [
        "### Filling NA with -99 ##"
      ]
    },
    {
      "cell_type": "markdown",
      "metadata": {
        "id": "f_mZLCjvPgXW",
        "colab_type": "text"
      },
      "source": [
        "Q14) Find NaNs in Final_Train dataframe and fill NaNs using .fillna() method with value of -99?"
      ]
    },
    {
      "cell_type": "code",
      "metadata": {
        "id": "Q8Mjdt9ZUXxR",
        "colab_type": "code",
        "colab": {}
      },
      "source": [
        ""
      ],
      "execution_count": null,
      "outputs": []
    },
    {
      "cell_type": "code",
      "metadata": {
        "id": "wmSgfZHiUEHP",
        "colab_type": "code",
        "colab": {}
      },
      "source": [
        ""
      ],
      "execution_count": 44,
      "outputs": []
    },
    {
      "cell_type": "markdown",
      "metadata": {
        "id": "Iwf06QTwU3Tf",
        "colab_type": "text"
      },
      "source": [
        "###  Create additional features "
      ]
    },
    {
      "cell_type": "markdown",
      "metadata": {
        "id": "1s817pvBQUpJ",
        "colab_type": "text"
      },
      "source": [
        "Q15a)To know when did the attendee registered for the camp , i.e prior to start of camp or post start, create a new feature Diff_CampStart_Registration by subtracting Registration_Date from Camp_Start_Date ?\n",
        "\n",
        "Hint: \n",
        "\n",
        "```\n",
        "Final_Train[\"Diff_CampStart_Registration\"] = (Final_Train[\"Camp_Start_Date\"] - Final_Train[\"Registration_Date\"]).dt.days\n",
        "```"
      ]
    },
    {
      "cell_type": "code",
      "metadata": {
        "id": "mTfC5QQVUvtX",
        "colab_type": "code",
        "colab": {}
      },
      "source": [
        "# When did the attendee registered before the camp started or post camp started\n"
      ],
      "execution_count": 45,
      "outputs": []
    },
    {
      "cell_type": "markdown",
      "metadata": {
        "id": "uEG092FURGvr",
        "colab_type": "text"
      },
      "source": [
        "Q15b)To know how many days in advance did the attendee registered from the ending date of camp , create a new feature Diff_CampEnd_Registration by subtracting Registration_Date from Camp_End_Date ?\n",
        "\n",
        "Hint: \n",
        "\n",
        "```\n",
        "Final_Train[\"Diff_CampEnd_Registration\"] = (Final_Train[\"Camp_End_Date\"] - Final_Train[\"Registration_Date\"]).dt.days\n",
        "\n",
        "```"
      ]
    },
    {
      "cell_type": "code",
      "metadata": {
        "id": "uqDH3PCLVFMg",
        "colab_type": "code",
        "colab": {}
      },
      "source": [
        "# Did Attendee booked in advance for the camp or how many days earlier did he or she booked for it\n"
      ],
      "execution_count": 46,
      "outputs": []
    },
    {
      "cell_type": "markdown",
      "metadata": {
        "colab_type": "text",
        "id": "yvcv6cTxRnNA"
      },
      "source": [
        "Q15c)To know when was first interaction was made with the attendee , create a new feature Diff_Registration_FirstInteraction by subtracting First_Interaction from Registration_Date ?\n",
        "\n",
        "Hint: \n",
        "\n",
        "```\n",
        "Final_Train[\"Diff_Registration_FirstInteraction\"] = (Final_Train[\"Registration_Date\"] - Final_Train[\"First_Interaction\"]).dt.days\n",
        "\n",
        "```"
      ]
    },
    {
      "cell_type": "code",
      "metadata": {
        "id": "IHW53cEIVOR1",
        "colab_type": "code",
        "colab": {}
      },
      "source": [
        "# When was the first interaction post registration \n"
      ],
      "execution_count": 47,
      "outputs": []
    },
    {
      "cell_type": "markdown",
      "metadata": {
        "colab_type": "text",
        "id": "LwEagSC7SQJA"
      },
      "source": [
        "Q15c)To know when was first interaction was made with the attendee post the start of the camp , create a new feature Diff_CampStart_FirstInteraction by subtracting First_Interaction from Registration_Date ?\n",
        "\n",
        "Hint: \n",
        "\n",
        "```\n",
        "Final_Train[\"Diff_CampStart_FirstInteraction\"] = (Final_Train[\"Camp_Start_Date\"] - Final_Train[\"First_Interaction\"]).dt.days\n",
        "\n",
        "```"
      ]
    },
    {
      "cell_type": "code",
      "metadata": {
        "id": "SPP5lV7NVfQe",
        "colab_type": "code",
        "colab": {}
      },
      "source": [
        "# How many days it had been for first interaction post camp start\n"
      ],
      "execution_count": 48,
      "outputs": []
    },
    {
      "cell_type": "markdown",
      "metadata": {
        "id": "5GkJJg8ZV4mx",
        "colab_type": "text"
      },
      "source": [
        "#### Performing LabelEncoding for all the categorical column"
      ]
    },
    {
      "cell_type": "code",
      "metadata": {
        "id": "_0Nvx2j3VnwI",
        "colab_type": "code",
        "colab": {
          "base_uri": "https://localhost:8080/",
          "height": 82
        },
        "outputId": "a0f2c8b7-9323-47f7-ef2f-97fa0ad906be"
      },
      "source": [
        "## Getitng the cat columns and label encode them ##\n",
        "cat_columns = []\n",
        "for col in Final_Train.columns:\n",
        "\tif Final_Train[col].dtype == 'object':\n",
        "\t\tprint(col)\n",
        "\t\tcat_columns.append(col)\n",
        "\t\tenc = preprocessing.LabelEncoder()\n",
        "\t\tfull_list = list(Final_Train[col].values) \n",
        "\t\tenc.fit(full_list)\n",
        "\t\tFinal_Train[col] = enc.transform(list(Final_Train[col].values))\n",
        "\t\t"
      ],
      "execution_count": 49,
      "outputs": [
        {
          "output_type": "stream",
          "text": [
            "City_Type\n",
            "Employer_Category\n",
            "Category1\n",
            "Category2\n"
          ],
          "name": "stdout"
        }
      ]
    },
    {
      "cell_type": "markdown",
      "metadata": {
        "id": "QzInqwGETLBi",
        "colab_type": "text"
      },
      "source": [
        "To calculate number of times the attendee has attended the camp"
      ]
    },
    {
      "cell_type": "code",
      "metadata": {
        "id": "CaeryMa7XGAy",
        "colab_type": "code",
        "colab": {}
      },
      "source": [
        "grouped_df=Final_Train.groupby(\"Patient_ID\",as_index=False).agg('size').reset_index()\n",
        "grouped_df.columns=[\"Patient_ID\",\"var_count\"]\n",
        "merged_df=pd.merge(Final_Train,grouped_df,how=\"left\",on=\"Patient_ID\")\n",
        "merged_df.fillna(-1,inplace=True)"
      ],
      "execution_count": 50,
      "outputs": []
    },
    {
      "cell_type": "code",
      "metadata": {
        "id": "cFrSYVLLX4HI",
        "colab_type": "code",
        "colab": {
          "base_uri": "https://localhost:8080/",
          "height": 211
        },
        "outputId": "e2656bf0-4276-46d5-f82a-dd23c0e5d7b8"
      },
      "source": [
        "merged_df.head()"
      ],
      "execution_count": 51,
      "outputs": [
        {
          "output_type": "execute_result",
          "data": {
            "text/html": [
              "<div>\n",
              "<style scoped>\n",
              "    .dataframe tbody tr th:only-of-type {\n",
              "        vertical-align: middle;\n",
              "    }\n",
              "\n",
              "    .dataframe tbody tr th {\n",
              "        vertical-align: top;\n",
              "    }\n",
              "\n",
              "    .dataframe thead th {\n",
              "        text-align: right;\n",
              "    }\n",
              "</style>\n",
              "<table border=\"1\" class=\"dataframe\">\n",
              "  <thead>\n",
              "    <tr style=\"text-align: right;\">\n",
              "      <th></th>\n",
              "      <th>Patient_ID</th>\n",
              "      <th>Health_Camp_ID</th>\n",
              "      <th>Registration_Date</th>\n",
              "      <th>Var1</th>\n",
              "      <th>Var2</th>\n",
              "      <th>Var3</th>\n",
              "      <th>Var4</th>\n",
              "      <th>Var5</th>\n",
              "      <th>Outcome</th>\n",
              "      <th>Online_Follower</th>\n",
              "      <th>LinkedIn_Shared</th>\n",
              "      <th>Twitter_Shared</th>\n",
              "      <th>Facebook_Shared</th>\n",
              "      <th>Income</th>\n",
              "      <th>Education_Score</th>\n",
              "      <th>Age</th>\n",
              "      <th>First_Interaction</th>\n",
              "      <th>City_Type</th>\n",
              "      <th>Employer_Category</th>\n",
              "      <th>Camp_Start_Date</th>\n",
              "      <th>Camp_End_Date</th>\n",
              "      <th>Category1</th>\n",
              "      <th>Category2</th>\n",
              "      <th>Category3</th>\n",
              "      <th>Camp_Duration_Days</th>\n",
              "      <th>Diff_CampStart_Registration</th>\n",
              "      <th>Diff_CampEnd_Registration</th>\n",
              "      <th>Diff_Registration_FirstInteraction</th>\n",
              "      <th>Diff_CampStart_FirstInteraction</th>\n",
              "      <th>var_count</th>\n",
              "    </tr>\n",
              "  </thead>\n",
              "  <tbody>\n",
              "    <tr>\n",
              "      <th>0</th>\n",
              "      <td>489652</td>\n",
              "      <td>6578</td>\n",
              "      <td>2005-09-10</td>\n",
              "      <td>4</td>\n",
              "      <td>0</td>\n",
              "      <td>0</td>\n",
              "      <td>0</td>\n",
              "      <td>2</td>\n",
              "      <td>1</td>\n",
              "      <td>0</td>\n",
              "      <td>0</td>\n",
              "      <td>0</td>\n",
              "      <td>0</td>\n",
              "      <td>-99.0</td>\n",
              "      <td>-99.0</td>\n",
              "      <td>-99.0</td>\n",
              "      <td>2004-12-06</td>\n",
              "      <td>0</td>\n",
              "      <td>0</td>\n",
              "      <td>2005-08-16</td>\n",
              "      <td>2005-10-14</td>\n",
              "      <td>2</td>\n",
              "      <td>6</td>\n",
              "      <td>2</td>\n",
              "      <td>59</td>\n",
              "      <td>-25</td>\n",
              "      <td>34</td>\n",
              "      <td>278</td>\n",
              "      <td>253</td>\n",
              "      <td>10</td>\n",
              "    </tr>\n",
              "    <tr>\n",
              "      <th>1</th>\n",
              "      <td>507246</td>\n",
              "      <td>6578</td>\n",
              "      <td>2005-08-18</td>\n",
              "      <td>45</td>\n",
              "      <td>5</td>\n",
              "      <td>0</td>\n",
              "      <td>0</td>\n",
              "      <td>7</td>\n",
              "      <td>0</td>\n",
              "      <td>0</td>\n",
              "      <td>0</td>\n",
              "      <td>0</td>\n",
              "      <td>0</td>\n",
              "      <td>1.0</td>\n",
              "      <td>75.0</td>\n",
              "      <td>40.0</td>\n",
              "      <td>2004-09-08</td>\n",
              "      <td>3</td>\n",
              "      <td>8</td>\n",
              "      <td>2005-08-16</td>\n",
              "      <td>2005-10-14</td>\n",
              "      <td>2</td>\n",
              "      <td>6</td>\n",
              "      <td>2</td>\n",
              "      <td>59</td>\n",
              "      <td>-2</td>\n",
              "      <td>57</td>\n",
              "      <td>344</td>\n",
              "      <td>342</td>\n",
              "      <td>18</td>\n",
              "    </tr>\n",
              "    <tr>\n",
              "      <th>2</th>\n",
              "      <td>523729</td>\n",
              "      <td>6534</td>\n",
              "      <td>2006-04-29</td>\n",
              "      <td>0</td>\n",
              "      <td>0</td>\n",
              "      <td>0</td>\n",
              "      <td>0</td>\n",
              "      <td>0</td>\n",
              "      <td>1</td>\n",
              "      <td>0</td>\n",
              "      <td>0</td>\n",
              "      <td>0</td>\n",
              "      <td>0</td>\n",
              "      <td>-99.0</td>\n",
              "      <td>-99.0</td>\n",
              "      <td>-99.0</td>\n",
              "      <td>2004-06-22</td>\n",
              "      <td>0</td>\n",
              "      <td>0</td>\n",
              "      <td>2005-10-17</td>\n",
              "      <td>2007-11-07</td>\n",
              "      <td>1</td>\n",
              "      <td>0</td>\n",
              "      <td>2</td>\n",
              "      <td>751</td>\n",
              "      <td>-194</td>\n",
              "      <td>557</td>\n",
              "      <td>676</td>\n",
              "      <td>482</td>\n",
              "      <td>5</td>\n",
              "    </tr>\n",
              "    <tr>\n",
              "      <th>3</th>\n",
              "      <td>524931</td>\n",
              "      <td>6535</td>\n",
              "      <td>2004-02-07</td>\n",
              "      <td>0</td>\n",
              "      <td>0</td>\n",
              "      <td>0</td>\n",
              "      <td>0</td>\n",
              "      <td>0</td>\n",
              "      <td>0</td>\n",
              "      <td>0</td>\n",
              "      <td>0</td>\n",
              "      <td>0</td>\n",
              "      <td>0</td>\n",
              "      <td>-99.0</td>\n",
              "      <td>-99.0</td>\n",
              "      <td>-99.0</td>\n",
              "      <td>2004-02-07</td>\n",
              "      <td>9</td>\n",
              "      <td>0</td>\n",
              "      <td>2004-02-01</td>\n",
              "      <td>2004-02-18</td>\n",
              "      <td>0</td>\n",
              "      <td>4</td>\n",
              "      <td>2</td>\n",
              "      <td>17</td>\n",
              "      <td>-6</td>\n",
              "      <td>11</td>\n",
              "      <td>0</td>\n",
              "      <td>-6</td>\n",
              "      <td>5</td>\n",
              "    </tr>\n",
              "    <tr>\n",
              "      <th>4</th>\n",
              "      <td>521364</td>\n",
              "      <td>6529</td>\n",
              "      <td>2006-02-28</td>\n",
              "      <td>15</td>\n",
              "      <td>1</td>\n",
              "      <td>0</td>\n",
              "      <td>0</td>\n",
              "      <td>7</td>\n",
              "      <td>1</td>\n",
              "      <td>0</td>\n",
              "      <td>0</td>\n",
              "      <td>0</td>\n",
              "      <td>1</td>\n",
              "      <td>1.0</td>\n",
              "      <td>70.0</td>\n",
              "      <td>40.0</td>\n",
              "      <td>2003-07-04</td>\n",
              "      <td>9</td>\n",
              "      <td>12</td>\n",
              "      <td>2006-03-30</td>\n",
              "      <td>2006-04-03</td>\n",
              "      <td>1</td>\n",
              "      <td>0</td>\n",
              "      <td>2</td>\n",
              "      <td>4</td>\n",
              "      <td>30</td>\n",
              "      <td>34</td>\n",
              "      <td>970</td>\n",
              "      <td>1000</td>\n",
              "      <td>17</td>\n",
              "    </tr>\n",
              "  </tbody>\n",
              "</table>\n",
              "</div>"
            ],
            "text/plain": [
              "   Patient_ID  Health_Camp_ID  ... Diff_CampStart_FirstInteraction  var_count\n",
              "0      489652            6578  ...                             253         10\n",
              "1      507246            6578  ...                             342         18\n",
              "2      523729            6534  ...                             482          5\n",
              "3      524931            6535  ...                              -6          5\n",
              "4      521364            6529  ...                            1000         17\n",
              "\n",
              "[5 rows x 30 columns]"
            ]
          },
          "metadata": {
            "tags": []
          },
          "execution_count": 51
        }
      ]
    },
    {
      "cell_type": "code",
      "metadata": {
        "id": "hGpBkQz4ZlKj",
        "colab_type": "code",
        "colab": {
          "base_uri": "https://localhost:8080/"
        },
        "outputId": "0b8b0ee0-bac9-48b3-d977-3532fdf146a6"
      },
      "source": [
        "merged_df.shape"
      ],
      "execution_count": null,
      "outputs": [
        {
          "output_type": "execute_result",
          "data": {
            "text/plain": [
              "(74944, 30)"
            ]
          },
          "metadata": {
            "tags": []
          },
          "execution_count": 386
        }
      ]
    },
    {
      "cell_type": "code",
      "metadata": {
        "id": "Oegy2N6QYzxt",
        "colab_type": "code",
        "colab": {}
      },
      "source": [
        "\n",
        "Final_Train = Final_Train.sort_values(['Camp_Start_Date', 'Camp_End_Date', 'Patient_ID']).reset_index(drop=True)"
      ],
      "execution_count": 52,
      "outputs": []
    },
    {
      "cell_type": "code",
      "metadata": {
        "id": "ORS6mpKuZZSB",
        "colab_type": "code",
        "colab": {
          "base_uri": "https://localhost:8080/",
          "height": 33
        },
        "outputId": "9cc1c7fc-0c76-4201-a1bf-7cd97fa1aae1"
      },
      "source": [
        "Final_Train.shape"
      ],
      "execution_count": 53,
      "outputs": [
        {
          "output_type": "execute_result",
          "data": {
            "text/plain": [
              "(74944, 29)"
            ]
          },
          "metadata": {
            "tags": []
          },
          "execution_count": 53
        }
      ]
    },
    {
      "cell_type": "markdown",
      "metadata": {
        "id": "0b0-tCk79T8U",
        "colab_type": "text"
      },
      "source": [
        "### Data Prepration Part 2"
      ]
    },
    {
      "cell_type": "markdown",
      "metadata": {
        "id": "6Fr1vgCmUDwv",
        "colab_type": "text"
      },
      "source": [
        "Perform right join on Final_Train with  merged_df[['Patient_ID','Health_Camp_ID','var_count']] ,on 'Patient_ID','Health_Camp_ID' . (It will add the new var_count column)"
      ]
    },
    {
      "cell_type": "code",
      "metadata": {
        "id": "HGuUQHsNZxYB",
        "colab_type": "code",
        "colab": {}
      },
      "source": [
        "Ftrain=Final_Train.merge(merged_df[['Patient_ID','Health_Camp_ID','var_count']],on=['Patient_ID','Health_Camp_ID'],how='right')"
      ],
      "execution_count": 54,
      "outputs": []
    },
    {
      "cell_type": "code",
      "metadata": {
        "id": "CUgaHmkaaWWp",
        "colab_type": "code",
        "colab": {
          "base_uri": "https://localhost:8080/",
          "height": 33
        },
        "outputId": "68ffe43f-f201-4d35-acfc-1de1d78f84de"
      },
      "source": [
        "Ftrain.shape"
      ],
      "execution_count": 55,
      "outputs": [
        {
          "output_type": "execute_result",
          "data": {
            "text/plain": [
              "(74944, 30)"
            ]
          },
          "metadata": {
            "tags": []
          },
          "execution_count": 55
        }
      ]
    },
    {
      "cell_type": "markdown",
      "metadata": {
        "id": "7JVTwJgEUtG5",
        "colab_type": "text"
      },
      "source": [
        "Q16) Plot barplot for first 15 value counts for 'var_count' variable?\n",
        "\n",
        "Hint: \n",
        "\n",
        "```\n",
        "Ftrain.var_count.value_counts()[:15].plot(kind='bar')\n",
        "\n",
        "```"
      ]
    },
    {
      "cell_type": "code",
      "metadata": {
        "id": "Wjl5U4-6a1bN",
        "colab_type": "code",
        "colab": {}
      },
      "source": [
        ""
      ],
      "execution_count": null,
      "outputs": []
    },
    {
      "cell_type": "markdown",
      "metadata": {
        "id": "F-eOtRJEVQgB",
        "colab_type": "text"
      },
      "source": [
        "Creating a new feature customer_type, where 1 means Repeatng Patient & 0 means New Patient "
      ]
    },
    {
      "cell_type": "code",
      "metadata": {
        "id": "I9ZrpKaSblx0",
        "colab_type": "code",
        "colab": {}
      },
      "source": [
        "# 1 -> Repeating Patient ; 0-> New Patientt\n",
        "Ftrain['customer_type']=np.NaN\n",
        "Ftrain.loc[Ftrain.var_count==1,'customer_type']=0\n",
        "Ftrain.loc[Ftrain.var_count>1,'customer_type']=1"
      ],
      "execution_count": 57,
      "outputs": []
    },
    {
      "cell_type": "code",
      "metadata": {
        "id": "XnLBaG1Ze-q3",
        "colab_type": "code",
        "colab": {
          "base_uri": "https://localhost:8080/",
          "height": 66
        },
        "outputId": "89764925-9724-473e-a451-5bba96f7fdb9"
      },
      "source": [
        "Ftrain['customer_type'].value_counts()"
      ],
      "execution_count": null,
      "outputs": [
        {
          "output_type": "execute_result",
          "data": {
            "text/plain": [
              "1.0    59263\n",
              "0.0    15681\n",
              "Name: customer_type, dtype: int64"
            ]
          },
          "metadata": {
            "tags": []
          },
          "execution_count": 43
        }
      ]
    },
    {
      "cell_type": "markdown",
      "metadata": {
        "id": "-r-PPoDSWMQ4",
        "colab_type": "text"
      },
      "source": [
        "Q17) Drop 'var_count' variable from Ftrain dataframe?"
      ]
    },
    {
      "cell_type": "code",
      "metadata": {
        "id": "kTmIZhU8fGRF",
        "colab_type": "code",
        "colab": {}
      },
      "source": [
        ""
      ],
      "execution_count": 58,
      "outputs": []
    },
    {
      "cell_type": "markdown",
      "metadata": {
        "id": "iR1wuCZeZTjU",
        "colab_type": "text"
      },
      "source": [
        "Q18) To understand have attendees registered post start of camp ,plot bar plot for first 10 value counts for Diff_CampStart_Registration.\n",
        "\n",
        "Hint:\n",
        "\n",
        "```\n",
        "Ftrain['Diff_CampStart_Registration'].value_counts()[:10].plot(kind='bar')\n",
        "```"
      ]
    },
    {
      "cell_type": "code",
      "metadata": {
        "id": "JC3n2ATfgfKp",
        "colab_type": "code",
        "colab": {}
      },
      "source": [
        ""
      ],
      "execution_count": null,
      "outputs": []
    },
    {
      "cell_type": "code",
      "metadata": {
        "id": "6OXoWphvgtY9",
        "colab_type": "code",
        "colab": {
          "base_uri": "https://localhost:8080/",
          "height": 288
        },
        "outputId": "69001ffa-4857-4dac-bbbd-0f4944adca6a"
      },
      "source": [
        "Final_Train[\"Diff_CampEnd_Registration\"].value_counts()[:15].plot(kind='bar')"
      ],
      "execution_count": 60,
      "outputs": [
        {
          "output_type": "execute_result",
          "data": {
            "text/plain": [
              "<matplotlib.axes._subplots.AxesSubplot at 0x7ff9071d89e8>"
            ]
          },
          "metadata": {
            "tags": []
          },
          "execution_count": 60
        },
        {
          "output_type": "display_data",
          "data": {
            "image/png": "[encoded data removed]",
            "text/plain": [
              "<Figure size 432x288 with 1 Axes>"
            ]
          },
          "metadata": {
            "tags": [],
            "needs_background": "light"
          }
        }
      ]
    },
    {
      "cell_type": "markdown",
      "metadata": {
        "id": "cqggLwxMzxEl",
        "colab_type": "text"
      },
      "source": [
        "We can see there are people who have registered even 1 day before the camp ending day "
      ]
    },
    {
      "cell_type": "markdown",
      "metadata": {
        "id": "7L8HxUfPayhC",
        "colab_type": "text"
      },
      "source": [
        "Creating a New Feature Registration_Type , 1 means Registered post start of camp, 0 means pre-starting of camp"
      ]
    },
    {
      "cell_type": "code",
      "metadata": {
        "id": "7Ltd631CmAAD",
        "colab_type": "code",
        "colab": {}
      },
      "source": [
        "# Registration 1- post start of camp ; 0- pre starting of camp\n",
        "Ftrain['Registration_Type']=np.NaN\n",
        "Ftrain.loc[Ftrain['Diff_CampStart_Registration']<=0,'Registration_Type']=1\n",
        "Ftrain.loc[Ftrain['Diff_CampStart_Registration']>0,'Registration_Type']=0"
      ],
      "execution_count": 61,
      "outputs": []
    },
    {
      "cell_type": "code",
      "metadata": {
        "id": "Pv_VhbSj1BO3",
        "colab_type": "code",
        "colab": {
          "base_uri": "https://localhost:8080/",
          "height": 290
        },
        "outputId": "9e671bca-8d24-4957-99a7-b1164e6c4d13"
      },
      "source": [
        "Ftrain['Registration_Type'].value_counts().plot(kind='bar')"
      ],
      "execution_count": 62,
      "outputs": [
        {
          "output_type": "execute_result",
          "data": {
            "text/plain": [
              "<matplotlib.axes._subplots.AxesSubplot at 0x7ff9071c4d30>"
            ]
          },
          "metadata": {
            "tags": []
          },
          "execution_count": 62
        },
        {
          "output_type": "display_data",
          "data": {
            "image/png": "[encoded data removed]",
            "text/plain": [
              "<Figure size 432x288 with 1 Axes>"
            ]
          },
          "metadata": {
            "tags": [],
            "needs_background": "light"
          }
        }
      ]
    },
    {
      "cell_type": "markdown",
      "metadata": {
        "id": "Cqi0BY7Q1QHn",
        "colab_type": "text"
      },
      "source": [
        "We can see there are atleast twice the attendees who have registered after the camp has started"
      ]
    },
    {
      "cell_type": "markdown",
      "metadata": {
        "id": "BdZScagpbhto",
        "colab_type": "text"
      },
      "source": [
        "Q19) To understand first interaction with attendees ,plot bar plot for first 10 value counts for Diff_Registration_FirstInteraction."
      ]
    },
    {
      "cell_type": "code",
      "metadata": {
        "id": "pXO8U-L31Iaw",
        "colab_type": "code",
        "colab": {}
      },
      "source": [
        ""
      ],
      "execution_count": null,
      "outputs": []
    },
    {
      "cell_type": "markdown",
      "metadata": {
        "id": "9AmOGahk41Ii",
        "colab_type": "text"
      },
      "source": [
        "We see most of them had same day first interaction when they registered"
      ]
    },
    {
      "cell_type": "markdown",
      "metadata": {
        "id": "jiHmgAnocOKR",
        "colab_type": "text"
      },
      "source": [
        "Q20) To understand first interaction with attendees ,plot bar plot for first 10 value counts for Diff_CampStart_FirstInteraction."
      ]
    },
    {
      "cell_type": "code",
      "metadata": {
        "id": "p1Hp_vPn4l0T",
        "colab_type": "code",
        "colab": {}
      },
      "source": [
        ""
      ],
      "execution_count": null,
      "outputs": []
    },
    {
      "cell_type": "markdown",
      "metadata": {
        "id": "orTA7AazcZi3",
        "colab_type": "text"
      },
      "source": [
        "Create new Feature Interaction Type where 1 means Interaction Post camp started and 0 means pre camp started"
      ]
    },
    {
      "cell_type": "code",
      "metadata": {
        "id": "Zn194Vhz6JtZ",
        "colab_type": "code",
        "colab": {}
      },
      "source": [
        "# Interaction Type 1-> Post Camp Started ; 0 -> Pre camp started\n",
        "Ftrain['Interaction_Type']=np.NaN\n",
        "Ftrain.loc[Final_Train[\"Diff_CampStart_FirstInteraction\"]<=0,'Interaction_Type']=1\n",
        "Ftrain.loc[Final_Train[\"Diff_CampStart_FirstInteraction\"]>0,'Interaction_Type']=0"
      ],
      "execution_count": 65,
      "outputs": []
    },
    {
      "cell_type": "code",
      "metadata": {
        "id": "UVpcawvi7PX8",
        "colab_type": "code",
        "colab": {
          "base_uri": "https://localhost:8080/",
          "height": 287
        },
        "outputId": "bebb4a9e-6459-4f89-d449-a059b992f4f2"
      },
      "source": [
        "Ftrain['Interaction_Type'].value_counts().plot(kind='bar')"
      ],
      "execution_count": 66,
      "outputs": [
        {
          "output_type": "execute_result",
          "data": {
            "text/plain": [
              "<matplotlib.axes._subplots.AxesSubplot at 0x7ff906f98128>"
            ]
          },
          "metadata": {
            "tags": []
          },
          "execution_count": 66
        },
        {
          "output_type": "display_data",
          "data": {
            "image/png": "[encoded data removed]",
            "text/plain": [
              "<Figure size 432x288 with 1 Axes>"
            ]
          },
          "metadata": {
            "tags": [],
            "needs_background": "light"
          }
        }
      ]
    },
    {
      "cell_type": "markdown",
      "metadata": {
        "id": "zR7X172N7pkR",
        "colab_type": "text"
      },
      "source": [
        "We can see most of the people approximately twice the attendees had their first interaction befor camp start day"
      ]
    },
    {
      "cell_type": "markdown",
      "metadata": {
        "id": "sSElA3AMcv85",
        "colab_type": "text"
      },
      "source": [
        "Q21) Drop the following columns from the Ftrain data frame: \n",
        "\n",
        "'Diff_CampStart_FirstInteraction','Diff_Registration_FirstInteraction','Diff_CampEnd_Registration','Diff_CampStart_Registration','Registration_Date', 'Camp_Start_Date','Camp_End_Date','First_Interaction','Patient_ID','Health_Camp_ID'\n",
        "\n",
        "Use inplace parameter in .drop() function and set it as true\n",
        "\n",
        "Hint:\n",
        "\n",
        "```\n",
        "X.drop(['column1','column2'],axis=1,inplace=True)\n",
        "```"
      ]
    },
    {
      "cell_type": "code",
      "metadata": {
        "id": "LbrJmioq7Z2C",
        "colab_type": "code",
        "colab": {}
      },
      "source": [
        ""
      ],
      "execution_count": 67,
      "outputs": []
    },
    {
      "cell_type": "markdown",
      "metadata": {
        "id": "huDfOjr89oEL",
        "colab_type": "text"
      },
      "source": [
        "### Normalize Data"
      ]
    },
    {
      "cell_type": "code",
      "metadata": {
        "id": "-wob7NmfAVdK",
        "colab_type": "code",
        "colab": {}
      },
      "source": [
        "# This Function Removes the Outlier\n",
        "def outlier(Ftrain,col):\n",
        "    IQR=Ftrain[col].quantile(.75)-Ftrain[col].quantile(.25)\n",
        "    upper_bound=Ftrain[col].quantile(.75) + ( 1.5 * IQR)\n",
        "    lower_bound=Ftrain[col].quantile(.25) - ( 1.5 * IQR)\n",
        "    Ftrain[col].clip(lower=lower_bound,upper=upper_bound,inplace=True)"
      ],
      "execution_count": 69,
      "outputs": []
    },
    {
      "cell_type": "code",
      "metadata": {
        "id": "bffPIsL4AEYV",
        "colab_type": "code",
        "colab": {}
      },
      "source": [
        "sns.boxplot(Ftrain.Camp_Duration_Days)"
      ],
      "execution_count": null,
      "outputs": []
    },
    {
      "cell_type": "code",
      "metadata": {
        "id": "zU4iz00nAInZ",
        "colab_type": "code",
        "colab": {}
      },
      "source": [
        "outlier(Ftrain,'Camp_Duration_Days')"
      ],
      "execution_count": 71,
      "outputs": []
    },
    {
      "cell_type": "code",
      "metadata": {
        "id": "PPzvmSB2AuEg",
        "colab_type": "code",
        "colab": {}
      },
      "source": [
        "sns.boxplot(Ftrain.Camp_Duration_Days)"
      ],
      "execution_count": null,
      "outputs": []
    },
    {
      "cell_type": "code",
      "metadata": {
        "id": "ShWRy2oS_CSK",
        "colab_type": "code",
        "colab": {}
      },
      "source": [
        "#Perform normalization of continuous variable\n",
        "num_col=['Var1','Var2','Var3','Var4','Var5','Education_Score','Age','Camp_Duration_Days']\n",
        "norm=preprocessing.Normalizer().fit_transform(Ftrain[num_col])\n",
        "norm=pd.DataFrame(norm,columns=num_col)\n",
        "Ftrain.drop(num_col,axis=1,inplace=True)\n",
        "Ftrain=pd.concat([Ftrain,norm],axis=1)"
      ],
      "execution_count": 74,
      "outputs": []
    },
    {
      "cell_type": "markdown",
      "metadata": {
        "id": "HY3HcwF6Hkci",
        "colab_type": "text"
      },
      "source": [
        "### Splitting the Data Set"
      ]
    },
    {
      "cell_type": "code",
      "metadata": {
        "id": "qHLNmtQzHe8K",
        "colab_type": "code",
        "colab": {}
      },
      "source": [
        "#Segregating Independent variable and Dependent Variable\n",
        "X_Data=Ftrain.drop('Outcome',axis=1)\n",
        "y_data=Ftrain[['Outcome']]"
      ],
      "execution_count": 77,
      "outputs": []
    },
    {
      "cell_type": "code",
      "metadata": {
        "id": "7skT2BT5Kfh0",
        "colab_type": "code",
        "colab": {
          "base_uri": "https://localhost:8080/",
          "height": 33
        },
        "outputId": "78e2f4cd-1299-4f8c-e496-160a907a484b"
      },
      "source": [
        "X_Data.shape"
      ],
      "execution_count": 78,
      "outputs": [
        {
          "output_type": "execute_result",
          "data": {
            "text/plain": [
              "(74944, 21)"
            ]
          },
          "metadata": {
            "tags": []
          },
          "execution_count": 78
        }
      ]
    },
    {
      "cell_type": "markdown",
      "metadata": {
        "id": "a0d_PMl8eytR",
        "colab_type": "text"
      },
      "source": [
        "Q22)Using train_test_split spilt the data set in ratio of 80:20?\n",
        "\n",
        "Use random_state parameter and set its value as 2\n",
        "\n",
        "Hint:\n",
        "\n",
        "```\n",
        "X_train,X_test,y_train,y_test=tts(X,y,test_size=.20,random_state=2)\n",
        "```"
      ]
    },
    {
      "cell_type": "code",
      "metadata": {
        "id": "0K_TbygibP_Z",
        "colab_type": "code",
        "colab": {}
      },
      "source": [
        ""
      ],
      "execution_count": 79,
      "outputs": []
    },
    {
      "cell_type": "markdown",
      "metadata": {
        "id": "0-j2KPRFb_FY",
        "colab_type": "text"
      },
      "source": [
        "### Important Feature Selection & Decision Tree as Base Model"
      ]
    },
    {
      "cell_type": "markdown",
      "metadata": {
        "id": "svEAzl_TEiuc",
        "colab_type": "text"
      },
      "source": [
        "1. Feature Importance using Decision Tree attribute feature_importances_"
      ]
    },
    {
      "cell_type": "code",
      "metadata": {
        "id": "ulk5fZFNb7UZ",
        "colab_type": "code",
        "colab": {}
      },
      "source": [
        "Feature_Selection_clf=DTC(criterion='gini').fit(X_train,y_train)"
      ],
      "execution_count": 80,
      "outputs": []
    },
    {
      "cell_type": "code",
      "metadata": {
        "id": "t6Bbd_eLcgQM",
        "colab_type": "code",
        "colab": {}
      },
      "source": [
        "cols=X_train.columns\n",
        "impo=Feature_Selection_clf.feature_importances_\n",
        "Feature_Importance=pd.DataFrame(cols,columns=['Columns'])\n",
        "Feature_Importance['Importance']=impo"
      ],
      "execution_count": 82,
      "outputs": []
    },
    {
      "cell_type": "code",
      "metadata": {
        "id": "zH6CyUqDdAdA",
        "colab_type": "code",
        "colab": {}
      },
      "source": [
        "Feature_Importance"
      ],
      "execution_count": null,
      "outputs": []
    },
    {
      "cell_type": "markdown",
      "metadata": {
        "id": "88yH632zEu7P",
        "colab_type": "text"
      },
      "source": [
        "2. Feature Importance using RFE"
      ]
    },
    {
      "cell_type": "code",
      "metadata": {
        "id": "fSCsttmCd6_o",
        "colab_type": "code",
        "colab": {}
      },
      "source": [
        "Feature_Selection_clf=DTC(criterion='gini')\n",
        "rfe = RFE(Feature_Selection_clf, 3)\n",
        "rfe = rfe.fit(X_train, y_train.values.ravel())\n",
        "# print summaries for the selection of attributes\n",
        "print(X_train.columns)\n",
        "print(rfe.ranking_)"
      ],
      "execution_count": null,
      "outputs": []
    },
    {
      "cell_type": "code",
      "metadata": {
        "id": "Nn5bkBbTfFa1",
        "colab_type": "code",
        "colab": {}
      },
      "source": [
        "imp_cols=X_train.loc[:,rfe.support_==True].columns.values"
      ],
      "execution_count": 92,
      "outputs": []
    },
    {
      "cell_type": "code",
      "metadata": {
        "id": "gI4H-Yvcffgq",
        "colab_type": "code",
        "colab": {}
      },
      "source": [
        "selected_data=X_train[imp_cols]"
      ],
      "execution_count": 93,
      "outputs": []
    },
    {
      "cell_type": "code",
      "metadata": {
        "id": "MGGjt8YOhgnK",
        "colab_type": "code",
        "colab": {}
      },
      "source": [
        "clf=DTC(criterion='entropy').fit(selected_data,y_train)"
      ],
      "execution_count": 94,
      "outputs": []
    },
    {
      "cell_type": "code",
      "metadata": {
        "id": "or-T3z3Wh3Gz",
        "colab_type": "code",
        "colab": {}
      },
      "source": [
        "y_pred=clf.predict(selected_data)"
      ],
      "execution_count": 95,
      "outputs": []
    },
    {
      "cell_type": "code",
      "metadata": {
        "id": "x7uT5pTwh8B7",
        "colab_type": "code",
        "colab": {}
      },
      "source": [
        "#Create Classification Report\n",
        "print(classification_report(y_train,y_pred))"
      ],
      "execution_count": null,
      "outputs": []
    },
    {
      "cell_type": "code",
      "metadata": {
        "id": "9eA6C3P-iPUQ",
        "colab_type": "code",
        "colab": {}
      },
      "source": [
        "selected_data_t=X_test[imp_cols]"
      ],
      "execution_count": 97,
      "outputs": []
    },
    {
      "cell_type": "code",
      "metadata": {
        "id": "hv1NJ3FdiXMy",
        "colab_type": "code",
        "colab": {}
      },
      "source": [
        "y_pred_t=clf.predict(selected_data_t)"
      ],
      "execution_count": 98,
      "outputs": []
    },
    {
      "cell_type": "code",
      "metadata": {
        "id": "SHYv3VJvic8E",
        "colab_type": "code",
        "colab": {}
      },
      "source": [
        "print(classification_report(y_test,y_pred_t))"
      ],
      "execution_count": null,
      "outputs": []
    },
    {
      "cell_type": "markdown",
      "metadata": {
        "id": "4ru97rTm8XU2",
        "colab_type": "text"
      },
      "source": [
        "**We see there is overfitting in te model as accuracy over training data was .84 and on test data it is .78**"
      ]
    },
    {
      "cell_type": "code",
      "metadata": {
        "id": "FFeRyiSX5JuH",
        "colab_type": "code",
        "colab": {}
      },
      "source": [
        ""
      ],
      "execution_count": null,
      "outputs": []
    },
    {
      "cell_type": "markdown",
      "metadata": {
        "id": "Wh66sN4j8eFa",
        "colab_type": "text"
      },
      "source": [
        "### XGBOOST"
      ]
    },
    {
      "cell_type": "markdown",
      "metadata": {
        "id": "4lq4mZOC8m7N",
        "colab_type": "text"
      },
      "source": [
        "- XGBoost is an implementation of gradient boosted decision trees designed for speed and performance that is dominative competitive machine learning.\n",
        "\n",
        "**What is XGBOOST?**\n",
        "\n",
        "XGBoost is a decision-tree-based ensemble Machine Learning algorithm that uses a gradient boosting framework. In prediction problems involving unstructured data (images, text, etc.) artificial neural networks tend to outperform all other algorithms or frameworks. However, when it comes to small-to-medium structured/tabular data, decision tree based algorithms are considered best-in-class right now.\n",
        "\n",
        "Evolution of tree-based algorithms over the years :\n",
        "\n",
        "\n",
        "![alt text](https://miro.medium.com/max/700/1*QJZ6W-Pck_W7RlIDwUIN9Q.jpeg)\n",
        "\n",
        "The algorithm differentiates itself in the following ways:\n",
        "\n",
        "- A wide range of applications: Can be used to solve regression, classification, ranking, and user-defined prediction problems.\n",
        "\n",
        "- Portability: Runs smoothly on Windows, Linux, and OS X.\n",
        "\n",
        "- Languages: Supports all major programming languages including C++, Python, R, Java, Scala, and Julia.\n",
        "\n",
        "- Cloud Integration: Supports AWS, Azure, and Yarn clusters and works well with Flink, Spark, and other ecosystems.\n",
        "\n",
        "**How to build an intuition for XGBoost?**\n",
        "\n",
        "Imagine that you are a hiring manager interviewing several candidates with excellent qualifications. Each step of the evolution of tree-based algorithms can be viewed as a version of the interview process.\n",
        "\n",
        "\n",
        "- **Decision Tree**: Every hiring manager has a set of criteria such as education level, number of years of experience, interview performance. A decision tree is analogous to a hiring manager interviewing candidates based on his or her own criteria.\n",
        "\n",
        "- **Bagging**: Now imagine instead of a single interviewer, now there is an interview panel where each interviewer has a vote. Bagging or bootstrap aggregating involves combining inputs from all interviewers for the final decision through a democratic voting process.\n",
        "\n",
        "- **Random Forest**: Every interviewer will only test the interviewee on certain randomly selected qualifications (e.g. a technical interview for testing programming skills and a behavioral interview for evaluating non-technical skills).\n",
        "\n",
        "- **Boosting**: This is an alternative approach where each interviewer alters the evaluation criteria based on feedback from the previous interviewer. This ‘boosts’ the efficiency of the interview process by deploying a more dynamic evaluation process.\n",
        "\n",
        "- **Gradient Boosting**: A special case of boosting where errors are minimized by gradient descent algorithm e.g. the strategy consulting firms leverage by using case interviews to weed out less qualified candidates.\n",
        "\n",
        "- **XGBoost**: Think of XGBoost as gradient boosting on ‘steroids’ (well it is called ‘Extreme Gradient Boosting’ for a reason!). It is a perfect combination of software and hardware optimization techniques to yield superior results using less computing resources in the shortest amount of time.\n",
        "\n",
        "**Why does XGBoost perform so well?**\n",
        "\n",
        "XGBoost and Gradient Boosting Machines (GBMs) are both ensemble tree methods that apply the principle of boosting weak learners (CARTs generally) using the gradient descent architecture. However, XGBoost improves upon the base GBM framework through systems optimization and algorithmic enhancements.\n",
        "\n",
        "![alt text](https://miro.medium.com/max/700/1*FLshv-wVDfu-i54OqvZdHg.png)\n",
        "\n",
        "- **System Optimization:**\n",
        "\n",
        "  1. Parallelization: XGBoost approaches the process of sequential tree building using parallelized implementation. This is possible due to the interchangeable nature of loops used for building base learners; the outer loop that enumerates the leaf nodes of a tree, and the second inner loop that calculates the features. This nesting of loops limits parallelization because without completing the inner loop (more computationally demanding of the two), the outer loop cannot be started. Therefore, to improve run time, the order of loops is interchanged using initialization through a global scan of all instances and sorting using parallel threads. This switch improves algorithmic performance by offsetting any parallelization overheads in computation.\n",
        "\n",
        "  2. Tree Pruning: The stopping criterion for tree splitting within GBM framework is greedy in nature and depends on the negative loss criterion at the point of split. XGBoost uses ‘max_depth’ parameter as specified instead of criterion first, and starts pruning trees backward. This ‘depth-first’ approach improves computational performance significantly.\n",
        "\n",
        "**Algorithmic Enhancements:**\n",
        "\n",
        "  1. Regularization: It penalizes more complex models through both LASSO (L1) and Ridge (L2) regularization to prevent overfitting.\n",
        "\n",
        "  2. Sparsity Awareness: XGBoost naturally admits sparse features for inputs by automatically ‘learning’ best missing value depending on training loss and handles different types of sparsity patterns in the data more efficiently.\n",
        "\n",
        "  3. Weighted Quantile Sketch: XGBoost employs the distributed weighted Quantile Sketch algorithm to effectively find the optimal split points among weighted datasets.\n",
        "\n",
        "  4. Cross-validation: The algorithm comes with built-in cross-validation method at each iteration, taking away the need to explicitly program this search and to specify the exact number of boosting iterations required in a single run."
      ]
    },
    {
      "cell_type": "markdown",
      "metadata": {
        "id": "mi6RSQQgAMLo",
        "colab_type": "text"
      },
      "source": [
        "It is not that we start with XGBOOST.\n",
        "\n",
        "When it comes to Machine Learning, there is no free lunch. We must test all possible algorithms for data at hand to identify the best algorithm. Besides, picking the right algorithm is not enough. We must also choose the right configuration of the algorithm for a dataset by tuning the hyper-parameters. Furthermore, there are several other considerations for choosing the winning algorithm such as computational complexity, explainability, and ease of implementation. This is exactly the point where Machine Learning starts drifting away from science towards art, but honestly, that’s where the magic happens!"
      ]
    },
    {
      "cell_type": "markdown",
      "metadata": {
        "id": "3CsVxBrHHSA1",
        "colab_type": "text"
      },
      "source": [
        "Hyperparameters of XGBClassifier:\n",
        "\n",
        "- eta [default=0.3, alias: learning_rate] :\n",
        "\n",
        "Step size shrinkage used in update to prevents overfitting. After each boosting step, we can directly get the weights of new features, and eta shrinks the feature weights to make the boosting process more conservative. It ranges between 0 & 1\n",
        "\n",
        "- gamma [default=0]\n",
        "\n",
        "Minimum loss reduction required to make a further partition on a leaf node of the tree. The larger gamma is, the more conservative the algorithm will be.\n",
        "\n",
        "- max_depth [default=6]\n",
        "\n",
        "Maximum depth of a tree. Increasing this value will make the model more complex and more likely to overfit. 0 is only accepted in lossguided growing policy when tree_method is set as hist and it indicates no limit on depth. Beware that XGBoost aggressively consumes memory when training a deep tree.\n",
        "\n",
        "- max_delta_step [default=0]\n",
        "\n",
        "Maximum delta step we allow each leaf output to be. If the value is set to 0, it means there is no constraint. If it is set to a positive value, it can help making the update step more conservative. Usually this parameter is not needed, but it might help in logistic regression when class is extremely imbalanced. Set it to value of 1-10 might help control the update.\n",
        "\n",
        "range: [0,∞]\n",
        "\n"
      ]
    },
    {
      "cell_type": "code",
      "metadata": {
        "id": "Y2zdUT4_AKNw",
        "colab_type": "code",
        "colab": {}
      },
      "source": [
        ""
      ],
      "execution_count": null,
      "outputs": []
    },
    {
      "cell_type": "markdown",
      "metadata": {
        "id": "jsdA5KOiBIej",
        "colab_type": "text"
      },
      "source": [
        "### XGBOOST without Important Features "
      ]
    },
    {
      "cell_type": "markdown",
      "metadata": {
        "id": "tbI5NwJVjW95",
        "colab_type": "text"
      },
      "source": [
        "Q23) Create XGBOOST Classifier model without feature selection.Present your classification report for both prediction over training set and test set.\n",
        "\n",
        "(Optional) You can use GridSearchCV to tune hyperparameters like : max_depth,learning_rate,n_estimators"
      ]
    },
    {
      "cell_type": "code",
      "metadata": {
        "id": "6JUeyPGQ4moI",
        "colab_type": "code",
        "colab": {}
      },
      "source": [
        ""
      ],
      "execution_count": null,
      "outputs": []
    },
    {
      "cell_type": "markdown",
      "metadata": {
        "id": "uRffXlWwCFNb",
        "colab_type": "text"
      },
      "source": [
        "### XGBOOST Model with Important Features"
      ]
    },
    {
      "cell_type": "markdown",
      "metadata": {
        "id": "zdnpwPLgn4Rs",
        "colab_type": "text"
      },
      "source": [
        "Q24) Using Important Feature Selection as reference, Find Important Features, using them create XGBOOST Classifier Model.\n",
        "\n",
        "Present Classification Report over Prediction over training data and test data."
      ]
    },
    {
      "cell_type": "code",
      "metadata": {
        "id": "DhmXMdS30CUH",
        "colab_type": "code",
        "colab": {}
      },
      "source": [
        ""
      ],
      "execution_count": null,
      "outputs": []
    },
    {
      "cell_type": "code",
      "metadata": {
        "id": "g7zruCZd5eK2",
        "colab_type": "code",
        "colab": {}
      },
      "source": [
        ""
      ],
      "execution_count": null,
      "outputs": []
    },
    {
      "cell_type": "markdown",
      "metadata": {
        "id": "ghXQuy_6GvDq",
        "colab_type": "text"
      },
      "source": [
        "**Author** : Himanshu Birla. "
      ]
    },
    {
      "cell_type": "code",
      "metadata": {
        "id": "xoiEQAmCG87t",
        "colab_type": "code",
        "colab": {}
      },
      "source": [
        ""
      ],
      "execution_count": null,
      "outputs": []
    }
  ]
}